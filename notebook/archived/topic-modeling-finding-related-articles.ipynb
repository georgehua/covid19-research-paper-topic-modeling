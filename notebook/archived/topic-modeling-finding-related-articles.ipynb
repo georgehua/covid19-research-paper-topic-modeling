{
 "cells": [
  {
   "cell_type": "code",
   "execution_count": 21,
   "metadata": {
    "_kg_hide-input": true,
    "_kg_hide-output": true
   },
   "outputs": [],
   "source": [
    "# # Train/Load Model\n",
    "# if not (isfile(filepath + 'lda.csv')):\n",
    "#     print('File not there: generating')\n",
    "#     lda = LatentDirichletAllocation(n_components=50, random_state=0)\n",
    "#     lda.fit(data_vectorized)\n",
    "\n",
    "#     joblib.dump(lda, 'lda.csv')\n",
    "\n",
    "# else:\n",
    "#     lda = joblib.load(filepath + 'lda.csv') "
   ]
  },
  {
   "cell_type": "markdown",
   "metadata": {},
   "source": [
    "## Discovered Topics"
   ]
  },
  {
   "cell_type": "code",
   "execution_count": 22,
   "metadata": {
    "_kg_hide-input": true
   },
   "outputs": [],
   "source": [
    "def print_top_words(model, vectorizer, n_top_words):\n",
    "    feature_names = vectorizer.get_feature_names()\n",
    "    for topic_idx, topic in enumerate(model.components_):\n",
    "        message = \"\\nTopic #%d: \" % topic_idx\n",
    "        message += \" \".join([feature_names[i]\n",
    "                             for i in topic.argsort()[:-n_top_words - 1:-1]])\n",
    "        print(message)\n",
    "    print()"
   ]
  },
  {
   "cell_type": "code",
   "execution_count": 23,
   "metadata": {
    "_kg_hide-output": true
   },
   "outputs": [
    {
     "name": "stdout",
     "output_type": "stream",
     "text": [
      "\n",
      "Topic #0: protease peptide inhibitor activity cleavage enzyme fusion site cleave cathepsin substrate inhibit show cell amino acid cysteine sars-cov inhibition serine proteolytic residue protein coronavirus active\n",
      "\n",
      "Topic #1: sequence genome gene virus read sample viral analysis region dna identify nucleotide species alignment site human acid rna datum phylogenetic genomic method base length tree\n",
      "\n",
      "Topic #2: blood donor test transfusion study cf plasma patient sample result platelet antibody cell unit group product positive fiv screen donation perform time antigen increase high\n",
      "\n",
      "Topic #3: viral cell virus protein infection ifn antiviral target response signal replication type activity pathway inhibit rna expression gene host activation study sirna immune induce show\n",
      "\n",
      "Topic #4: bind antibody cell peptide epitope target protein receptor human surface antigen molecule affinity acid lectin neutralize mabs phage specific structure high interaction display sequence different\n",
      "\n",
      "Topic #5: disease cause lesion cat occur sign animal cell include tissue case clinical result dog affect horse small infection associate common present blood diagnosis fluid normal\n",
      "\n",
      "Topic #6: protein antibody serum sars-cov elisa recombinant igg show peptide sars purify sample antigen analysis express bind contain acid detect result cell blot fragment amino epitope\n",
      "\n",
      "Topic #7: brain cns cell ms disease patient neuron csf study astrocyte spinal lesion antibody demyelination cord mouse myelin infection eae antigen microglia autoimmune result show control\n",
      "\n",
      "Topic #8: membrane cell lipid protein rabbit vesicle fusion surface particle channel transport form plasma formation release structure acid bud process study cholesterol change bilayer small electron\n",
      "\n",
      "Topic #9: sample assay pcr detection primer dna rna reaction probe detect test method amplification target min rt-pcr result positive sensitivity real-time μl perform kit control product\n",
      "\n",
      "Topic #10: datum analysis information database set search method score numb base prediction predict different result value user cluster sequence include study codon provide group dataset bias\n",
      "\n",
      "Topic #11: disease pathogen human study gene approach system genetic example method new identify provide development include agent research host molecular species technology different specific technique potential\n",
      "\n",
      "Topic #12: model case numb time datum rate individual epidemic population estimate covid-19 infect infection day parameter transmission value holder disease author/funder contact spread available result outbreak\n",
      "\n",
      "Topic #13: activity acid effect cell show study extract compound plant inhibit increase enzyme drug concentration protein find report treatment result cancer group high rat inhibition reduce\n",
      "\n",
      "Topic #14: cell virus culture medium min incubate infect plate show infection assay concentration control ml antibody wash pbs time add mm determine result viral contain serum\n",
      "\n",
      "Topic #15: cell bone blood marrow platelet count lymphoma increase lymphocyte env exosomes felv hiv-1 plasma neutrophil leukemia g4 erythrocyte anemia decrease gene factor red report normal\n",
      "\n",
      "Topic #16: gene expression analysis level study cell response protein datum identify pathway express infection control transcript mrna human show associate allele change significant include high immune\n",
      "\n",
      "Topic #17: mers-cov sars-cov human mers coronavirus camel ace2 rbd spike sars-cov-2 cov saudi infection dpp4 receptor arabia respiratory study east middle animal dromedary antibody s1 protein\n",
      "\n",
      "Topic #18: protein cell er plant golgi glycoprotein membrane expression contain transport process signal show transgenic complex secretory result express glycosylation form pathway yeast enzyme label compartment\n",
      "\n",
      "Topic #19: asthma study symptom child nasal effect airway group treatment subject cold allergic increase common control trial cough reduce allergen allergy intervention year result level day\n",
      "\n",
      "Topic #20: model method network image value datum system \\usepackage{amsmath result study set different show time performance algorithm test base train feature propose analysis measure node point\n",
      "\n",
      "Topic #21: patient health care hospital sars outbreak risk medical disease report public study control staff case include infection pandemic nurse contact information covid-19 need healthcare emergency\n",
      "\n",
      "Topic #22: patient study lung clinical pneumonia disease treatment case group severe respiratory include day diagnosis pulmonary high hospital acute increase therapy result risk report mortality chest\n",
      "\n",
      "Topic #23: surface nanoparticle energy high method application solution system increase detection device property nm sensor material process low technique particle show bind base molecule biosensor polymer\n",
      "\n",
      "Topic #24: bat species virus human study host coronavirus sample hev hrv sequence detect find infection viral genus animal cov suggest identify reservoir group include respiratory different\n",
      "\n",
      "Topic #25: vaccine response vaccination immune antigen vector dna immunization delivery cell induce study adjuvant immunity protein mouse recombinant system protection dose high development gene antibody show\n",
      "\n",
      "Topic #26: disease case outbreak human transmission country infection animal report population infectious health risk surveillance area include cause year spread increase control epidemic pathogen high fever\n",
      "\n",
      "Topic #27: protein residue structure bind domain interaction site form mm complex peptide structural show ph region fusion conformation crystal substrate model chain fold loop sequence contain\n",
      "\n",
      "Topic #28: pig prrsv piglet porcine swine group virus rotavirus study pedv sow infection strain sample animal infect tgev antibody pcv2 farm detect serum ev71 herd high\n",
      "\n",
      "Topic #29: infection virus cause disease child bacterial bacterium pneumonia agent viral respiratory pathogen associate occur organism infant infect human common include culture cell find tract host\n",
      "\n",
      "Topic #30: rsv test specimen culture infection hmpv assay infant result respiratory virus laboratory positive sample detect viral detection clinical sensitivity negative method perform diagnostic bronchiolitis antigen\n",
      "\n",
      "Topic #31: air particle study room mask aerosol temperature concentration exposure droplet airborne ventilation flow filter rate high transmission respiratory wind show test pressure increase time result\n",
      "\n",
      "Topic #32: cell protein expression infection virus viral transfect express entry plasmid show result vector bind antibody indicate level fusion membrane transfection infect luciferase control ebov datum\n",
      "\n",
      "Topic #33: calve study isolate infection milk strain s. animal antibiotic cattle e. coli day sample result bacterium group c. herd antimicrobial resistance high bacterial cow diarrhea\n",
      "\n",
      "Topic #34: strain sequence gene ibv isolate virus pedv chicken study group sample show bird analysis acid genotype nucleotide protein region amino s1 genome coronavirus china different\n",
      "\n",
      "Topic #35: market effect study tourism risk increase result model cost variable change city china impact level industry economic high event factor price travel year time passenger\n",
      "\n",
      "Topic #36: work 1h hz submit 2h entity receive form institution report patent section information relationship disclose support igy influence fund ask mhz 3h sponsor cancer manuscript\n",
      "\n",
      "Topic #37: cell receptor response increase activation expression cytokine role immune lung macrophage signal protein inflammatory induce level mouse study function disease factor effect activate pathway inflammation\n",
      "\n",
      "Topic #38: patient treatment infection drug therapy clinical disease risk trial treat include dose day recipient study effect cause transplant agent high increase report antiviral cmv reduce\n",
      "\n",
      "Topic #39: study respiratory influenza virus infection patient child age case viral sample test year pneumonia symptom clinical report group high detect datum positive illness include day\n",
      "\n",
      "Topic #40: dog cat water animal sample food study high species test time concentration treatment canine veterinary control include surface breed environment find environmental range temperature soil\n",
      "\n",
      "Topic #41: rna mutation mutant nucleotide structure activity sequence polymerase rdrp show region dna wt strand result template substitution recombination helicase mm replication study position base di\n",
      "\n",
      "Topic #42: cell hcv viral infection replication autophagy hiv-1 virus protein hbv hiv apoptosis inhibitor antiviral inhibit infect activity effect show induce study treatment target drug pathway\n",
      "\n",
      "Topic #43: cell mouse cd8 cd4 expression response infection cytokine immune increase nk show lymphocyte level express tissue day human control lung result production study compare macrophage\n",
      "\n",
      "Topic #44: protein rna virus viral sequence replication translation mrna structure cell site genome synthesis region gene contain domain codon transcription bind complex show mrnas function interaction\n",
      "\n",
      "Topic #45: compound activity inhibitor group reaction derivative drug show active value ml acid yield pro structure concentration ring dock ic inhibition mixture solution obtain bond result\n",
      "\n",
      "Topic #46: health public system research country need global state development national include provide new service international government policy social work community plan issue support program resource\n",
      "\n",
      "Topic #47: virus viral influenza host human infection cell infect protein ha strain genome h5n1 replication virion avian receptor particle new cause de rna different family species\n",
      "\n",
      "Topic #48: patient study result university year group conclusion cell method median analysis age treatment child receive high month background day compare disease clinical datum follow chikv\n",
      "\n",
      "Topic #49: mouse infection virus day antibody animal response infect group viral cell titer lung challenge strain study serum immune level show tissue model high observe dose\n",
      "\n"
     ]
    }
   ],
   "source": [
    "print_top_words(lda, vectorizer, n_top_words=25)"
   ]
  },
  {
   "cell_type": "markdown",
   "metadata": {},
   "source": [
    "Each article is a mixture of topics / a distribution over topics"
   ]
  },
  {
   "cell_type": "code",
   "execution_count": 24,
   "metadata": {},
   "outputs": [],
   "source": [
    "doc_topic_dist = pd.DataFrame(lda.transform(data_vectorized))\n",
    "doc_topic_dist.to_csv('doc_topic_dist.csv', index=False)"
   ]
  },
  {
   "cell_type": "code",
   "execution_count": 25,
   "metadata": {
    "_kg_hide-input": true,
    "_kg_hide-output": true
   },
   "outputs": [],
   "source": [
    "# if not (isfile(filepath + 'doc_topic_dist.csv')):\n",
    "#         print('File not there: generating')\n",
    "#         doc_topic_dist = pd.DataFrame(lda.transform(data_vectorized))\n",
    "#         doc_topic_dist.to_csv('doc_topic_dist.csv', index=False)\n",
    "# else:\n",
    "#         doc_topic_dist = pd.read_csv(filepath + 'doc_topic_dist.csv')  "
   ]
  },
  {
   "cell_type": "code",
   "execution_count": 26,
   "metadata": {},
   "outputs": [
    {
     "data": {
      "text/html": [
       "<div>\n",
       "<style scoped>\n",
       "    .dataframe tbody tr th:only-of-type {\n",
       "        vertical-align: middle;\n",
       "    }\n",
       "\n",
       "    .dataframe tbody tr th {\n",
       "        vertical-align: top;\n",
       "    }\n",
       "\n",
       "    .dataframe thead th {\n",
       "        text-align: right;\n",
       "    }\n",
       "</style>\n",
       "<table border=\"1\" class=\"dataframe\">\n",
       "  <thead>\n",
       "    <tr style=\"text-align: right;\">\n",
       "      <th></th>\n",
       "      <th>0</th>\n",
       "      <th>1</th>\n",
       "      <th>2</th>\n",
       "      <th>3</th>\n",
       "      <th>4</th>\n",
       "      <th>5</th>\n",
       "      <th>6</th>\n",
       "      <th>7</th>\n",
       "      <th>8</th>\n",
       "      <th>9</th>\n",
       "      <th>...</th>\n",
       "      <th>40</th>\n",
       "      <th>41</th>\n",
       "      <th>42</th>\n",
       "      <th>43</th>\n",
       "      <th>44</th>\n",
       "      <th>45</th>\n",
       "      <th>46</th>\n",
       "      <th>47</th>\n",
       "      <th>48</th>\n",
       "      <th>49</th>\n",
       "    </tr>\n",
       "  </thead>\n",
       "  <tbody>\n",
       "    <tr>\n",
       "      <th>0</th>\n",
       "      <td>0.000014</td>\n",
       "      <td>0.000014</td>\n",
       "      <td>0.000014</td>\n",
       "      <td>0.000014</td>\n",
       "      <td>0.000014</td>\n",
       "      <td>0.000014</td>\n",
       "      <td>0.000014</td>\n",
       "      <td>0.000014</td>\n",
       "      <td>0.000014</td>\n",
       "      <td>0.000014</td>\n",
       "      <td>...</td>\n",
       "      <td>0.322831</td>\n",
       "      <td>0.000014</td>\n",
       "      <td>0.000014</td>\n",
       "      <td>0.000014</td>\n",
       "      <td>0.000014</td>\n",
       "      <td>0.000014</td>\n",
       "      <td>0.000014</td>\n",
       "      <td>0.009759</td>\n",
       "      <td>0.000014</td>\n",
       "      <td>0.201816</td>\n",
       "    </tr>\n",
       "    <tr>\n",
       "      <th>1</th>\n",
       "      <td>0.000007</td>\n",
       "      <td>0.068827</td>\n",
       "      <td>0.000007</td>\n",
       "      <td>0.000007</td>\n",
       "      <td>0.000007</td>\n",
       "      <td>0.000007</td>\n",
       "      <td>0.029520</td>\n",
       "      <td>0.035590</td>\n",
       "      <td>0.000007</td>\n",
       "      <td>0.000007</td>\n",
       "      <td>...</td>\n",
       "      <td>0.000007</td>\n",
       "      <td>0.051670</td>\n",
       "      <td>0.000007</td>\n",
       "      <td>0.000007</td>\n",
       "      <td>0.000007</td>\n",
       "      <td>0.000007</td>\n",
       "      <td>0.000007</td>\n",
       "      <td>0.061351</td>\n",
       "      <td>0.000007</td>\n",
       "      <td>0.319316</td>\n",
       "    </tr>\n",
       "    <tr>\n",
       "      <th>2</th>\n",
       "      <td>0.042444</td>\n",
       "      <td>0.015515</td>\n",
       "      <td>0.000007</td>\n",
       "      <td>0.000007</td>\n",
       "      <td>0.030645</td>\n",
       "      <td>0.000007</td>\n",
       "      <td>0.000007</td>\n",
       "      <td>0.000007</td>\n",
       "      <td>0.150879</td>\n",
       "      <td>0.012120</td>\n",
       "      <td>...</td>\n",
       "      <td>0.000007</td>\n",
       "      <td>0.011243</td>\n",
       "      <td>0.002008</td>\n",
       "      <td>0.000007</td>\n",
       "      <td>0.000007</td>\n",
       "      <td>0.000007</td>\n",
       "      <td>0.000007</td>\n",
       "      <td>0.001363</td>\n",
       "      <td>0.000007</td>\n",
       "      <td>0.000007</td>\n",
       "    </tr>\n",
       "    <tr>\n",
       "      <th>3</th>\n",
       "      <td>0.000031</td>\n",
       "      <td>0.000031</td>\n",
       "      <td>0.093911</td>\n",
       "      <td>0.000031</td>\n",
       "      <td>0.000031</td>\n",
       "      <td>0.000031</td>\n",
       "      <td>0.013272</td>\n",
       "      <td>0.000031</td>\n",
       "      <td>0.000031</td>\n",
       "      <td>0.000031</td>\n",
       "      <td>...</td>\n",
       "      <td>0.000031</td>\n",
       "      <td>0.000031</td>\n",
       "      <td>0.000031</td>\n",
       "      <td>0.003760</td>\n",
       "      <td>0.000031</td>\n",
       "      <td>0.000031</td>\n",
       "      <td>0.000031</td>\n",
       "      <td>0.000031</td>\n",
       "      <td>0.000031</td>\n",
       "      <td>0.000031</td>\n",
       "    </tr>\n",
       "    <tr>\n",
       "      <th>4</th>\n",
       "      <td>0.000038</td>\n",
       "      <td>0.011904</td>\n",
       "      <td>0.000038</td>\n",
       "      <td>0.000038</td>\n",
       "      <td>0.000038</td>\n",
       "      <td>0.000038</td>\n",
       "      <td>0.000038</td>\n",
       "      <td>0.000038</td>\n",
       "      <td>0.000038</td>\n",
       "      <td>0.000038</td>\n",
       "      <td>...</td>\n",
       "      <td>0.000038</td>\n",
       "      <td>0.000038</td>\n",
       "      <td>0.000038</td>\n",
       "      <td>0.000038</td>\n",
       "      <td>0.000038</td>\n",
       "      <td>0.000038</td>\n",
       "      <td>0.241437</td>\n",
       "      <td>0.000038</td>\n",
       "      <td>0.000038</td>\n",
       "      <td>0.000038</td>\n",
       "    </tr>\n",
       "  </tbody>\n",
       "</table>\n",
       "<p>5 rows × 50 columns</p>\n",
       "</div>"
      ],
      "text/plain": [
       "         0         1         2         3         4         5         6   \\\n",
       "0  0.000014  0.000014  0.000014  0.000014  0.000014  0.000014  0.000014   \n",
       "1  0.000007  0.068827  0.000007  0.000007  0.000007  0.000007  0.029520   \n",
       "2  0.042444  0.015515  0.000007  0.000007  0.030645  0.000007  0.000007   \n",
       "3  0.000031  0.000031  0.093911  0.000031  0.000031  0.000031  0.013272   \n",
       "4  0.000038  0.011904  0.000038  0.000038  0.000038  0.000038  0.000038   \n",
       "\n",
       "         7         8         9   ...        40        41        42        43  \\\n",
       "0  0.000014  0.000014  0.000014  ...  0.322831  0.000014  0.000014  0.000014   \n",
       "1  0.035590  0.000007  0.000007  ...  0.000007  0.051670  0.000007  0.000007   \n",
       "2  0.000007  0.150879  0.012120  ...  0.000007  0.011243  0.002008  0.000007   \n",
       "3  0.000031  0.000031  0.000031  ...  0.000031  0.000031  0.000031  0.003760   \n",
       "4  0.000038  0.000038  0.000038  ...  0.000038  0.000038  0.000038  0.000038   \n",
       "\n",
       "         44        45        46        47        48        49  \n",
       "0  0.000014  0.000014  0.000014  0.009759  0.000014  0.201816  \n",
       "1  0.000007  0.000007  0.000007  0.061351  0.000007  0.319316  \n",
       "2  0.000007  0.000007  0.000007  0.001363  0.000007  0.000007  \n",
       "3  0.000031  0.000031  0.000031  0.000031  0.000031  0.000031  \n",
       "4  0.000038  0.000038  0.241437  0.000038  0.000038  0.000038  \n",
       "\n",
       "[5 rows x 50 columns]"
      ]
     },
     "execution_count": 26,
     "metadata": {},
     "output_type": "execute_result"
    }
   ],
   "source": [
    "doc_topic_dist.head()"
   ]
  },
  {
   "cell_type": "markdown",
   "metadata": {},
   "source": [
    "# Get Nearest Papers (in Topic Space)"
   ]
  },
  {
   "cell_type": "code",
   "execution_count": 27,
   "metadata": {
    "_kg_hide-input": true
   },
   "outputs": [],
   "source": [
    "is_covid19_article = df.body_text.str.contains('COVID-19|SARS-CoV-2|2019-nCov|SARS Coronavirus 2|2019 Novel Coronavirus')"
   ]
  },
  {
   "cell_type": "code",
   "execution_count": 28,
   "metadata": {
    "_kg_hide-input": true
   },
   "outputs": [],
   "source": [
    "def get_k_nearest_docs(doc_dist, k=5, lower=1950, upper=2020, only_covid19=False, get_dist=False):\n",
    "    '''\n",
    "    doc_dist: topic distribution (sums to 1) of one article\n",
    "    \n",
    "    Returns the index of the k nearest articles (as by Jensen–Shannon divergence in topic space). \n",
    "    '''\n",
    "    \n",
    "    relevant_time = df.publish_year.between(lower, upper)\n",
    "    \n",
    "    if only_covid19:\n",
    "        temp = doc_topic_dist[relevant_time & is_covid19_article]\n",
    "        \n",
    "    else:\n",
    "        temp = doc_topic_dist[relevant_time]\n",
    "         \n",
    "    distances = temp.apply(lambda x: jensenshannon(x, doc_dist), axis=1)\n",
    "    k_nearest = distances[distances != 0].nsmallest(n=k).index\n",
    "    \n",
    "    if get_dist:\n",
    "        k_distances = distances[distances != 0].nsmallest(n=k)\n",
    "        return k_nearest, k_distances\n",
    "    else:\n",
    "        return k_nearest"
   ]
  },
  {
   "cell_type": "code",
   "execution_count": 29,
   "metadata": {
    "_kg_hide-input": true,
    "_kg_hide-output": true
   },
   "outputs": [],
   "source": [
    "# d = get_k_nearest_docs(doc_topic_dist[df.paper_id == '90b5ecf991032f3918ad43b252e17d1171b4ea63'].iloc[0])\n",
    "\n",
    "# sb.kdeplot(d)"
   ]
  },
  {
   "cell_type": "code",
   "execution_count": 30,
   "metadata": {
    "_kg_hide-input": true,
    "_kg_hide-output": true
   },
   "outputs": [],
   "source": [
    "def plot_article_dna(paper_id, width=20):\n",
    "    t = df[df.paper_id == paper_id].title.values[0]\n",
    "    doc_topic_dist[df.paper_id == paper_id].T.plot(kind='bar', legend=None, title=t, figsize=(width, 4))\n",
    "    plt.xlabel('Topic')\n",
    "\n",
    "def compare_dnas(paper_id, recommendation_id, width=20):\n",
    "    t = df[df.paper_id == recommendation_id].title.values[0]\n",
    "    temp = doc_topic_dist[df.paper_id == paper_id]\n",
    "    ymax = temp.max(axis=1).values[0]*1.25\n",
    "    temp = pd.concat([temp, doc_topic_dist[df.paper_id == recommendation_id]])\n",
    "    temp.T.plot(kind='bar', title=t, figsize=(width, 4), ylim= [0, ymax])\n",
    "    plt.xlabel('Topic')\n",
    "    plt.legend(['Selection', 'Recommendation'])\n",
    "\n",
    "# compare_dnas('90b5ecf991032f3918ad43b252e17d1171b4ea63', 'a137eb51461b4a4ed3980aa5b9cb2f2c1cf0292a')\n",
    "\n",
    "def dna_tabs(paper_ids):\n",
    "    k = len(paper_ids)\n",
    "    outs = [widgets.Output() for i in range(k)]\n",
    "\n",
    "    tab = widgets.Tab(children = outs)\n",
    "    tab_titles = ['Paper ' + str(i+1) for i in range(k)]\n",
    "    for i, t in enumerate(tab_titles):\n",
    "        tab.set_title(i, t)\n",
    "    display(tab)\n",
    "\n",
    "    for i, t in enumerate(tab_titles):\n",
    "        with outs[i]:\n",
    "            ax = plot_article_dna(paper_ids[i])\n",
    "            plt.show(ax)\n",
    "\n",
    "def compare_tabs(paper_id, recommendation_ids):\n",
    "    k = len(recommendation_ids)\n",
    "    outs = [widgets.Output() for i in range(k)]\n",
    "\n",
    "    tab = widgets.Tab(children = outs)\n",
    "    tab_titles = ['Paper ' + str(i+1) for i in range(k)]\n",
    "    for i, t in enumerate(tab_titles):\n",
    "        tab.set_title(i, t)\n",
    "    display(tab)\n",
    "\n",
    "    for i, t in enumerate(tab_titles):\n",
    "        with outs[i]:\n",
    "            ax = compare_dnas(paper_id, recommendation_ids[i])\n",
    "            plt.show(ax)"
   ]
  },
  {
   "cell_type": "markdown",
   "metadata": {},
   "source": [
    "# Search related papers to a chosen one"
   ]
  },
  {
   "cell_type": "markdown",
   "metadata": {},
   "source": [
    "As a similarity measure we use 1 - Jensen-Shannon distance."
   ]
  },
  {
   "cell_type": "code",
   "execution_count": 31,
   "metadata": {
    "_kg_hide-input": true
   },
   "outputs": [],
   "source": [
    "def recommendation(paper_id, k=5, lower=1950, upper=2020, only_covid19=False, plot_dna=False):\n",
    "    '''\n",
    "    Returns the title of the k papers that are closest (topic-wise) to the paper given by paper_id.\n",
    "    '''\n",
    "    \n",
    "    print(df.title[df.paper_id == paper_id].values[0])\n",
    "\n",
    "    recommended, dist = get_k_nearest_docs(doc_topic_dist[df.paper_id == paper_id].iloc[0], k, lower, upper, only_covid19, get_dist=True)\n",
    "    recommended = df.iloc[recommended].copy()\n",
    "    recommended['similarity'] = 1 - dist \n",
    "    \n",
    "    h = '<br/>'.join(['<a href=\"' + l + '\" target=\"_blank\">'+ n + '</a>' +' (Similarity: ' + \"{:.2f}\".format(s) + ')' for l, n, s in recommended[['url','title', 'similarity']].values])\n",
    "    display(HTML(h))\n",
    "    \n",
    "    if plot_dna:\n",
    "        compare_tabs(paper_id, recommended.paper_id.values)"
   ]
  },
  {
   "cell_type": "code",
   "execution_count": 32,
   "metadata": {
    "_kg_hide-output": true
   },
   "outputs": [
    {
     "name": "stdout",
     "output_type": "stream",
     "text": [
      "The effect of inhibition of PP1 and TNFα signaling on pathogenesis of SARS coronavirus\n"
     ]
    },
    {
     "data": {
      "text/html": [
       "<a href=\"https://www.ncbi.nlm.nih.gov/pmc/articles/PMC3747576/\" target=\"_blank\">Mechanisms of Severe Acute Respiratory Syndrome Coronavirus-Induced Acute Lung Injury</a> (Similarity: 0.75)<br/><a href=\"https://www.ncbi.nlm.nih.gov/pmc/articles/PMC4599853/\" target=\"_blank\">Genome Wide Identification of SARS-CoV Susceptibility Loci Using the Collaborative Cross</a> (Similarity: 0.67)<br/><a href=\"https://www.ncbi.nlm.nih.gov/pmc/articles/PMC4436129/\" target=\"_blank\">Multiplexed Component Analysis to Identify Genes Contributing to the Immune Response during Acute SIV Infection</a> (Similarity: 0.66)<br/><a href=\"https://www.ncbi.nlm.nih.gov/pmc/articles/PMC5473747/\" target=\"_blank\">Allelic Variation in the Toll-Like Receptor Adaptor Protein Ticam2 Contributes to SARS-Coronavirus Pathogenesis in Mice</a> (Similarity: 0.63)<br/><a href=\"https://www.ncbi.nlm.nih.gov/pmc/articles/PMC2923618/\" target=\"_blank\">Cancer Biomarker Discovery: The Entropic Hallmark</a> (Similarity: 0.63)"
      ],
      "text/plain": [
       "<IPython.core.display.HTML object>"
      ]
     },
     "metadata": {},
     "output_type": "display_data"
    },
    {
     "data": {
      "application/vnd.jupyter.widget-view+json": {
       "model_id": "e30192947cef4b6081e7f1f7a08ea498",
       "version_major": 2,
       "version_minor": 0
      },
      "text/plain": [
       "Tab(children=(Output(), Output(), Output(), Output(), Output()), _titles={'0': 'Paper 1', '1': 'Paper 2', '2':…"
      ]
     },
     "metadata": {},
     "output_type": "display_data"
    },
    {
     "data": {
      "image/png": "[encoded data removed]",
      "text/plain": [
       "<Figure size 1440x288 with 1 Axes>"
      ]
     },
     "metadata": {},
     "output_type": "display_data"
    },
    {
     "data": {
      "image/png": "[encoded data removed]",
      "text/plain": [
       "<Figure size 1440x288 with 1 Axes>"
      ]
     },
     "metadata": {},
     "output_type": "display_data"
    },
    {
     "data": {
      "image/png": "[encoded data removed]",
      "text/plain": [
       "<Figure size 1440x288 with 1 Axes>"
      ]
     },
     "metadata": {},
     "output_type": "display_data"
    },
    {
     "data": {
      "image/png": "[encoded data removed]",
      "text/plain": [
       "<Figure size 1440x288 with 1 Axes>"
      ]
     },
     "metadata": {},
     "output_type": "display_data"
    },
    {
     "data": {
      "image/png": "[encoded data removed]",
      "text/plain": [
       "<Figure size 1440x288 with 1 Axes>"
      ]
     },
     "metadata": {},
     "output_type": "display_data"
    }
   ],
   "source": [
    "recommendation('a137eb51461b4a4ed3980aa5b9cb2f2c1cf0292a', k=5, plot_dna=True)"
   ]
  },
  {
   "cell_type": "code",
   "execution_count": 33,
   "metadata": {
    "_kg_hide-output": true
   },
   "outputs": [
    {
     "name": "stdout",
     "output_type": "stream",
     "text": [
      "The effect of inhibition of PP1 and TNFα signaling on pathogenesis of SARS coronavirus\n"
     ]
    },
    {
     "data": {
      "text/html": [
       "<a href=\"https://www.ncbi.nlm.nih.gov/pmc/articles/PMC7186321/\" target=\"_blank\">Analysis of the susceptibility of lung cancer patients to SARS-CoV-2 infection</a> (Similarity: 0.62)<br/><a href=\"https://arxiv.org/abs/2003.13665\" target=\"_blank\">Genomics-guided molecular maps of coronavirus targets in human cells: a path toward the repurposing of existing drugs to mitigate the pandemic</a> (Similarity: 0.55)<br/><a href=\"https://doi.org/10.1101/2020.02.19.957118\" target=\"_blank\">Mucin 4 Protects Female Mice from Coronavirus Pathogenesis</a> (Similarity: 0.54)<br/><a href=\"https://doi.org/10.1101/2020.03.04.20031237\" target=\"_blank\">Exploring diseases/traits and blood proteins causally related to expression of ACE2, the putative receptor of 2019-nCov: A Mendelian Randomization analysis</a> (Similarity: 0.53)<br/><a href=\"https://doi.org/10.1016/j.bbrc.2020.04.010\" target=\"_blank\">EZH2-mediated H3K27me3 inhibits ACE2 expression</a> (Similarity: 0.53)"
      ],
      "text/plain": [
       "<IPython.core.display.HTML object>"
      ]
     },
     "metadata": {},
     "output_type": "display_data"
    },
    {
     "data": {
      "application/vnd.jupyter.widget-view+json": {
       "model_id": "9508f354a7c048b390d56e785195a926",
       "version_major": 2,
       "version_minor": 0
      },
      "text/plain": [
       "Tab(children=(Output(), Output(), Output(), Output(), Output()), _titles={'0': 'Paper 1', '1': 'Paper 2', '2':…"
      ]
     },
     "metadata": {},
     "output_type": "display_data"
    },
    {
     "data": {
      "image/png": "[encoded data removed]",
      "text/plain": [
       "<Figure size 1440x288 with 1 Axes>"
      ]
     },
     "metadata": {},
     "output_type": "display_data"
    },
    {
     "data": {
      "image/png": "[encoded data removed]",
      "text/plain": [
       "<Figure size 1440x288 with 1 Axes>"
      ]
     },
     "metadata": {},
     "output_type": "display_data"
    },
    {
     "data": {
      "image/png": "[encoded data removed]",
      "text/plain": [
       "<Figure size 1440x288 with 1 Axes>"
      ]
     },
     "metadata": {},
     "output_type": "display_data"
    },
    {
     "data": {
      "image/png": "[encoded data removed]",
      "text/plain": [
       "<Figure size 1440x288 with 1 Axes>"
      ]
     },
     "metadata": {},
     "output_type": "display_data"
    },
    {
     "data": {
      "image/png": "[encoded data removed]",
      "text/plain": [
       "<Figure size 1440x288 with 1 Axes>"
      ]
     },
     "metadata": {},
     "output_type": "display_data"
    }
   ],
   "source": [
    "recommendation('a137eb51461b4a4ed3980aa5b9cb2f2c1cf0292a', k=5, only_covid19=True, plot_dna=True)"
   ]
  },
  {
   "cell_type": "code",
   "execution_count": 34,
   "metadata": {
    "_kg_hide-output": true
   },
   "outputs": [
    {
     "name": "stdout",
     "output_type": "stream",
     "text": [
      "The role of absolute humidity on transmission rates of the COVID-19 outbreak\n"
     ]
    },
    {
     "data": {
      "text/html": [
       "<a href=\"https://doi.org/10.1101/2020.03.23.20040501\" target=\"_blank\">Climate affects global patterns of COVID-19 early outbreak dynamics</a> (Similarity: 0.91)<br/><a href=\"https://doi.org/10.1101/2020.03.26.20044420\" target=\"_blank\">Causal empirical estimates suggest COVID-19 transmission rates are highly seasonal</a> (Similarity: 0.89)<br/><a href=\"https://doi.org/10.1101/2020.03.29.20046565\" target=\"_blank\">Eco-epidemiological assessment of the COVID-19 epidemic in China, January-February 2020</a> (Similarity: 0.86)<br/><a href=\"https://doi.org/10.1101/2020.04.13.20063925\" target=\"_blank\">REGIONAL DETERMINANTS OF THE EXPANSION OF COVID-19 IN BRAZIL</a> (Similarity: 0.85)<br/><a href=\"https://doi.org/10.1101/2020.04.21.20074450\" target=\"_blank\">The dynamics of Covid-19: weather, demographics and infection timeline</a> (Similarity: 0.84)"
      ],
      "text/plain": [
       "<IPython.core.display.HTML object>"
      ]
     },
     "metadata": {},
     "output_type": "display_data"
    },
    {
     "data": {
      "application/vnd.jupyter.widget-view+json": {
       "model_id": "25177c48f05d4b1f8d2ef9e7a8715ade",
       "version_major": 2,
       "version_minor": 0
      },
      "text/plain": [
       "Tab(children=(Output(), Output(), Output(), Output(), Output()), _titles={'0': 'Paper 1', '1': 'Paper 2', '2':…"
      ]
     },
     "metadata": {},
     "output_type": "display_data"
    },
    {
     "data": {
      "image/png": "[encoded data removed]",
      "text/plain": [
       "<Figure size 1440x288 with 1 Axes>"
      ]
     },
     "metadata": {},
     "output_type": "display_data"
    },
    {
     "data": {
      "image/png": "[encoded data removed]",
      "text/plain": [
       "<Figure size 1440x288 with 1 Axes>"
      ]
     },
     "metadata": {},
     "output_type": "display_data"
    },
    {
     "data": {
      "image/png": "[encoded data removed]",
      "text/plain": [
       "<Figure size 1440x288 with 1 Axes>"
      ]
     },
     "metadata": {},
     "output_type": "display_data"
    },
    {
     "data": {
      "image/png": "[encoded data removed]",
      "text/plain": [
       "<Figure size 1440x288 with 1 Axes>"
      ]
     },
     "metadata": {},
     "output_type": "display_data"
    },
    {
     "data": {
      "image/png": "[encoded data removed]",
      "text/plain": [
       "<Figure size 1440x288 with 1 Axes>"
      ]
     },
     "metadata": {},
     "output_type": "display_data"
    }
   ],
   "source": [
    "recommendation('90b5ecf991032f3918ad43b252e17d1171b4ea63', k=5, only_covid19=False, plot_dna=True)"
   ]
  },
  {
   "cell_type": "code",
   "execution_count": 35,
   "metadata": {
    "_kg_hide-output": true
   },
   "outputs": [
    {
     "name": "stdout",
     "output_type": "stream",
     "text": [
      "Potential inhibitors for 2019-nCoV coronavirus M protease from clinically approved medicines\n"
     ]
    },
    {
     "data": {
      "text/html": [
       "<a href=\"https://doi.org/10.1101/2020.01.31.929695\" target=\"_blank\">Molecular Modeling Evaluation of the Binding Effect of Ritonavir, Lopinavir and Darunavir to Severe Acute Respiratory Syndrome Coronavirus 2 Proteases</a> (Similarity: 0.67)<br/><a href=\"https://www.ncbi.nlm.nih.gov/pmc/articles/PMC7062204/\" target=\"_blank\">Prediction of the SARS-CoV-2 (2019-nCoV) 3C-like protease (3CL (pro)) structure: virtual screening reveals velpatasvir, ledipasvir, and other drug repurposing candidates</a> (Similarity: 0.67)<br/><a href=\"https://doi.org/10.1016/j.jinf.2020.02.026\" target=\"_blank\">COVID-19 spike-host cell receptor GRP78 binding site prediction</a> (Similarity: 0.61)<br/><a href=\"https://doi.org/10.1016/j.tmaid.2020.101646\" target=\"_blank\">A search for medications to treat COVID-19 via in silico molecular docking models of the SARS-CoV-2 spike glycoprotein and 3CL protease</a> (Similarity: 0.61)<br/><a href=\"https://www.ncbi.nlm.nih.gov/pmc/articles/PMC7147498/\" target=\"_blank\">Molecular docking and dynamics simulation of FDA approved drugs with the main protease from 2019 novel coronavirus</a> (Similarity: 0.60)"
      ],
      "text/plain": [
       "<IPython.core.display.HTML object>"
      ]
     },
     "metadata": {},
     "output_type": "display_data"
    },
    {
     "data": {
      "application/vnd.jupyter.widget-view+json": {
       "model_id": "674adc4ef5614627b5a3c2de251513af",
       "version_major": 2,
       "version_minor": 0
      },
      "text/plain": [
       "Tab(children=(Output(), Output(), Output(), Output(), Output()), _titles={'0': 'Paper 1', '1': 'Paper 2', '2':…"
      ]
     },
     "metadata": {},
     "output_type": "display_data"
    },
    {
     "data": {
      "image/png": "[encoded data removed]",
      "text/plain": [
       "<Figure size 1440x288 with 1 Axes>"
      ]
     },
     "metadata": {},
     "output_type": "display_data"
    },
    {
     "data": {
      "image/png": "[encoded data removed]",
      "text/plain": [
       "<Figure size 1440x288 with 1 Axes>"
      ]
     },
     "metadata": {},
     "output_type": "display_data"
    },
    {
     "data": {
      "image/png": "[encoded data removed]",
      "text/plain": [
       "<Figure size 1440x288 with 1 Axes>"
      ]
     },
     "metadata": {},
     "output_type": "display_data"
    },
    {
     "data": {
      "image/png": "[encoded data removed]",
      "text/plain": [
       "<Figure size 1440x288 with 1 Axes>"
      ]
     },
     "metadata": {},
     "output_type": "display_data"
    },
    {
     "data": {
      "image/png": "[encoded data removed]",
      "text/plain": [
       "<Figure size 1440x288 with 1 Axes>"
      ]
     },
     "metadata": {},
     "output_type": "display_data"
    }
   ],
   "source": [
    "recommendation('c04c7fb330a409a00f67040dde0f83b3da88eacb', k=5, only_covid19=True, plot_dna=True)"
   ]
  },
  {
   "cell_type": "code",
   "execution_count": 36,
   "metadata": {
    "_kg_hide-output": true
   },
   "outputs": [
    {
     "name": "stdout",
     "output_type": "stream",
     "text": [
      "Estimation of the epidemic properties of the 2019 novel coronavirus: A mathematical modeling study\n"
     ]
    },
    {
     "ename": "TypeError",
     "evalue": "must be str, not float",
     "output_type": "error",
     "traceback": [
      "\u001b[0;31m---------------------------------------------------------------------------\u001b[0m",
      "\u001b[0;31mTypeError\u001b[0m                                 Traceback (most recent call last)",
      "\u001b[0;32m<ipython-input-36-9090babae5a1>\u001b[0m in \u001b[0;36m<module>\u001b[0;34m\u001b[0m\n\u001b[0;32m----> 1\u001b[0;31m \u001b[0mrecommendation\u001b[0m\u001b[0;34m(\u001b[0m\u001b[0;34m'36521caf90f471c9da1a4e84f8562440d73ead9a'\u001b[0m\u001b[0;34m,\u001b[0m \u001b[0mk\u001b[0m\u001b[0;34m=\u001b[0m\u001b[0;36m5\u001b[0m\u001b[0;34m,\u001b[0m \u001b[0mplot_dna\u001b[0m\u001b[0;34m=\u001b[0m\u001b[0;32mTrue\u001b[0m\u001b[0;34m)\u001b[0m\u001b[0;34m\u001b[0m\u001b[0m\n\u001b[0m",
      "\u001b[0;32m<ipython-input-31-e77db8a7a746>\u001b[0m in \u001b[0;36mrecommendation\u001b[0;34m(paper_id, k, lower, upper, only_covid19, plot_dna)\u001b[0m\n\u001b[1;32m     10\u001b[0m     \u001b[0mrecommended\u001b[0m\u001b[0;34m[\u001b[0m\u001b[0;34m'similarity'\u001b[0m\u001b[0;34m]\u001b[0m \u001b[0;34m=\u001b[0m \u001b[0;36m1\u001b[0m \u001b[0;34m-\u001b[0m \u001b[0mdist\u001b[0m\u001b[0;34m\u001b[0m\u001b[0m\n\u001b[1;32m     11\u001b[0m \u001b[0;34m\u001b[0m\u001b[0m\n\u001b[0;32m---> 12\u001b[0;31m     \u001b[0mh\u001b[0m \u001b[0;34m=\u001b[0m \u001b[0;34m'<br/>'\u001b[0m\u001b[0;34m.\u001b[0m\u001b[0mjoin\u001b[0m\u001b[0;34m(\u001b[0m\u001b[0;34m[\u001b[0m\u001b[0;34m'<a href=\"'\u001b[0m \u001b[0;34m+\u001b[0m \u001b[0ml\u001b[0m \u001b[0;34m+\u001b[0m \u001b[0;34m'\" target=\"_blank\">'\u001b[0m\u001b[0;34m+\u001b[0m \u001b[0mn\u001b[0m \u001b[0;34m+\u001b[0m \u001b[0;34m'</a>'\u001b[0m \u001b[0;34m+\u001b[0m\u001b[0;34m' (Similarity: '\u001b[0m \u001b[0;34m+\u001b[0m \u001b[0;34m\"{:.2f}\"\u001b[0m\u001b[0;34m.\u001b[0m\u001b[0mformat\u001b[0m\u001b[0;34m(\u001b[0m\u001b[0ms\u001b[0m\u001b[0;34m)\u001b[0m \u001b[0;34m+\u001b[0m \u001b[0;34m')'\u001b[0m \u001b[0;32mfor\u001b[0m \u001b[0ml\u001b[0m\u001b[0;34m,\u001b[0m \u001b[0mn\u001b[0m\u001b[0;34m,\u001b[0m \u001b[0ms\u001b[0m \u001b[0;32min\u001b[0m \u001b[0mrecommended\u001b[0m\u001b[0;34m[\u001b[0m\u001b[0;34m[\u001b[0m\u001b[0;34m'url'\u001b[0m\u001b[0;34m,\u001b[0m\u001b[0;34m'title'\u001b[0m\u001b[0;34m,\u001b[0m \u001b[0;34m'similarity'\u001b[0m\u001b[0;34m]\u001b[0m\u001b[0;34m]\u001b[0m\u001b[0;34m.\u001b[0m\u001b[0mvalues\u001b[0m\u001b[0;34m]\u001b[0m\u001b[0;34m)\u001b[0m\u001b[0;34m\u001b[0m\u001b[0m\n\u001b[0m\u001b[1;32m     13\u001b[0m     \u001b[0mdisplay\u001b[0m\u001b[0;34m(\u001b[0m\u001b[0mHTML\u001b[0m\u001b[0;34m(\u001b[0m\u001b[0mh\u001b[0m\u001b[0;34m)\u001b[0m\u001b[0;34m)\u001b[0m\u001b[0;34m\u001b[0m\u001b[0m\n\u001b[1;32m     14\u001b[0m \u001b[0;34m\u001b[0m\u001b[0m\n",
      "\u001b[0;32m<ipython-input-31-e77db8a7a746>\u001b[0m in \u001b[0;36m<listcomp>\u001b[0;34m(.0)\u001b[0m\n\u001b[1;32m     10\u001b[0m     \u001b[0mrecommended\u001b[0m\u001b[0;34m[\u001b[0m\u001b[0;34m'similarity'\u001b[0m\u001b[0;34m]\u001b[0m \u001b[0;34m=\u001b[0m \u001b[0;36m1\u001b[0m \u001b[0;34m-\u001b[0m \u001b[0mdist\u001b[0m\u001b[0;34m\u001b[0m\u001b[0m\n\u001b[1;32m     11\u001b[0m \u001b[0;34m\u001b[0m\u001b[0m\n\u001b[0;32m---> 12\u001b[0;31m     \u001b[0mh\u001b[0m \u001b[0;34m=\u001b[0m \u001b[0;34m'<br/>'\u001b[0m\u001b[0;34m.\u001b[0m\u001b[0mjoin\u001b[0m\u001b[0;34m(\u001b[0m\u001b[0;34m[\u001b[0m\u001b[0;34m'<a href=\"'\u001b[0m \u001b[0;34m+\u001b[0m \u001b[0ml\u001b[0m \u001b[0;34m+\u001b[0m \u001b[0;34m'\" target=\"_blank\">'\u001b[0m\u001b[0;34m+\u001b[0m \u001b[0mn\u001b[0m \u001b[0;34m+\u001b[0m \u001b[0;34m'</a>'\u001b[0m \u001b[0;34m+\u001b[0m\u001b[0;34m' (Similarity: '\u001b[0m \u001b[0;34m+\u001b[0m \u001b[0;34m\"{:.2f}\"\u001b[0m\u001b[0;34m.\u001b[0m\u001b[0mformat\u001b[0m\u001b[0;34m(\u001b[0m\u001b[0ms\u001b[0m\u001b[0;34m)\u001b[0m \u001b[0;34m+\u001b[0m \u001b[0;34m')'\u001b[0m \u001b[0;32mfor\u001b[0m \u001b[0ml\u001b[0m\u001b[0;34m,\u001b[0m \u001b[0mn\u001b[0m\u001b[0;34m,\u001b[0m \u001b[0ms\u001b[0m \u001b[0;32min\u001b[0m \u001b[0mrecommended\u001b[0m\u001b[0;34m[\u001b[0m\u001b[0;34m[\u001b[0m\u001b[0;34m'url'\u001b[0m\u001b[0;34m,\u001b[0m\u001b[0;34m'title'\u001b[0m\u001b[0;34m,\u001b[0m \u001b[0;34m'similarity'\u001b[0m\u001b[0;34m]\u001b[0m\u001b[0;34m]\u001b[0m\u001b[0;34m.\u001b[0m\u001b[0mvalues\u001b[0m\u001b[0;34m]\u001b[0m\u001b[0;34m)\u001b[0m\u001b[0;34m\u001b[0m\u001b[0m\n\u001b[0m\u001b[1;32m     13\u001b[0m     \u001b[0mdisplay\u001b[0m\u001b[0;34m(\u001b[0m\u001b[0mHTML\u001b[0m\u001b[0;34m(\u001b[0m\u001b[0mh\u001b[0m\u001b[0;34m)\u001b[0m\u001b[0;34m)\u001b[0m\u001b[0;34m\u001b[0m\u001b[0m\n\u001b[1;32m     14\u001b[0m \u001b[0;34m\u001b[0m\u001b[0m\n",
      "\u001b[0;31mTypeError\u001b[0m: must be str, not float"
     ]
    }
   ],
   "source": [
    "recommendation('36521caf90f471c9da1a4e84f8562440d73ead9a', k=5, plot_dna=True)"
   ]
  },
  {
   "cell_type": "markdown",
   "metadata": {},
   "source": [
    "# Widget: Pick a COVID-19-Paper "
   ]
  },
  {
   "cell_type": "markdown",
   "metadata": {},
   "source": [
    "This makes it easier to pick a paper (you don't have to search the paper_id)."
   ]
  },
  {
   "cell_type": "code",
   "execution_count": 37,
   "metadata": {
    "_kg_hide-input": true,
    "_kg_hide-output": true
   },
   "outputs": [],
   "source": [
    "def related_papers():\n",
    "    '''\n",
    "    Creates a widget where you can select one of many papers about covid-19 and then displays related articles from the whole dataset.\n",
    "    '''\n",
    "    covid_papers = df[df.body_text.str.contains('COVID-19|SARS-CoV-2|2019-nCov|SARS Coronavirus 2|2019 Novel Coronavirus')][['paper_id', 'title']] # are there more names?\n",
    "    title_to_id = covid_papers.set_index('title')['paper_id'].to_dict()\n",
    "    \n",
    "    def main_function(bullet, k=5, year_range=[1950, 2020], only_covid19=False):\n",
    "        recommendation(title_to_id[bullet], k, lower=year_range[0], upper=year_range[1], only_covid19=only_covid19)\n",
    "    \n",
    "    yearW = widgets.IntRangeSlider(min=1950, max=2020, value=[2010, 2020], description='Year Range', \n",
    "                                   continuous_update=False, layout=Layout(width='40%'))\n",
    "    covidW = widgets.Checkbox(value=False,description='Only COVID-19-Papers',disabled=False, indent=False, layout=Layout(width='20%'))\n",
    "    kWidget = widgets.IntSlider(value=10, description='k', max=50, min=1, layout=Layout(width='20%'))\n",
    "\n",
    "    bulletW = widgets.Select(options=title_to_id.keys(), layout=Layout(width='90%', height='200px'), description='Title:')\n",
    "\n",
    "    widget = widgets.interactive(main_function, bullet=bulletW, k=kWidget, year_range=yearW, only_covid19=covidW)\n",
    "\n",
    "    controls = VBox([Box(children=[widget.children[:-1][1], widget.children[:-1][2], widget.children[:-1][3]], \n",
    "                         layout=Layout(justify_content='space-around')), widget.children[:-1][0]])\n",
    "    output = widget.children[-1]\n",
    "    display(VBox([controls, output]))"
   ]
  },
  {
   "cell_type": "code",
   "execution_count": 38,
   "metadata": {
    "_kg_hide-input": true
   },
   "outputs": [
    {
     "ename": "TraitError",
     "evalue": "Invalid selection: value not found",
     "output_type": "error",
     "traceback": [
      "\u001b[0;31m---------------------------------------------------------------------------\u001b[0m",
      "\u001b[0;31mStopIteration\u001b[0m                             Traceback (most recent call last)",
      "\u001b[0;32m/opt/conda/lib/python3.6/site-packages/ipywidgets/widgets/widget_selection.py\u001b[0m in \u001b[0;36mfindvalue\u001b[0;34m(array, value, compare)\u001b[0m\n\u001b[1;32m    136\u001b[0m     \u001b[0;32mtry\u001b[0m\u001b[0;34m:\u001b[0m\u001b[0;34m\u001b[0m\u001b[0m\n\u001b[0;32m--> 137\u001b[0;31m         \u001b[0;32mreturn\u001b[0m \u001b[0mnext\u001b[0m\u001b[0;34m(\u001b[0m\u001b[0mx\u001b[0m \u001b[0;32mfor\u001b[0m \u001b[0mx\u001b[0m \u001b[0;32min\u001b[0m \u001b[0marray\u001b[0m \u001b[0;32mif\u001b[0m \u001b[0mcompare\u001b[0m\u001b[0;34m(\u001b[0m\u001b[0mx\u001b[0m\u001b[0;34m,\u001b[0m \u001b[0mvalue\u001b[0m\u001b[0;34m)\u001b[0m\u001b[0;34m)\u001b[0m\u001b[0;34m\u001b[0m\u001b[0m\n\u001b[0m\u001b[1;32m    138\u001b[0m     \u001b[0;32mexcept\u001b[0m \u001b[0mStopIteration\u001b[0m\u001b[0;34m:\u001b[0m\u001b[0;34m\u001b[0m\u001b[0m\n",
      "\u001b[0;31mStopIteration\u001b[0m: ",
      "\nDuring handling of the above exception, another exception occurred:\n",
      "\u001b[0;31mValueError\u001b[0m                                Traceback (most recent call last)",
      "\u001b[0;32m/opt/conda/lib/python3.6/site-packages/ipywidgets/widgets/widget_selection.py\u001b[0m in \u001b[0;36m_validate_value\u001b[0;34m(self, proposal)\u001b[0m\n\u001b[1;32m    240\u001b[0m         \u001b[0;32mtry\u001b[0m\u001b[0;34m:\u001b[0m\u001b[0;34m\u001b[0m\u001b[0m\n\u001b[0;32m--> 241\u001b[0;31m             \u001b[0;32mreturn\u001b[0m \u001b[0mfindvalue\u001b[0m\u001b[0;34m(\u001b[0m\u001b[0mself\u001b[0m\u001b[0;34m.\u001b[0m\u001b[0m_options_values\u001b[0m\u001b[0;34m,\u001b[0m \u001b[0mvalue\u001b[0m\u001b[0;34m,\u001b[0m \u001b[0mself\u001b[0m\u001b[0;34m.\u001b[0m\u001b[0mequals\u001b[0m\u001b[0;34m)\u001b[0m \u001b[0;32mif\u001b[0m \u001b[0mvalue\u001b[0m \u001b[0;32mis\u001b[0m \u001b[0;32mnot\u001b[0m \u001b[0;32mNone\u001b[0m \u001b[0;32melse\u001b[0m \u001b[0;32mNone\u001b[0m\u001b[0;34m\u001b[0m\u001b[0m\n\u001b[0m\u001b[1;32m    242\u001b[0m         \u001b[0;32mexcept\u001b[0m \u001b[0mValueError\u001b[0m\u001b[0;34m:\u001b[0m\u001b[0;34m\u001b[0m\u001b[0m\n",
      "\u001b[0;32m/opt/conda/lib/python3.6/site-packages/ipywidgets/widgets/widget_selection.py\u001b[0m in \u001b[0;36mfindvalue\u001b[0;34m(array, value, compare)\u001b[0m\n\u001b[1;32m    138\u001b[0m     \u001b[0;32mexcept\u001b[0m \u001b[0mStopIteration\u001b[0m\u001b[0;34m:\u001b[0m\u001b[0;34m\u001b[0m\u001b[0m\n\u001b[0;32m--> 139\u001b[0;31m         \u001b[0;32mraise\u001b[0m \u001b[0mValueError\u001b[0m\u001b[0;34m(\u001b[0m\u001b[0;34m'%r not in array'\u001b[0m\u001b[0;34m%\u001b[0m\u001b[0mvalue\u001b[0m\u001b[0;34m)\u001b[0m\u001b[0;34m\u001b[0m\u001b[0m\n\u001b[0m\u001b[1;32m    140\u001b[0m \u001b[0;34m\u001b[0m\u001b[0m\n",
      "\u001b[0;31mValueError\u001b[0m: nan not in array",
      "\nDuring handling of the above exception, another exception occurred:\n",
      "\u001b[0;31mTraitError\u001b[0m                                Traceback (most recent call last)",
      "\u001b[0;32m<ipython-input-38-f14550f24acc>\u001b[0m in \u001b[0;36m<module>\u001b[0;34m\u001b[0m\n\u001b[0;32m----> 1\u001b[0;31m \u001b[0mrelated_papers\u001b[0m\u001b[0;34m(\u001b[0m\u001b[0;34m)\u001b[0m\u001b[0;34m\u001b[0m\u001b[0m\n\u001b[0m",
      "\u001b[0;32m<ipython-input-37-8d3799e39f5c>\u001b[0m in \u001b[0;36mrelated_papers\u001b[0;34m()\u001b[0m\n\u001b[1;32m     14\u001b[0m     \u001b[0mkWidget\u001b[0m \u001b[0;34m=\u001b[0m \u001b[0mwidgets\u001b[0m\u001b[0;34m.\u001b[0m\u001b[0mIntSlider\u001b[0m\u001b[0;34m(\u001b[0m\u001b[0mvalue\u001b[0m\u001b[0;34m=\u001b[0m\u001b[0;36m10\u001b[0m\u001b[0;34m,\u001b[0m \u001b[0mdescription\u001b[0m\u001b[0;34m=\u001b[0m\u001b[0;34m'k'\u001b[0m\u001b[0;34m,\u001b[0m \u001b[0mmax\u001b[0m\u001b[0;34m=\u001b[0m\u001b[0;36m50\u001b[0m\u001b[0;34m,\u001b[0m \u001b[0mmin\u001b[0m\u001b[0;34m=\u001b[0m\u001b[0;36m1\u001b[0m\u001b[0;34m,\u001b[0m \u001b[0mlayout\u001b[0m\u001b[0;34m=\u001b[0m\u001b[0mLayout\u001b[0m\u001b[0;34m(\u001b[0m\u001b[0mwidth\u001b[0m\u001b[0;34m=\u001b[0m\u001b[0;34m'20%'\u001b[0m\u001b[0;34m)\u001b[0m\u001b[0;34m)\u001b[0m\u001b[0;34m\u001b[0m\u001b[0m\n\u001b[1;32m     15\u001b[0m \u001b[0;34m\u001b[0m\u001b[0m\n\u001b[0;32m---> 16\u001b[0;31m     \u001b[0mbulletW\u001b[0m \u001b[0;34m=\u001b[0m \u001b[0mwidgets\u001b[0m\u001b[0;34m.\u001b[0m\u001b[0mSelect\u001b[0m\u001b[0;34m(\u001b[0m\u001b[0moptions\u001b[0m\u001b[0;34m=\u001b[0m\u001b[0mtitle_to_id\u001b[0m\u001b[0;34m.\u001b[0m\u001b[0mkeys\u001b[0m\u001b[0;34m(\u001b[0m\u001b[0;34m)\u001b[0m\u001b[0;34m,\u001b[0m \u001b[0mlayout\u001b[0m\u001b[0;34m=\u001b[0m\u001b[0mLayout\u001b[0m\u001b[0;34m(\u001b[0m\u001b[0mwidth\u001b[0m\u001b[0;34m=\u001b[0m\u001b[0;34m'90%'\u001b[0m\u001b[0;34m,\u001b[0m \u001b[0mheight\u001b[0m\u001b[0;34m=\u001b[0m\u001b[0;34m'200px'\u001b[0m\u001b[0;34m)\u001b[0m\u001b[0;34m,\u001b[0m \u001b[0mdescription\u001b[0m\u001b[0;34m=\u001b[0m\u001b[0;34m'Title:'\u001b[0m\u001b[0;34m)\u001b[0m\u001b[0;34m\u001b[0m\u001b[0m\n\u001b[0m\u001b[1;32m     17\u001b[0m \u001b[0;34m\u001b[0m\u001b[0m\n\u001b[1;32m     18\u001b[0m     \u001b[0mwidget\u001b[0m \u001b[0;34m=\u001b[0m \u001b[0mwidgets\u001b[0m\u001b[0;34m.\u001b[0m\u001b[0minteractive\u001b[0m\u001b[0;34m(\u001b[0m\u001b[0mmain_function\u001b[0m\u001b[0;34m,\u001b[0m \u001b[0mbullet\u001b[0m\u001b[0;34m=\u001b[0m\u001b[0mbulletW\u001b[0m\u001b[0;34m,\u001b[0m \u001b[0mk\u001b[0m\u001b[0;34m=\u001b[0m\u001b[0mkWidget\u001b[0m\u001b[0;34m,\u001b[0m \u001b[0myear_range\u001b[0m\u001b[0;34m=\u001b[0m\u001b[0myearW\u001b[0m\u001b[0;34m,\u001b[0m \u001b[0monly_covid19\u001b[0m\u001b[0;34m=\u001b[0m\u001b[0mcovidW\u001b[0m\u001b[0;34m)\u001b[0m\u001b[0;34m\u001b[0m\u001b[0m\n",
      "\u001b[0;32m/opt/conda/lib/python3.6/site-packages/ipywidgets/widgets/widget_selection.py\u001b[0m in \u001b[0;36m__init__\u001b[0;34m(self, *args, **kwargs)\u001b[0m\n\u001b[1;32m    188\u001b[0m             \u001b[0mkwargs\u001b[0m\u001b[0;34m[\u001b[0m\u001b[0;34m'label'\u001b[0m\u001b[0;34m]\u001b[0m\u001b[0;34m,\u001b[0m \u001b[0mkwargs\u001b[0m\u001b[0;34m[\u001b[0m\u001b[0;34m'value'\u001b[0m\u001b[0;34m]\u001b[0m \u001b[0;34m=\u001b[0m \u001b[0moptions\u001b[0m\u001b[0;34m[\u001b[0m\u001b[0;36m0\u001b[0m\u001b[0;34m]\u001b[0m \u001b[0;32mif\u001b[0m \u001b[0mnonempty\u001b[0m \u001b[0;32melse\u001b[0m \u001b[0;34m(\u001b[0m\u001b[0;32mNone\u001b[0m\u001b[0;34m,\u001b[0m \u001b[0;32mNone\u001b[0m\u001b[0;34m)\u001b[0m\u001b[0;34m\u001b[0m\u001b[0m\n\u001b[1;32m    189\u001b[0m \u001b[0;34m\u001b[0m\u001b[0m\n\u001b[0;32m--> 190\u001b[0;31m         \u001b[0msuper\u001b[0m\u001b[0;34m(\u001b[0m\u001b[0m_Selection\u001b[0m\u001b[0;34m,\u001b[0m \u001b[0mself\u001b[0m\u001b[0;34m)\u001b[0m\u001b[0;34m.\u001b[0m\u001b[0m__init__\u001b[0m\u001b[0;34m(\u001b[0m\u001b[0;34m*\u001b[0m\u001b[0margs\u001b[0m\u001b[0;34m,\u001b[0m \u001b[0;34m**\u001b[0m\u001b[0mkwargs\u001b[0m\u001b[0;34m)\u001b[0m\u001b[0;34m\u001b[0m\u001b[0m\n\u001b[0m\u001b[1;32m    191\u001b[0m         \u001b[0mself\u001b[0m\u001b[0;34m.\u001b[0m\u001b[0m_initializing_traits_\u001b[0m \u001b[0;34m=\u001b[0m \u001b[0;32mFalse\u001b[0m\u001b[0;34m\u001b[0m\u001b[0m\n\u001b[1;32m    192\u001b[0m \u001b[0;34m\u001b[0m\u001b[0m\n",
      "\u001b[0;32m/opt/conda/lib/python3.6/site-packages/ipywidgets/widgets/widget.py\u001b[0m in \u001b[0;36m__init__\u001b[0;34m(self, **kwargs)\u001b[0m\n\u001b[1;32m    410\u001b[0m         \u001b[0;34m\"\"\"Public constructor\"\"\"\u001b[0m\u001b[0;34m\u001b[0m\u001b[0m\n\u001b[1;32m    411\u001b[0m         \u001b[0mself\u001b[0m\u001b[0;34m.\u001b[0m\u001b[0m_model_id\u001b[0m \u001b[0;34m=\u001b[0m \u001b[0mkwargs\u001b[0m\u001b[0;34m.\u001b[0m\u001b[0mpop\u001b[0m\u001b[0;34m(\u001b[0m\u001b[0;34m'model_id'\u001b[0m\u001b[0;34m,\u001b[0m \u001b[0;32mNone\u001b[0m\u001b[0;34m)\u001b[0m\u001b[0;34m\u001b[0m\u001b[0m\n\u001b[0;32m--> 412\u001b[0;31m         \u001b[0msuper\u001b[0m\u001b[0;34m(\u001b[0m\u001b[0mWidget\u001b[0m\u001b[0;34m,\u001b[0m \u001b[0mself\u001b[0m\u001b[0;34m)\u001b[0m\u001b[0;34m.\u001b[0m\u001b[0m__init__\u001b[0m\u001b[0;34m(\u001b[0m\u001b[0;34m**\u001b[0m\u001b[0mkwargs\u001b[0m\u001b[0;34m)\u001b[0m\u001b[0;34m\u001b[0m\u001b[0m\n\u001b[0m\u001b[1;32m    413\u001b[0m \u001b[0;34m\u001b[0m\u001b[0m\n\u001b[1;32m    414\u001b[0m         \u001b[0mWidget\u001b[0m\u001b[0;34m.\u001b[0m\u001b[0m_call_widget_constructed\u001b[0m\u001b[0;34m(\u001b[0m\u001b[0mself\u001b[0m\u001b[0;34m)\u001b[0m\u001b[0;34m\u001b[0m\u001b[0m\n",
      "\u001b[0;32m/opt/conda/lib/python3.6/site-packages/traitlets/traitlets.py\u001b[0m in \u001b[0;36m__init__\u001b[0;34m(self, *args, **kwargs)\u001b[0m\n\u001b[1;32m    998\u001b[0m                 \u001b[0;32melse\u001b[0m\u001b[0;34m:\u001b[0m\u001b[0;34m\u001b[0m\u001b[0m\n\u001b[1;32m    999\u001b[0m                     \u001b[0;31m# passthrough args that don't set traits to super\u001b[0m\u001b[0;34m\u001b[0m\u001b[0;34m\u001b[0m\u001b[0m\n\u001b[0;32m-> 1000\u001b[0;31m                     \u001b[0msuper_kwargs\u001b[0m\u001b[0;34m[\u001b[0m\u001b[0mkey\u001b[0m\u001b[0;34m]\u001b[0m \u001b[0;34m=\u001b[0m \u001b[0mvalue\u001b[0m\u001b[0;34m\u001b[0m\u001b[0m\n\u001b[0m\u001b[1;32m   1001\u001b[0m         \u001b[0;32mtry\u001b[0m\u001b[0;34m:\u001b[0m\u001b[0;34m\u001b[0m\u001b[0m\n\u001b[1;32m   1002\u001b[0m             \u001b[0msuper\u001b[0m\u001b[0;34m(\u001b[0m\u001b[0mHasTraits\u001b[0m\u001b[0;34m,\u001b[0m \u001b[0mself\u001b[0m\u001b[0;34m)\u001b[0m\u001b[0;34m.\u001b[0m\u001b[0m__init__\u001b[0m\u001b[0;34m(\u001b[0m\u001b[0;34m*\u001b[0m\u001b[0msuper_args\u001b[0m\u001b[0;34m,\u001b[0m \u001b[0;34m**\u001b[0m\u001b[0msuper_kwargs\u001b[0m\u001b[0;34m)\u001b[0m\u001b[0;34m\u001b[0m\u001b[0m\n",
      "\u001b[0;32m/opt/conda/lib/python3.6/contextlib.py\u001b[0m in \u001b[0;36m__exit__\u001b[0;34m(self, type, value, traceback)\u001b[0m\n\u001b[1;32m     86\u001b[0m         \u001b[0;32mif\u001b[0m \u001b[0mtype\u001b[0m \u001b[0;32mis\u001b[0m \u001b[0;32mNone\u001b[0m\u001b[0;34m:\u001b[0m\u001b[0;34m\u001b[0m\u001b[0m\n\u001b[1;32m     87\u001b[0m             \u001b[0;32mtry\u001b[0m\u001b[0;34m:\u001b[0m\u001b[0;34m\u001b[0m\u001b[0m\n\u001b[0;32m---> 88\u001b[0;31m                 \u001b[0mnext\u001b[0m\u001b[0;34m(\u001b[0m\u001b[0mself\u001b[0m\u001b[0;34m.\u001b[0m\u001b[0mgen\u001b[0m\u001b[0;34m)\u001b[0m\u001b[0;34m\u001b[0m\u001b[0m\n\u001b[0m\u001b[1;32m     89\u001b[0m             \u001b[0;32mexcept\u001b[0m \u001b[0mStopIteration\u001b[0m\u001b[0;34m:\u001b[0m\u001b[0;34m\u001b[0m\u001b[0m\n\u001b[1;32m     90\u001b[0m                 \u001b[0;32mreturn\u001b[0m \u001b[0;32mFalse\u001b[0m\u001b[0;34m\u001b[0m\u001b[0m\n",
      "\u001b[0;32m/opt/conda/lib/python3.6/site-packages/traitlets/traitlets.py\u001b[0m in \u001b[0;36mhold_trait_notifications\u001b[0;34m(self)\u001b[0m\n\u001b[1;32m   1120\u001b[0m                                 \u001b[0mself\u001b[0m\u001b[0;34m.\u001b[0m\u001b[0m_trait_values\u001b[0m\u001b[0;34m.\u001b[0m\u001b[0mpop\u001b[0m\u001b[0;34m(\u001b[0m\u001b[0mname\u001b[0m\u001b[0;34m)\u001b[0m\u001b[0;34m\u001b[0m\u001b[0m\n\u001b[1;32m   1121\u001b[0m                 \u001b[0mcache\u001b[0m \u001b[0;34m=\u001b[0m \u001b[0;34m{\u001b[0m\u001b[0;34m}\u001b[0m\u001b[0;34m\u001b[0m\u001b[0m\n\u001b[0;32m-> 1122\u001b[0;31m                 \u001b[0;32mraise\u001b[0m \u001b[0me\u001b[0m\u001b[0;34m\u001b[0m\u001b[0m\n\u001b[0m\u001b[1;32m   1123\u001b[0m             \u001b[0;32mfinally\u001b[0m\u001b[0;34m:\u001b[0m\u001b[0;34m\u001b[0m\u001b[0m\n\u001b[1;32m   1124\u001b[0m                 \u001b[0mself\u001b[0m\u001b[0;34m.\u001b[0m\u001b[0m_cross_validation_lock\u001b[0m \u001b[0;34m=\u001b[0m \u001b[0;32mFalse\u001b[0m\u001b[0;34m\u001b[0m\u001b[0m\n",
      "\u001b[0;32m/opt/conda/lib/python3.6/site-packages/traitlets/traitlets.py\u001b[0m in \u001b[0;36mhold_trait_notifications\u001b[0;34m(self)\u001b[0m\n\u001b[1;32m   1106\u001b[0m                 \u001b[0;32mfor\u001b[0m \u001b[0mname\u001b[0m \u001b[0;32min\u001b[0m \u001b[0mlist\u001b[0m\u001b[0;34m(\u001b[0m\u001b[0mcache\u001b[0m\u001b[0;34m.\u001b[0m\u001b[0mkeys\u001b[0m\u001b[0;34m(\u001b[0m\u001b[0;34m)\u001b[0m\u001b[0;34m)\u001b[0m\u001b[0;34m:\u001b[0m\u001b[0;34m\u001b[0m\u001b[0m\n\u001b[1;32m   1107\u001b[0m                     \u001b[0mtrait\u001b[0m \u001b[0;34m=\u001b[0m \u001b[0mgetattr\u001b[0m\u001b[0;34m(\u001b[0m\u001b[0mself\u001b[0m\u001b[0;34m.\u001b[0m\u001b[0m__class__\u001b[0m\u001b[0;34m,\u001b[0m \u001b[0mname\u001b[0m\u001b[0;34m)\u001b[0m\u001b[0;34m\u001b[0m\u001b[0m\n\u001b[0;32m-> 1108\u001b[0;31m                     \u001b[0mvalue\u001b[0m \u001b[0;34m=\u001b[0m \u001b[0mtrait\u001b[0m\u001b[0;34m.\u001b[0m\u001b[0m_cross_validate\u001b[0m\u001b[0;34m(\u001b[0m\u001b[0mself\u001b[0m\u001b[0;34m,\u001b[0m \u001b[0mgetattr\u001b[0m\u001b[0;34m(\u001b[0m\u001b[0mself\u001b[0m\u001b[0;34m,\u001b[0m \u001b[0mname\u001b[0m\u001b[0;34m)\u001b[0m\u001b[0;34m)\u001b[0m\u001b[0;34m\u001b[0m\u001b[0m\n\u001b[0m\u001b[1;32m   1109\u001b[0m                     \u001b[0mself\u001b[0m\u001b[0;34m.\u001b[0m\u001b[0mset_trait\u001b[0m\u001b[0;34m(\u001b[0m\u001b[0mname\u001b[0m\u001b[0;34m,\u001b[0m \u001b[0mvalue\u001b[0m\u001b[0;34m)\u001b[0m\u001b[0;34m\u001b[0m\u001b[0m\n\u001b[1;32m   1110\u001b[0m             \u001b[0;32mexcept\u001b[0m \u001b[0mTraitError\u001b[0m \u001b[0;32mas\u001b[0m \u001b[0me\u001b[0m\u001b[0;34m:\u001b[0m\u001b[0;34m\u001b[0m\u001b[0m\n",
      "\u001b[0;32m/opt/conda/lib/python3.6/site-packages/traitlets/traitlets.py\u001b[0m in \u001b[0;36m_cross_validate\u001b[0;34m(self, obj, value)\u001b[0m\n\u001b[1;32m    597\u001b[0m         \u001b[0;32mif\u001b[0m \u001b[0mself\u001b[0m\u001b[0;34m.\u001b[0m\u001b[0mname\u001b[0m \u001b[0;32min\u001b[0m \u001b[0mobj\u001b[0m\u001b[0;34m.\u001b[0m\u001b[0m_trait_validators\u001b[0m\u001b[0;34m:\u001b[0m\u001b[0;34m\u001b[0m\u001b[0m\n\u001b[1;32m    598\u001b[0m             \u001b[0mproposal\u001b[0m \u001b[0;34m=\u001b[0m \u001b[0mBunch\u001b[0m\u001b[0;34m(\u001b[0m\u001b[0;34m{\u001b[0m\u001b[0;34m'trait'\u001b[0m\u001b[0;34m:\u001b[0m \u001b[0mself\u001b[0m\u001b[0;34m,\u001b[0m \u001b[0;34m'value'\u001b[0m\u001b[0;34m:\u001b[0m \u001b[0mvalue\u001b[0m\u001b[0;34m,\u001b[0m \u001b[0;34m'owner'\u001b[0m\u001b[0;34m:\u001b[0m \u001b[0mobj\u001b[0m\u001b[0;34m}\u001b[0m\u001b[0;34m)\u001b[0m\u001b[0;34m\u001b[0m\u001b[0m\n\u001b[0;32m--> 599\u001b[0;31m             \u001b[0mvalue\u001b[0m \u001b[0;34m=\u001b[0m \u001b[0mobj\u001b[0m\u001b[0;34m.\u001b[0m\u001b[0m_trait_validators\u001b[0m\u001b[0;34m[\u001b[0m\u001b[0mself\u001b[0m\u001b[0;34m.\u001b[0m\u001b[0mname\u001b[0m\u001b[0;34m]\u001b[0m\u001b[0;34m(\u001b[0m\u001b[0mobj\u001b[0m\u001b[0;34m,\u001b[0m \u001b[0mproposal\u001b[0m\u001b[0;34m)\u001b[0m\u001b[0;34m\u001b[0m\u001b[0m\n\u001b[0m\u001b[1;32m    600\u001b[0m         \u001b[0;32melif\u001b[0m \u001b[0mhasattr\u001b[0m\u001b[0;34m(\u001b[0m\u001b[0mobj\u001b[0m\u001b[0;34m,\u001b[0m \u001b[0;34m'_%s_validate'\u001b[0m \u001b[0;34m%\u001b[0m \u001b[0mself\u001b[0m\u001b[0;34m.\u001b[0m\u001b[0mname\u001b[0m\u001b[0;34m)\u001b[0m\u001b[0;34m:\u001b[0m\u001b[0;34m\u001b[0m\u001b[0m\n\u001b[1;32m    601\u001b[0m             \u001b[0mmeth_name\u001b[0m \u001b[0;34m=\u001b[0m \u001b[0;34m'_%s_validate'\u001b[0m \u001b[0;34m%\u001b[0m \u001b[0mself\u001b[0m\u001b[0;34m.\u001b[0m\u001b[0mname\u001b[0m\u001b[0;34m\u001b[0m\u001b[0m\n",
      "\u001b[0;32m/opt/conda/lib/python3.6/site-packages/traitlets/traitlets.py\u001b[0m in \u001b[0;36m__call__\u001b[0;34m(self, *args, **kwargs)\u001b[0m\n\u001b[1;32m    905\u001b[0m         \u001b[0;34m\"\"\"Pass `*args` and `**kwargs` to the handler's function if it exists.\"\"\"\u001b[0m\u001b[0;34m\u001b[0m\u001b[0m\n\u001b[1;32m    906\u001b[0m         \u001b[0;32mif\u001b[0m \u001b[0mhasattr\u001b[0m\u001b[0;34m(\u001b[0m\u001b[0mself\u001b[0m\u001b[0;34m,\u001b[0m \u001b[0;34m'func'\u001b[0m\u001b[0;34m)\u001b[0m\u001b[0;34m:\u001b[0m\u001b[0;34m\u001b[0m\u001b[0m\n\u001b[0;32m--> 907\u001b[0;31m             \u001b[0;32mreturn\u001b[0m \u001b[0mself\u001b[0m\u001b[0;34m.\u001b[0m\u001b[0mfunc\u001b[0m\u001b[0;34m(\u001b[0m\u001b[0;34m*\u001b[0m\u001b[0margs\u001b[0m\u001b[0;34m,\u001b[0m \u001b[0;34m**\u001b[0m\u001b[0mkwargs\u001b[0m\u001b[0;34m)\u001b[0m\u001b[0;34m\u001b[0m\u001b[0m\n\u001b[0m\u001b[1;32m    908\u001b[0m         \u001b[0;32melse\u001b[0m\u001b[0;34m:\u001b[0m\u001b[0;34m\u001b[0m\u001b[0m\n\u001b[1;32m    909\u001b[0m             \u001b[0;32mreturn\u001b[0m \u001b[0mself\u001b[0m\u001b[0;34m.\u001b[0m\u001b[0m_init_call\u001b[0m\u001b[0;34m(\u001b[0m\u001b[0;34m*\u001b[0m\u001b[0margs\u001b[0m\u001b[0;34m,\u001b[0m \u001b[0;34m**\u001b[0m\u001b[0mkwargs\u001b[0m\u001b[0;34m)\u001b[0m\u001b[0;34m\u001b[0m\u001b[0m\n",
      "\u001b[0;32m/opt/conda/lib/python3.6/site-packages/ipywidgets/widgets/widget_selection.py\u001b[0m in \u001b[0;36m_validate_value\u001b[0;34m(self, proposal)\u001b[0m\n\u001b[1;32m    241\u001b[0m             \u001b[0;32mreturn\u001b[0m \u001b[0mfindvalue\u001b[0m\u001b[0;34m(\u001b[0m\u001b[0mself\u001b[0m\u001b[0;34m.\u001b[0m\u001b[0m_options_values\u001b[0m\u001b[0;34m,\u001b[0m \u001b[0mvalue\u001b[0m\u001b[0;34m,\u001b[0m \u001b[0mself\u001b[0m\u001b[0;34m.\u001b[0m\u001b[0mequals\u001b[0m\u001b[0;34m)\u001b[0m \u001b[0;32mif\u001b[0m \u001b[0mvalue\u001b[0m \u001b[0;32mis\u001b[0m \u001b[0;32mnot\u001b[0m \u001b[0;32mNone\u001b[0m \u001b[0;32melse\u001b[0m \u001b[0;32mNone\u001b[0m\u001b[0;34m\u001b[0m\u001b[0m\n\u001b[1;32m    242\u001b[0m         \u001b[0;32mexcept\u001b[0m \u001b[0mValueError\u001b[0m\u001b[0;34m:\u001b[0m\u001b[0;34m\u001b[0m\u001b[0m\n\u001b[0;32m--> 243\u001b[0;31m             \u001b[0;32mraise\u001b[0m \u001b[0mTraitError\u001b[0m\u001b[0;34m(\u001b[0m\u001b[0;34m'Invalid selection: value not found'\u001b[0m\u001b[0;34m)\u001b[0m\u001b[0;34m\u001b[0m\u001b[0m\n\u001b[0m\u001b[1;32m    244\u001b[0m \u001b[0;34m\u001b[0m\u001b[0m\n\u001b[1;32m    245\u001b[0m     \u001b[0;34m@\u001b[0m\u001b[0mobserve\u001b[0m\u001b[0;34m(\u001b[0m\u001b[0;34m'value'\u001b[0m\u001b[0;34m)\u001b[0m\u001b[0;34m\u001b[0m\u001b[0m\n",
      "\u001b[0;31mTraitError\u001b[0m: Invalid selection: value not found"
     ]
    }
   ],
   "source": [
    "related_papers()"
   ]
  },
  {
   "cell_type": "markdown",
   "metadata": {},
   "source": [
    "# Browse Tasks"
   ]
  },
  {
   "cell_type": "markdown",
   "metadata": {},
   "source": [
    "We can now also map a task or bullet point into the topic space and find related articles that might help to solve the question at hand.\n",
    "\n",
    "Note: Some of the bullet points are very short - results might not be reliable in this case.  "
   ]
  },
  {
   "cell_type": "code",
   "execution_count": 39,
   "metadata": {
    "_kg_hide-input": true,
    "_kg_hide-output": true
   },
   "outputs": [],
   "source": [
    "task1 = [\"Range of incubation periods for the disease in humans (and how this varies across age and health status) and how long individuals are contagious, even after recovery.\",\n",
    "\"Prevalence of asymptomatic shedding and transmission (e.g., particularly children).\",\n",
    "\"Seasonality of transmission.\",\n",
    "\"Physical science of the coronavirus (e.g., charge distribution, adhesion to hydrophilic/phobic surfaces, environmental survival to inform decontamination efforts for affected areas and provide information about viral shedding).\",\n",
    "\"Persistence and stability on a multitude of substrates and sources (e.g., nasal discharge, sputum, urine, fecal matter, blood).\",\n",
    "\"Persistence of virus on surfaces of different materials (e,g., copper, stainless steel, plastic).\",\n",
    "\"Natural history of the virus and shedding of it from an infected person\",\n",
    "\"Implementation of diagnostics and products to improve clinical processes\",\n",
    "\"Disease models, including animal models for infection, disease and transmission\",\n",
    "\"Tools and studies to monitor phenotypic change and potential adaptation of the virus\",\n",
    "\"Immune response and immunity\",\n",
    "\"Effectiveness of movement control strategies to prevent secondary transmission in health care and community settings\",\n",
    " \"Effectiveness of personal protective equipment (PPE) and its usefulness to reduce risk of transmission in health care and community settings\",\n",
    "\"Role of the environment in transmission\"]\n",
    "\n",
    "task2 = ['Data on potential risks factors',\n",
    "'Smoking, pre-existing pulmonary disease',\n",
    "'Co-infections (determine whether co-existing respiratory/viral infections make the virus more transmissible or virulent) and other co-morbidities',\n",
    "'Neonates and pregnant women',\n",
    "'Socio-economic and behavioral factors to understand the economic impact of the virus and whether there were differences.',\n",
    "'Transmission dynamics of the virus, including the basic reproductive number, incubation period, serial interval, modes of transmission and environmental factors', \n",
    "'Severity of disease, including risk of fatality among symptomatic hospitalized patients, and high-risk patient groups',\n",
    "'Susceptibility of populations',\n",
    "'Public health mitigation measures that could be effective for control']\n",
    "\n",
    "task3 = ['Real-time tracking of whole genomes and a mechanism for coordinating the rapid dissemination of that information to inform the development of diagnostics and therapeutics and to track variations of the virus over time.',\n",
    "'Access to geographic and temporal diverse sample sets to understand geographic distribution and genomic differences, and determine whether there is more than one strain in circulation. Multi-lateral agreements such as the Nagoya Protocol could be leveraged.',\n",
    "'Evidence that livestock could be infected (e.g., field surveillance, genetic sequencing, receptor binding) and serve as a reservoir after the epidemic appears to be over.',\n",
    "'Evidence of whether farmers are infected, and whether farmers could have played a role in the origin.',\n",
    "'Surveillance of mixed wildlife- livestock farms for SARS-CoV-2 and other coronaviruses in Southeast Asia.',\n",
    "'Experimental infections to test host range for this pathogen.',\n",
    "'Animal host(s) and any evidence of continued spill-over to humans',\n",
    "'Socioeconomic and behavioral risk factors for this spill-over',\n",
    "'Sustainable risk reduction strategies']\n",
    "\n",
    "task4 = [\"Guidance on ways to scale up NPIs in a more coordinated way (e.g., establish funding, infrastructure and authorities to support real time, authoritative (qualified participants) collaboration with all states to gain consensus on consistent guidance and to mobilize resources to geographic areas where critical shortfalls are identified) to give us time to enhance our health care delivery system capacity to respond to an increase in cases.\",\n",
    "\"Rapid design and execution of experiments to examine and compare NPIs currently being implemented. DHS Centers for Excellence could potentially be leveraged to conduct these experiments.\",\n",
    "\"Rapid assessment of the likely efficacy of school closures, travel bans, bans on mass gatherings of various sizes, and other social distancing approaches.\",\n",
    "\"Methods to control the spread in communities, barriers to compliance and how these vary among different populations..\",\n",
    "\"Models of potential interventions to predict costs and benefits that take account of such factors as race, income, disability, age, geographic location, immigration status, housing status, employment status, and health insurance status.\",\n",
    "\"Policy changes necessary to enable the compliance of individuals with limited resources and the underserved with NPIs.\",\n",
    "\"Research on why people fail to comply with public health advice, even if they want to do so (e.g., social or financial costs may be too high).\",\n",
    "\"Research on the economic impact of this or any pandemic. This would include identifying policy and programmatic alternatives that lessen/mitigate risks to critical government services, food distribution and supplies, access to critical household supplies, and access to health diagnoses, treatment, and needed care, regardless of ability to pay.\"]\n",
    "\n",
    "task5 = [\"Effectiveness of drugs being developed and tried to treat COVID-19 patients. Clinical and bench trials to investigate less common viral inhibitors against COVID-19 such as naproxen, clarithromycin, and minocyclinethat that may exert effects on viral replication.\",\n",
    "\"Methods evaluating potential complication of Antibody-Dependent Enhancement (ADE) in vaccine recipients.\",\n",
    "\"Exploration of use of best animal models and their predictive value for a human vaccine.\",\n",
    "\"Capabilities to discover a therapeutic (not vaccine) for the disease, and clinical effectiveness studies to discover therapeutics, to include antiviral agents.\",\n",
    "\"Alternative models to aid decision makers in determining how to prioritize and distribute scarce, newly proven therapeutics as production ramps up. This could include identifying approaches for expanding production capacity to ensure equitable and timely distribution to populations in need.\",\n",
    "\"Efforts targeted at a universal coronavirus vaccine.\",\n",
    "\"Efforts to develop animal models and standardize challenge studies\",\n",
    "\"Efforts to develop prophylaxis clinical studies and prioritize in healthcare workers\",\n",
    "\"Approaches to evaluate risk for enhanced disease after vaccination\",\n",
    "\"Assays to evaluate vaccine immune response and process development for vaccines, alongside suitable animal models [in conjunction with therapeutics]\"]\n",
    "\n",
    "task6 = [\"Efforts to articulate and translate existing ethical principles and standards to salient issues in COVID-2019\", \n",
    "\"Efforts to embed ethics across all thematic areas, engage with novel ethical issues that arise and coordinate to minimize duplication of oversight\",\n",
    "\"Efforts to support sustained education, access, and capacity building in the area of ethics\",\n",
    "\"Efforts to establish a team at WHO that will be integrated within multidisciplinary research and operational platforms and that will connect with existing and expanded global networks of social sciences.\",\n",
    "\"Efforts to develop qualitative assessment frameworks to systematically collect information related to local barriers and enablers for the uptake and adherence to public health measures for prevention and control. This includes the rapid identification of the secondary impacts of these measures. (e.g. use of surgical masks, modification of health seeking behaviors for SRH, school closures)\",\n",
    "\"Efforts to identify how the burden of responding to the outbreak and implementing public health measures affects the physical and psychological health of those providing care for Covid-19 patients and identify the immediate needs that must be addressed.\",\n",
    "\"Efforts to identify the underlying drivers of fear, anxiety and stigma that fuel misinformation and rumor, particularly through social media.\"]\n",
    "\n",
    "task7 = [\"How widespread current exposure is to be able to make immediate policy recommendations on mitigation measures. Denominators for testing and a mechanism for rapidly sharing that information, including demographics, to the extent possible. Sampling methods to determine asymptomatic disease (e.g., use of serosurveys (such as convalescent samples) and early detection of disease (e.g., use of screening of neutralizing antibodies such as ELISAs).\",\n",
    "\"Efforts to increase capacity on existing diagnostic platforms and tap into existing surveillance platforms.\",\n",
    "\"Recruitment, support, and coordination of local expertise and capacity (public, private—commercial, and non-profit, including academic), including legal, ethical, communications, and operational issues.\",\n",
    "\"National guidance and guidelines about best practices to states (e.g., how states might leverage universities and private laboratories for testing purposes, communications to public health officials and the public).\",\n",
    "\"Development of a point-of-care test (like a rapid influenza test) and rapid bed-side tests, recognizing the tradeoffs between speed, accessibility, and accuracy.\",\n",
    "\"Rapid design and execution of targeted surveillance experiments calling for all potential testers using PCR in a defined area to start testing and report to a specific entity. These experiments could aid in collecting longitudinal samples, which are critical to understanding the impact of ad hoc local interventions (which also need to be recorded).\",\n",
    "\"Separation of assay development issues from instruments, and the role of the private sector to help quickly migrate assays onto those devices.\",\n",
    "\"Efforts to track the evolution of the virus (i.e., genetic drift or mutations) and avoid locking into specific reagents and surveillance/detection schemes.\",\n",
    "\"Latency issues and when there is sufficient viral load to detect the pathogen, and understanding of what is needed in terms of biological and environmental sampling.\",\n",
    "\"Use of diagnostics such as host response markers (e.g., cytokines) to detect early disease or predict severe disease progression, which would be important to understanding best clinical practice and efficacy of therapeutic interventions.\",\n",
    "\"Policies and protocols for screening and testing.\",\n",
    "\"Policies to mitigate the effects on supplies associated with mass testing, including swabs and reagents.\",\n",
    "\"Technology roadmap for diagnostics.\",\n",
    "\"Barriers to developing and scaling up new diagnostic tests (e.g., market forces), how future coalition and accelerator models (e.g., Coalition for Epidemic Preparedness Innovations) could provide critical funding for diagnostics, and opportunities for a streamlined regulatory environment.\",\n",
    "\"New platforms and technology (e.g., CRISPR) to improve response times and employ more holistic approaches to COVID-19 and future diseases.\",\n",
    "\"Coupling genomics and diagnostic testing on a large scale.\",\n",
    "\"Enhance capabilities for rapid sequencing and bioinformatics to target regions of the genome that will allow specificity for a particular variant.\",\n",
    "\"Enhance capacity (people, technology, data) for sequencing with advanced analytics for unknown pathogens, and explore capabilities for distinguishing naturally-occurring pathogens from intentional.\",\n",
    "\"One Health surveillance of humans and potential sources of future spillover or ongoing exposure for this organism and future pathogens, including both evolutionary hosts (e.g., bats) and transmission hosts (e.g., heavily trafficked and farmed wildlife and domestic food and companion species), inclusive of environmental, demographic, and occupational risk factors.\"]\n",
    "\n",
    "task8 = [\"Resources to support skilled nursing facilities and long term care facilities.\",\n",
    "\"Mobilization of surge medical staff to address shortages in overwhelmed communities\",\n",
    "\"Age-adjusted mortality data for Acute Respiratory Distress Syndrome (ARDS) with/without other organ failure – particularly for viral etiologies\",\n",
    "\"Extracorporeal membrane oxygenation (ECMO) outcomes data of COVID-19 patients\",\n",
    "\"Outcomes data for COVID-19 after mechanical ventilation adjusted for age.\",\n",
    "\"Knowledge of the frequency, manifestations, and course of extrapulmonary manifestations of COVID-19, including, but not limited to, possible cardiomyopathy and cardiac arrest.\",\n",
    "\"Application of regulatory standards (e.g., EUA, CLIA) and ability to adapt care to crisis standards of care level.\",\n",
    "\"Approaches for encouraging and facilitating the production of elastomeric respirators, which can save thousands of N95 masks.\",\n",
    "\"Best telemedicine practices, barriers and faciitators, and specific actions to remove/expand them within and across state boundaries.\",\n",
    "\"Guidance on the simple things people can do at home to take care of sick people and manage disease.\",\n",
    "\"Oral medications that might potentially work.\",\n",
    "\"Use of AI in real-time health care delivery to evaluate interventions, risk factors, and outcomes in a way that could not be done manually.\",\n",
    "\"Best practices and critical challenges and innovative solutions and technologies in hospital flow and organization, workforce protection, workforce allocation, community-based support resources, payment, and supply chain management to enhance capacity, efficiency, and outcomes.\",\n",
    "\"Efforts to define the natural history of disease to inform clinical care, public health interventions, infection prevention control, transmission, and clinical trials\",\n",
    "\"Efforts to develop a core clinical outcome set to maximize usability of data across a range of trials\",\n",
    "\"Efforts to determine adjunctive and supportive interventions that can improve the clinical outcomes of infected patients (e.g. steroids, high flow oxygen)\"]\n",
    "\n",
    "task9 = [\"Methods for coordinating data-gathering with standardized nomenclature.\",\n",
    "\"Sharing response information among planners, providers, and others.\",\n",
    "\"Understanding and mitigating barriers to information-sharing.\",\n",
    "\"How to recruit, support, and coordinate local (non-Federal) expertise and capacity relevant to public health emergency response (public, private, commercial and non-profit, including academic).\",\n",
    "\"Integration of federal/state/local public health surveillance systems.\",\n",
    "\"Value of investments in baseline public health response infrastructure preparedness\",\n",
    "\"Modes of communicating with target high-risk populations (elderly, health care workers).\",\n",
    "\"Risk communication and guidelines that are easy to understand and follow (include targeting at risk populations’ families too).\",\n",
    "\"Communication that indicates potential risk of disease to all population groups.\",\n",
    "\"Misunderstanding around containment and mitigation.\",\n",
    "\"Action plan to mitigate gaps and problems of inequity in the Nation’s public health capability, capacity, and funding to ensure all citizens in need are supported and can access information, surveillance, and treatment.\",\n",
    "\"Measures to reach marginalized and disadvantaged populations.\",\n",
    "\"Data systems and research priorities and agendas incorporate attention to the needs and circumstances of disadvantaged populations and underrepresented minorities.\",\n",
    "\"Mitigating threats to incarcerated people from COVID-19, assuring access to information, prevention, diagnosis, and treatment.\",\n",
    "\"Understanding coverage policies (barriers and opportunities) related to testing, treatment, and care\"]\n",
    "\n",
    "tasks={'What is known about transmission, incubation, and environmental stability?': task1,\n",
    "       'What do we know about COVID-19 risk factors?': task2, \n",
    "       'What do we know about virus genetics, origin, and evolution?': task3, \n",
    "       'What do we know about non-pharmaceutical interventions?': task4,\n",
    "       'What do we know about vaccines and therapeutics?': task5, \n",
    "       'What has been published about ethical and social science considerations?': task6, \n",
    "       'What do we know about diagnostics and surveillance?': task7,\n",
    "       'What has been published about medical care?': task8, \n",
    "       'What has been published about information sharing and inter-sectoral collaboration?': task9}"
   ]
  },
  {
   "cell_type": "code",
   "execution_count": 40,
   "metadata": {
    "_kg_hide-input": true,
    "_kg_hide-output": true
   },
   "outputs": [],
   "source": [
    "# def relevant_articles(tasks, k=3, lower=1950, upper=2020, only_covid19=False):\n",
    "#     tasks = [tasks] if type(tasks) is str else tasks \n",
    "    \n",
    "#     tasks_tf = tf_vectorizer.transform(tasks)\n",
    "#     tasks_topic_dist = pd.DataFrame(lda_tf.transform(tasks_tf))\n",
    "\n",
    "#     for index, bullet in enumerate(tasks):\n",
    "#         print(bullet)\n",
    "#         recommended = get_k_nearest_docs(tasks_topic_dist.iloc[index], k, lower, upper, only_covid19)\n",
    "#         recommended = all_data.iloc[recommended]\n",
    "\n",
    "#         recommended[['paper_id','title', 'abstract']].to_csv('task' + str(index) + '.csv')"
   ]
  },
  {
   "cell_type": "code",
   "execution_count": 41,
   "metadata": {
    "_kg_hide-input": true,
    "_kg_hide-output": true
   },
   "outputs": [],
   "source": [
    "def relevant_articles(tasks, k=3, lower=1950, upper=2020, only_covid19=False):\n",
    "    tasks = [tasks] if type(tasks) is str else tasks \n",
    "    \n",
    "    tasks_vectorized = vectorizer.transform(tasks)\n",
    "    tasks_topic_dist = pd.DataFrame(lda.transform(tasks_vectorized))\n",
    "\n",
    "    for index, bullet in enumerate(tasks):\n",
    "        print(bullet)\n",
    "        recommended = get_k_nearest_docs(tasks_topic_dist.iloc[index], k, lower, upper, only_covid19)\n",
    "        recommended = df.iloc[recommended]\n",
    "\n",
    "        h = '<br/>'.join(['<a href=\"' + l + '\" target=\"_blank\">'+ n + '</a>' for l, n in recommended[['url','title']].values])\n",
    "        display(HTML(h))"
   ]
  },
  {
   "cell_type": "markdown",
   "metadata": {},
   "source": [
    "## What is known about transmission, incubation, and environmental stability?"
   ]
  },
  {
   "cell_type": "code",
   "execution_count": 42,
   "metadata": {
    "_kg_hide-output": true
   },
   "outputs": [
    {
     "name": "stdout",
     "output_type": "stream",
     "text": [
      "Range of incubation periods for the disease in humans (and how this varies across age and health status) and how long individuals are contagious, even after recovery.\n"
     ]
    },
    {
     "data": {
      "text/html": [
       "<a href=\"https://doi.org/10.1016/s1473-3099(20)30161-4\" target=\"_blank\">The value of early transmission dynamic studies in emerging infectious diseases</a><br/><a href=\"https://doi.org/10.1101/2020.04.11.20061143\" target=\"_blank\">Lockdowns to Contain COVID-19 Increase Risk and Severity of Mosquito-Borne Disease Outbreaks</a><br/><a href=\"https://doi.org/10.1016/j.tmaid.2020.101630\" target=\"_blank\">Mapping the incidence of the COVID-19 hotspot in Iran – Implications for Travellers</a><br/><a href=\"https://doi.org/10.1016/j.tim.2020.04.009\" target=\"_blank\">Using serology to anticipate measles post-honeymoon period outbreaks</a><br/><a href=\"https://doi.org/10.1101/2020.02.17.20024075\" target=\"_blank\">Estimating number of global importations of COVID-19 from Wuhan, risk of transmission outside mainland China and COVID-19 introduction index between countries outside mainland China</a>"
      ],
      "text/plain": [
       "<IPython.core.display.HTML object>"
      ]
     },
     "metadata": {},
     "output_type": "display_data"
    },
    {
     "name": "stdout",
     "output_type": "stream",
     "text": [
      "Prevalence of asymptomatic shedding and transmission (e.g., particularly children).\n"
     ]
    },
    {
     "data": {
      "text/html": [
       "<a href=\"https://www.ncbi.nlm.nih.gov/pmc/articles/PMC7180644/\" target=\"_blank\">Oral hygiene risk factor</a><br/><a href=\"https://doi.org/10.1016/j.mehy.2020.109689\" target=\"_blank\">Routine childhood immunization may protect against COVID-19</a><br/><a href=\"https://www.ncbi.nlm.nih.gov/pmc/articles/PMC7052386/\" target=\"_blank\">Respiratory Viral Infections in Exacerbation of Chronic Airway Inflammatory Diseases: Novel Mechanisms and Insights From the Upper Airway Epithelium</a><br/><a href=\"https://doi.org/10.1016/j.jaad.2020.04.044\" target=\"_blank\">Varicella-like exanthem as a specific COVID-19-associated skin manifestation: multicenter case series of 22 patients</a><br/><a href=\"https://doi.org/10.1016/j.cll.2004.05.012\" target=\"_blank\">Emerging infections and their causative agents</a>"
      ],
      "text/plain": [
       "<IPython.core.display.HTML object>"
      ]
     },
     "metadata": {},
     "output_type": "display_data"
    },
    {
     "name": "stdout",
     "output_type": "stream",
     "text": [
      "Seasonality of transmission.\n"
     ]
    },
    {
     "data": {
      "text/html": [
       "<a href=\"https://doi.org/10.1016/j.tmaid.2020.101633\" target=\"_blank\">Should the Holy Week 2020 be cancelled in Latin America due to the COVID-19 pandemic?</a><br/><a href=\"https://doi.org/10.1016/j.tmaid.2020.101613\" target=\"_blank\">COVID-19 in Latin America: The implications of the first confirmed case in Brazil</a><br/><a href=\"https://doi.org/10.1101/2020.04.24.057430\" target=\"_blank\">Ecological processes underlying the emergence of novel enzootic cycles—arboviruses in the neotropics as a case study</a><br/><a href=\"https://doi.org/10.1016/s2468-1253(20)30087-x\" target=\"_blank\">SARS-CoV-2 in wastewater: potential health risk, but also data source</a><br/><a href=\"https://doi.org/10.1016/j.pulmoe.2020.02.010\" target=\"_blank\">And now for something completely different: from 2019-nCoV and COVID-19 to 2020-nMan</a>"
      ],
      "text/plain": [
       "<IPython.core.display.HTML object>"
      ]
     },
     "metadata": {},
     "output_type": "display_data"
    },
    {
     "name": "stdout",
     "output_type": "stream",
     "text": [
      "Physical science of the coronavirus (e.g., charge distribution, adhesion to hydrophilic/phobic surfaces, environmental survival to inform decontamination efforts for affected areas and provide information about viral shedding).\n"
     ]
    },
    {
     "ename": "TypeError",
     "evalue": "must be str, not float",
     "output_type": "error",
     "traceback": [
      "\u001b[0;31m---------------------------------------------------------------------------\u001b[0m",
      "\u001b[0;31mTypeError\u001b[0m                                 Traceback (most recent call last)",
      "\u001b[0;32m<ipython-input-42-aa0518bc5fe0>\u001b[0m in \u001b[0;36m<module>\u001b[0;34m\u001b[0m\n\u001b[0;32m----> 1\u001b[0;31m \u001b[0mrelevant_articles\u001b[0m\u001b[0;34m(\u001b[0m\u001b[0mtask1\u001b[0m\u001b[0;34m,\u001b[0m \u001b[0;36m5\u001b[0m\u001b[0;34m,\u001b[0m \u001b[0monly_covid19\u001b[0m\u001b[0;34m=\u001b[0m\u001b[0;32mTrue\u001b[0m\u001b[0;34m)\u001b[0m\u001b[0;34m\u001b[0m\u001b[0m\n\u001b[0m",
      "\u001b[0;32m<ipython-input-41-04f97e92991b>\u001b[0m in \u001b[0;36mrelevant_articles\u001b[0;34m(tasks, k, lower, upper, only_covid19)\u001b[0m\n\u001b[1;32m     10\u001b[0m         \u001b[0mrecommended\u001b[0m \u001b[0;34m=\u001b[0m \u001b[0mdf\u001b[0m\u001b[0;34m.\u001b[0m\u001b[0miloc\u001b[0m\u001b[0;34m[\u001b[0m\u001b[0mrecommended\u001b[0m\u001b[0;34m]\u001b[0m\u001b[0;34m\u001b[0m\u001b[0m\n\u001b[1;32m     11\u001b[0m \u001b[0;34m\u001b[0m\u001b[0m\n\u001b[0;32m---> 12\u001b[0;31m         \u001b[0mh\u001b[0m \u001b[0;34m=\u001b[0m \u001b[0;34m'<br/>'\u001b[0m\u001b[0;34m.\u001b[0m\u001b[0mjoin\u001b[0m\u001b[0;34m(\u001b[0m\u001b[0;34m[\u001b[0m\u001b[0;34m'<a href=\"'\u001b[0m \u001b[0;34m+\u001b[0m \u001b[0ml\u001b[0m \u001b[0;34m+\u001b[0m \u001b[0;34m'\" target=\"_blank\">'\u001b[0m\u001b[0;34m+\u001b[0m \u001b[0mn\u001b[0m \u001b[0;34m+\u001b[0m \u001b[0;34m'</a>'\u001b[0m \u001b[0;32mfor\u001b[0m \u001b[0ml\u001b[0m\u001b[0;34m,\u001b[0m \u001b[0mn\u001b[0m \u001b[0;32min\u001b[0m \u001b[0mrecommended\u001b[0m\u001b[0;34m[\u001b[0m\u001b[0;34m[\u001b[0m\u001b[0;34m'url'\u001b[0m\u001b[0;34m,\u001b[0m\u001b[0;34m'title'\u001b[0m\u001b[0;34m]\u001b[0m\u001b[0;34m]\u001b[0m\u001b[0;34m.\u001b[0m\u001b[0mvalues\u001b[0m\u001b[0;34m]\u001b[0m\u001b[0;34m)\u001b[0m\u001b[0;34m\u001b[0m\u001b[0m\n\u001b[0m\u001b[1;32m     13\u001b[0m         \u001b[0mdisplay\u001b[0m\u001b[0;34m(\u001b[0m\u001b[0mHTML\u001b[0m\u001b[0;34m(\u001b[0m\u001b[0mh\u001b[0m\u001b[0;34m)\u001b[0m\u001b[0;34m)\u001b[0m\u001b[0;34m\u001b[0m\u001b[0m\n",
      "\u001b[0;32m<ipython-input-41-04f97e92991b>\u001b[0m in \u001b[0;36m<listcomp>\u001b[0;34m(.0)\u001b[0m\n\u001b[1;32m     10\u001b[0m         \u001b[0mrecommended\u001b[0m \u001b[0;34m=\u001b[0m \u001b[0mdf\u001b[0m\u001b[0;34m.\u001b[0m\u001b[0miloc\u001b[0m\u001b[0;34m[\u001b[0m\u001b[0mrecommended\u001b[0m\u001b[0;34m]\u001b[0m\u001b[0;34m\u001b[0m\u001b[0m\n\u001b[1;32m     11\u001b[0m \u001b[0;34m\u001b[0m\u001b[0m\n\u001b[0;32m---> 12\u001b[0;31m         \u001b[0mh\u001b[0m \u001b[0;34m=\u001b[0m \u001b[0;34m'<br/>'\u001b[0m\u001b[0;34m.\u001b[0m\u001b[0mjoin\u001b[0m\u001b[0;34m(\u001b[0m\u001b[0;34m[\u001b[0m\u001b[0;34m'<a href=\"'\u001b[0m \u001b[0;34m+\u001b[0m \u001b[0ml\u001b[0m \u001b[0;34m+\u001b[0m \u001b[0;34m'\" target=\"_blank\">'\u001b[0m\u001b[0;34m+\u001b[0m \u001b[0mn\u001b[0m \u001b[0;34m+\u001b[0m \u001b[0;34m'</a>'\u001b[0m \u001b[0;32mfor\u001b[0m \u001b[0ml\u001b[0m\u001b[0;34m,\u001b[0m \u001b[0mn\u001b[0m \u001b[0;32min\u001b[0m \u001b[0mrecommended\u001b[0m\u001b[0;34m[\u001b[0m\u001b[0;34m[\u001b[0m\u001b[0;34m'url'\u001b[0m\u001b[0;34m,\u001b[0m\u001b[0;34m'title'\u001b[0m\u001b[0;34m]\u001b[0m\u001b[0;34m]\u001b[0m\u001b[0;34m.\u001b[0m\u001b[0mvalues\u001b[0m\u001b[0;34m]\u001b[0m\u001b[0;34m)\u001b[0m\u001b[0;34m\u001b[0m\u001b[0m\n\u001b[0m\u001b[1;32m     13\u001b[0m         \u001b[0mdisplay\u001b[0m\u001b[0;34m(\u001b[0m\u001b[0mHTML\u001b[0m\u001b[0;34m(\u001b[0m\u001b[0mh\u001b[0m\u001b[0;34m)\u001b[0m\u001b[0;34m)\u001b[0m\u001b[0;34m\u001b[0m\u001b[0m\n",
      "\u001b[0;31mTypeError\u001b[0m: must be str, not float"
     ]
    }
   ],
   "source": [
    "relevant_articles(task1, 5, only_covid19=True)"
   ]
  },
  {
   "cell_type": "markdown",
   "metadata": {},
   "source": [
    "## What do we know about COVID-19 risk factors?"
   ]
  },
  {
   "cell_type": "code",
   "execution_count": 43,
   "metadata": {
    "_kg_hide-output": true
   },
   "outputs": [
    {
     "name": "stdout",
     "output_type": "stream",
     "text": [
      "Data on potential risks factors\n"
     ]
    },
    {
     "data": {
      "text/html": [
       "<a href=\"https://doi.org/10.1016/j.tmaid.2020.101633\" target=\"_blank\">Should the Holy Week 2020 be cancelled in Latin America due to the COVID-19 pandemic?</a><br/><a href=\"https://doi.org/10.1016/j.tmaid.2020.101613\" target=\"_blank\">COVID-19 in Latin America: The implications of the first confirmed case in Brazil</a><br/><a href=\"https://doi.org/10.1101/2020.04.24.057430\" target=\"_blank\">Ecological processes underlying the emergence of novel enzootic cycles—arboviruses in the neotropics as a case study</a><br/><a href=\"https://doi.org/10.1016/s2468-1253(20)30087-x\" target=\"_blank\">SARS-CoV-2 in wastewater: potential health risk, but also data source</a><br/><a href=\"https://doi.org/10.1016/j.pulmoe.2020.02.010\" target=\"_blank\">And now for something completely different: from 2019-nCoV and COVID-19 to 2020-nMan</a>"
      ],
      "text/plain": [
       "<IPython.core.display.HTML object>"
      ]
     },
     "metadata": {},
     "output_type": "display_data"
    },
    {
     "name": "stdout",
     "output_type": "stream",
     "text": [
      "Smoking, pre-existing pulmonary disease\n"
     ]
    },
    {
     "data": {
      "text/html": [
       "<a href=\"https://doi.org/10.1016/j.jviscsurg.2020.04.007\" target=\"_blank\">SARS-CoV-2 infection may result in appendicular syndrome: Chest CT scan before appendectomy</a><br/><a href=\"https://doi.org/10.1016/j.intimp.2020.106504\" target=\"_blank\">The diagnostic and predictive role of NLR, d-NLR and PLR in COVID-19 patients</a><br/><a href=\"https://doi.org/10.1016/j.jen.2020.04.008\" target=\"_blank\">Radiological Presentation of COVID19</a><br/><a href=\"https://doi.org/10.1016/j.jaccas.2020.04.007\" target=\"_blank\">Transient Brugada-like ECG pattern in a patient with Coronavirus Disease 2019 (COVID-19)</a><br/><a href=\"https://doi.org/10.1016/j.diii.2020.04.003\" target=\"_blank\">Concomitant acute aortic thrombosis and pulmonary embolism complicating COVID-19 pneumonia</a>"
      ],
      "text/plain": [
       "<IPython.core.display.HTML object>"
      ]
     },
     "metadata": {},
     "output_type": "display_data"
    },
    {
     "name": "stdout",
     "output_type": "stream",
     "text": [
      "Co-infections (determine whether co-existing respiratory/viral infections make the virus more transmissible or virulent) and other co-morbidities\n"
     ]
    },
    {
     "data": {
      "text/html": [
       "<a href=\"https://doi.org/10.1016/j.rbmo.2020.04.004\" target=\"_blank\">COVID-19: should we continue to cryopreserve sperm during the pandemic?</a><br/><a href=\"https://www.ncbi.nlm.nih.gov/pmc/articles/PMC7179376/\" target=\"_blank\">SARS-CoV-2 viral load in sputum correlates with risk of COVID-19 progression</a><br/><a href=\"https://doi.org/10.1016/j.jcv.2020.104385\" target=\"_blank\">A single centre study of viral community-acquired pneumonia in children: no evidence of SARS-CoV-2 from October 2019 to March 2020</a><br/><a href=\"https://doi.org/10.1016/j.jinf.2020.04.014\" target=\"_blank\">Viral dynamics of SARS-CoV-2 across a spectrum of disease severity in COVID-19</a><br/><a href=\"https://doi.org/10.1016/j.dld.2020.04.028\" target=\"_blank\">SARS-CoV-2 and gastrointestinal tract: the dark side of the pandemic</a>"
      ],
      "text/plain": [
       "<IPython.core.display.HTML object>"
      ]
     },
     "metadata": {},
     "output_type": "display_data"
    },
    {
     "name": "stdout",
     "output_type": "stream",
     "text": [
      "Neonates and pregnant women\n"
     ]
    },
    {
     "data": {
      "text/html": [
       "<a href=\"https://doi.org/10.1016/j.ijantimicag.2020.105980\" target=\"_blank\">Chloroquine as prophylactic agent against COVID-19?</a><br/><a href=\"https://doi.org/10.1016/j.oooo.2020.03.047\" target=\"_blank\">Hydroxychloroquine and “off-label” utilization in the treatment of oral conditions</a><br/><a href=\"https://www.ncbi.nlm.nih.gov/pmc/articles/PMC7161588/\" target=\"_blank\">Do checkpoint inhibitors compromise the cancer patients’ immunity and increase the vulnerability to COVID-19 infection?</a><br/><a href=\"https://doi.org/10.1016/j.jaad.2020.04.005\" target=\"_blank\">Treatment considerations for patients with pemphigus during the COVID-19 pandemic</a><br/><a href=\"https://doi.org/10.1016/j.jaad.2020.04.049\" target=\"_blank\">United States Cutaneous Lymphoma Consortium Recommendations for Treatment of Cutaneous Lymphomas During the COVID-19 Pandemic</a>"
      ],
      "text/plain": [
       "<IPython.core.display.HTML object>"
      ]
     },
     "metadata": {},
     "output_type": "display_data"
    },
    {
     "name": "stdout",
     "output_type": "stream",
     "text": [
      "Socio-economic and behavioral factors to understand the economic impact of the virus and whether there were differences.\n"
     ]
    },
    {
     "data": {
      "text/html": [
       "<a href=\"https://arxiv.org/abs/2004.01831\" target=\"_blank\">Inside the Mind of a Stock Market Crash</a><br/><a href=\"https://www.ncbi.nlm.nih.gov/pmc/articles/PMC7166799/\" target=\"_blank\">Economic impacts of Wuhan 2019‐nCoV on China and the world</a><br/><a href=\"https://arxiv.org/abs/2003.06184\" target=\"_blank\">Coronavirus and oil price crash</a><br/><a href=\"https://doi.org/10.1016/b978-0-12-820288-3.00008-1\" target=\"_blank\">Chapter 8 Business Strategies and Risk Factors</a><br/><a href=\"https://doi.org/10.1016/j.retrec.2020.100846\" target=\"_blank\">And the beat goes on. The continued trials and tribulations of passenger rail franchising in Great Britain</a>"
      ],
      "text/plain": [
       "<IPython.core.display.HTML object>"
      ]
     },
     "metadata": {},
     "output_type": "display_data"
    },
    {
     "name": "stdout",
     "output_type": "stream",
     "text": [
      "Transmission dynamics of the virus, including the basic reproductive number, incubation period, serial interval, modes of transmission and environmental factors\n"
     ]
    },
    {
     "data": {
      "text/html": [
       "<a href=\"https://doi.org/10.1101/2020.04.21.20073791\" target=\"_blank\">Understanding the asymmetric spread and case fatality rate (CFR) for COVID-19 among countries</a><br/><a href=\"https://doi.org/10.1101/2020.04.06.20053561\" target=\"_blank\">Probability of current COVID-19 outbreaks in all US counties</a><br/><a href=\"https://doi.org/10.1016/j.ijid.2020.03.050\" target=\"_blank\">Monitoring Transmissibility and Mortality of COVID-19 in Europe</a><br/><a href=\"https://doi.org/10.1101/2020.03.18.20038224\" target=\"_blank\">Assessing the Global Tendency of COVID-19 Outbreak</a><br/><a href=\"https://doi.org/10.1101/2020.02.27.20028829\" target=\"_blank\">Transmission potential of COVID-19 in South Korea</a>"
      ],
      "text/plain": [
       "<IPython.core.display.HTML object>"
      ]
     },
     "metadata": {},
     "output_type": "display_data"
    },
    {
     "name": "stdout",
     "output_type": "stream",
     "text": [
      "Severity of disease, including risk of fatality among symptomatic hospitalized patients, and high-risk patient groups\n"
     ]
    },
    {
     "data": {
      "text/html": [
       "<a href=\"https://www.ncbi.nlm.nih.gov/pmc/articles/PMC7179376/\" target=\"_blank\">SARS-CoV-2 viral load in sputum correlates with risk of COVID-19 progression</a><br/><a href=\"https://doi.org/10.1016/j.jcv.2020.104385\" target=\"_blank\">A single centre study of viral community-acquired pneumonia in children: no evidence of SARS-CoV-2 from October 2019 to March 2020</a><br/><a href=\"https://doi.org/10.1016/j.jinf.2020.04.014\" target=\"_blank\">Viral dynamics of SARS-CoV-2 across a spectrum of disease severity in COVID-19</a><br/><a href=\"https://doi.org/10.1016/s1473-3099(20)30113-4\" target=\"_blank\">Viral load of SARS-CoV-2 in clinical samples</a><br/><a href=\"https://doi.org/10.1016/j.tmaid.2020.101629\" target=\"_blank\">Viral loads of SARS-CoV, MERS-CoV and SARS-CoV-2 in respiratory specimens: What have we learned?</a>"
      ],
      "text/plain": [
       "<IPython.core.display.HTML object>"
      ]
     },
     "metadata": {},
     "output_type": "display_data"
    },
    {
     "name": "stdout",
     "output_type": "stream",
     "text": [
      "Susceptibility of populations\n"
     ]
    },
    {
     "ename": "TypeError",
     "evalue": "must be str, not float",
     "output_type": "error",
     "traceback": [
      "\u001b[0;31m---------------------------------------------------------------------------\u001b[0m",
      "\u001b[0;31mTypeError\u001b[0m                                 Traceback (most recent call last)",
      "\u001b[0;32m<ipython-input-43-90eac22429ff>\u001b[0m in \u001b[0;36m<module>\u001b[0;34m\u001b[0m\n\u001b[0;32m----> 1\u001b[0;31m \u001b[0mrelevant_articles\u001b[0m\u001b[0;34m(\u001b[0m\u001b[0mtask2\u001b[0m\u001b[0;34m,\u001b[0m \u001b[0;36m5\u001b[0m\u001b[0;34m,\u001b[0m \u001b[0monly_covid19\u001b[0m\u001b[0;34m=\u001b[0m\u001b[0;32mTrue\u001b[0m\u001b[0;34m)\u001b[0m\u001b[0;34m\u001b[0m\u001b[0m\n\u001b[0m",
      "\u001b[0;32m<ipython-input-41-04f97e92991b>\u001b[0m in \u001b[0;36mrelevant_articles\u001b[0;34m(tasks, k, lower, upper, only_covid19)\u001b[0m\n\u001b[1;32m     10\u001b[0m         \u001b[0mrecommended\u001b[0m \u001b[0;34m=\u001b[0m \u001b[0mdf\u001b[0m\u001b[0;34m.\u001b[0m\u001b[0miloc\u001b[0m\u001b[0;34m[\u001b[0m\u001b[0mrecommended\u001b[0m\u001b[0;34m]\u001b[0m\u001b[0;34m\u001b[0m\u001b[0m\n\u001b[1;32m     11\u001b[0m \u001b[0;34m\u001b[0m\u001b[0m\n\u001b[0;32m---> 12\u001b[0;31m         \u001b[0mh\u001b[0m \u001b[0;34m=\u001b[0m \u001b[0;34m'<br/>'\u001b[0m\u001b[0;34m.\u001b[0m\u001b[0mjoin\u001b[0m\u001b[0;34m(\u001b[0m\u001b[0;34m[\u001b[0m\u001b[0;34m'<a href=\"'\u001b[0m \u001b[0;34m+\u001b[0m \u001b[0ml\u001b[0m \u001b[0;34m+\u001b[0m \u001b[0;34m'\" target=\"_blank\">'\u001b[0m\u001b[0;34m+\u001b[0m \u001b[0mn\u001b[0m \u001b[0;34m+\u001b[0m \u001b[0;34m'</a>'\u001b[0m \u001b[0;32mfor\u001b[0m \u001b[0ml\u001b[0m\u001b[0;34m,\u001b[0m \u001b[0mn\u001b[0m \u001b[0;32min\u001b[0m \u001b[0mrecommended\u001b[0m\u001b[0;34m[\u001b[0m\u001b[0;34m[\u001b[0m\u001b[0;34m'url'\u001b[0m\u001b[0;34m,\u001b[0m\u001b[0;34m'title'\u001b[0m\u001b[0;34m]\u001b[0m\u001b[0;34m]\u001b[0m\u001b[0;34m.\u001b[0m\u001b[0mvalues\u001b[0m\u001b[0;34m]\u001b[0m\u001b[0;34m)\u001b[0m\u001b[0;34m\u001b[0m\u001b[0m\n\u001b[0m\u001b[1;32m     13\u001b[0m         \u001b[0mdisplay\u001b[0m\u001b[0;34m(\u001b[0m\u001b[0mHTML\u001b[0m\u001b[0;34m(\u001b[0m\u001b[0mh\u001b[0m\u001b[0;34m)\u001b[0m\u001b[0;34m)\u001b[0m\u001b[0;34m\u001b[0m\u001b[0m\n",
      "\u001b[0;32m<ipython-input-41-04f97e92991b>\u001b[0m in \u001b[0;36m<listcomp>\u001b[0;34m(.0)\u001b[0m\n\u001b[1;32m     10\u001b[0m         \u001b[0mrecommended\u001b[0m \u001b[0;34m=\u001b[0m \u001b[0mdf\u001b[0m\u001b[0;34m.\u001b[0m\u001b[0miloc\u001b[0m\u001b[0;34m[\u001b[0m\u001b[0mrecommended\u001b[0m\u001b[0;34m]\u001b[0m\u001b[0;34m\u001b[0m\u001b[0m\n\u001b[1;32m     11\u001b[0m \u001b[0;34m\u001b[0m\u001b[0m\n\u001b[0;32m---> 12\u001b[0;31m         \u001b[0mh\u001b[0m \u001b[0;34m=\u001b[0m \u001b[0;34m'<br/>'\u001b[0m\u001b[0;34m.\u001b[0m\u001b[0mjoin\u001b[0m\u001b[0;34m(\u001b[0m\u001b[0;34m[\u001b[0m\u001b[0;34m'<a href=\"'\u001b[0m \u001b[0;34m+\u001b[0m \u001b[0ml\u001b[0m \u001b[0;34m+\u001b[0m \u001b[0;34m'\" target=\"_blank\">'\u001b[0m\u001b[0;34m+\u001b[0m \u001b[0mn\u001b[0m \u001b[0;34m+\u001b[0m \u001b[0;34m'</a>'\u001b[0m \u001b[0;32mfor\u001b[0m \u001b[0ml\u001b[0m\u001b[0;34m,\u001b[0m \u001b[0mn\u001b[0m \u001b[0;32min\u001b[0m \u001b[0mrecommended\u001b[0m\u001b[0;34m[\u001b[0m\u001b[0;34m[\u001b[0m\u001b[0;34m'url'\u001b[0m\u001b[0;34m,\u001b[0m\u001b[0;34m'title'\u001b[0m\u001b[0;34m]\u001b[0m\u001b[0;34m]\u001b[0m\u001b[0;34m.\u001b[0m\u001b[0mvalues\u001b[0m\u001b[0;34m]\u001b[0m\u001b[0;34m)\u001b[0m\u001b[0;34m\u001b[0m\u001b[0m\n\u001b[0m\u001b[1;32m     13\u001b[0m         \u001b[0mdisplay\u001b[0m\u001b[0;34m(\u001b[0m\u001b[0mHTML\u001b[0m\u001b[0;34m(\u001b[0m\u001b[0mh\u001b[0m\u001b[0;34m)\u001b[0m\u001b[0;34m)\u001b[0m\u001b[0;34m\u001b[0m\u001b[0m\n",
      "\u001b[0;31mTypeError\u001b[0m: must be str, not float"
     ]
    }
   ],
   "source": [
    "relevant_articles(task2, 5, only_covid19=True)"
   ]
  },
  {
   "cell_type": "markdown",
   "metadata": {},
   "source": [
    "## What do we know about virus genetics, origin, and evolution?"
   ]
  },
  {
   "cell_type": "code",
   "execution_count": 44,
   "metadata": {
    "_kg_hide-output": true
   },
   "outputs": [
    {
     "name": "stdout",
     "output_type": "stream",
     "text": [
      "Real-time tracking of whole genomes and a mechanism for coordinating the rapid dissemination of that information to inform the development of diagnostics and therapeutics and to track variations of the virus over time.\n"
     ]
    },
    {
     "data": {
      "text/html": [
       "<a href=\"https://doi.org/10.1016/j.oneear.2020.04.007\" target=\"_blank\">Toxicology Advances for 21st Century Chemical Pollution</a><br/><a href=\"https://doi.org/10.1016/j.scitotenv.2020.138149\" target=\"_blank\">The international imperative to rapidly and inexpensively monitor community-wide Covid-19 infection status and trends</a><br/><a href=\"https://doi.org/10.1016/j.scitotenv.2020.138194\" target=\"_blank\">On biological evolution and environmental solutions</a><br/><a href=\"https://www.ncbi.nlm.nih.gov/pmc/articles/PMC7175144/\" target=\"_blank\">A New Penicillin?</a><br/><a href=\"https://doi.org/10.1016/j.envint.2020.105689\" target=\"_blank\">Future Perspectives of Wastewater-Based Epidemiology: Monitoring Infectious Disease Spread and Resistance to the Community Level</a>"
      ],
      "text/plain": [
       "<IPython.core.display.HTML object>"
      ]
     },
     "metadata": {},
     "output_type": "display_data"
    },
    {
     "name": "stdout",
     "output_type": "stream",
     "text": [
      "Access to geographic and temporal diverse sample sets to understand geographic distribution and genomic differences, and determine whether there is more than one strain in circulation. Multi-lateral agreements such as the Nagoya Protocol could be leveraged.\n"
     ]
    },
    {
     "ename": "TypeError",
     "evalue": "must be str, not float",
     "output_type": "error",
     "traceback": [
      "\u001b[0;31m---------------------------------------------------------------------------\u001b[0m",
      "\u001b[0;31mTypeError\u001b[0m                                 Traceback (most recent call last)",
      "\u001b[0;32m<ipython-input-44-aab6aad1143a>\u001b[0m in \u001b[0;36m<module>\u001b[0;34m\u001b[0m\n\u001b[0;32m----> 1\u001b[0;31m \u001b[0mrelevant_articles\u001b[0m\u001b[0;34m(\u001b[0m\u001b[0mtask3\u001b[0m\u001b[0;34m,\u001b[0m \u001b[0;36m5\u001b[0m\u001b[0;34m,\u001b[0m \u001b[0monly_covid19\u001b[0m\u001b[0;34m=\u001b[0m\u001b[0;32mTrue\u001b[0m\u001b[0;34m)\u001b[0m\u001b[0;34m\u001b[0m\u001b[0m\n\u001b[0m",
      "\u001b[0;32m<ipython-input-41-04f97e92991b>\u001b[0m in \u001b[0;36mrelevant_articles\u001b[0;34m(tasks, k, lower, upper, only_covid19)\u001b[0m\n\u001b[1;32m     10\u001b[0m         \u001b[0mrecommended\u001b[0m \u001b[0;34m=\u001b[0m \u001b[0mdf\u001b[0m\u001b[0;34m.\u001b[0m\u001b[0miloc\u001b[0m\u001b[0;34m[\u001b[0m\u001b[0mrecommended\u001b[0m\u001b[0;34m]\u001b[0m\u001b[0;34m\u001b[0m\u001b[0m\n\u001b[1;32m     11\u001b[0m \u001b[0;34m\u001b[0m\u001b[0m\n\u001b[0;32m---> 12\u001b[0;31m         \u001b[0mh\u001b[0m \u001b[0;34m=\u001b[0m \u001b[0;34m'<br/>'\u001b[0m\u001b[0;34m.\u001b[0m\u001b[0mjoin\u001b[0m\u001b[0;34m(\u001b[0m\u001b[0;34m[\u001b[0m\u001b[0;34m'<a href=\"'\u001b[0m \u001b[0;34m+\u001b[0m \u001b[0ml\u001b[0m \u001b[0;34m+\u001b[0m \u001b[0;34m'\" target=\"_blank\">'\u001b[0m\u001b[0;34m+\u001b[0m \u001b[0mn\u001b[0m \u001b[0;34m+\u001b[0m \u001b[0;34m'</a>'\u001b[0m \u001b[0;32mfor\u001b[0m \u001b[0ml\u001b[0m\u001b[0;34m,\u001b[0m \u001b[0mn\u001b[0m \u001b[0;32min\u001b[0m \u001b[0mrecommended\u001b[0m\u001b[0;34m[\u001b[0m\u001b[0;34m[\u001b[0m\u001b[0;34m'url'\u001b[0m\u001b[0;34m,\u001b[0m\u001b[0;34m'title'\u001b[0m\u001b[0;34m]\u001b[0m\u001b[0;34m]\u001b[0m\u001b[0;34m.\u001b[0m\u001b[0mvalues\u001b[0m\u001b[0;34m]\u001b[0m\u001b[0;34m)\u001b[0m\u001b[0;34m\u001b[0m\u001b[0m\n\u001b[0m\u001b[1;32m     13\u001b[0m         \u001b[0mdisplay\u001b[0m\u001b[0;34m(\u001b[0m\u001b[0mHTML\u001b[0m\u001b[0;34m(\u001b[0m\u001b[0mh\u001b[0m\u001b[0;34m)\u001b[0m\u001b[0;34m)\u001b[0m\u001b[0;34m\u001b[0m\u001b[0m\n",
      "\u001b[0;32m<ipython-input-41-04f97e92991b>\u001b[0m in \u001b[0;36m<listcomp>\u001b[0;34m(.0)\u001b[0m\n\u001b[1;32m     10\u001b[0m         \u001b[0mrecommended\u001b[0m \u001b[0;34m=\u001b[0m \u001b[0mdf\u001b[0m\u001b[0;34m.\u001b[0m\u001b[0miloc\u001b[0m\u001b[0;34m[\u001b[0m\u001b[0mrecommended\u001b[0m\u001b[0;34m]\u001b[0m\u001b[0;34m\u001b[0m\u001b[0m\n\u001b[1;32m     11\u001b[0m \u001b[0;34m\u001b[0m\u001b[0m\n\u001b[0;32m---> 12\u001b[0;31m         \u001b[0mh\u001b[0m \u001b[0;34m=\u001b[0m \u001b[0;34m'<br/>'\u001b[0m\u001b[0;34m.\u001b[0m\u001b[0mjoin\u001b[0m\u001b[0;34m(\u001b[0m\u001b[0;34m[\u001b[0m\u001b[0;34m'<a href=\"'\u001b[0m \u001b[0;34m+\u001b[0m \u001b[0ml\u001b[0m \u001b[0;34m+\u001b[0m \u001b[0;34m'\" target=\"_blank\">'\u001b[0m\u001b[0;34m+\u001b[0m \u001b[0mn\u001b[0m \u001b[0;34m+\u001b[0m \u001b[0;34m'</a>'\u001b[0m \u001b[0;32mfor\u001b[0m \u001b[0ml\u001b[0m\u001b[0;34m,\u001b[0m \u001b[0mn\u001b[0m \u001b[0;32min\u001b[0m \u001b[0mrecommended\u001b[0m\u001b[0;34m[\u001b[0m\u001b[0;34m[\u001b[0m\u001b[0;34m'url'\u001b[0m\u001b[0;34m,\u001b[0m\u001b[0;34m'title'\u001b[0m\u001b[0;34m]\u001b[0m\u001b[0;34m]\u001b[0m\u001b[0;34m.\u001b[0m\u001b[0mvalues\u001b[0m\u001b[0;34m]\u001b[0m\u001b[0;34m)\u001b[0m\u001b[0;34m\u001b[0m\u001b[0m\n\u001b[0m\u001b[1;32m     13\u001b[0m         \u001b[0mdisplay\u001b[0m\u001b[0;34m(\u001b[0m\u001b[0mHTML\u001b[0m\u001b[0;34m(\u001b[0m\u001b[0mh\u001b[0m\u001b[0;34m)\u001b[0m\u001b[0;34m)\u001b[0m\u001b[0;34m\u001b[0m\u001b[0m\n",
      "\u001b[0;31mTypeError\u001b[0m: must be str, not float"
     ]
    }
   ],
   "source": [
    "relevant_articles(task3, 5, only_covid19=True)"
   ]
  },
  {
   "cell_type": "markdown",
   "metadata": {},
   "source": [
    "## What do we know about non-pharmaceutical interventions?"
   ]
  },
  {
   "cell_type": "code",
   "execution_count": 45,
   "metadata": {
    "_kg_hide-output": true
   },
   "outputs": [
    {
     "name": "stdout",
     "output_type": "stream",
     "text": [
      "Guidance on ways to scale up NPIs in a more coordinated way (e.g., establish funding, infrastructure and authorities to support real time, authoritative (qualified participants) collaboration with all states to gain consensus on consistent guidance and to mobilize resources to geographic areas where critical shortfalls are identified) to give us time to enhance our health care delivery system capacity to respond to an increase in cases.\n"
     ]
    },
    {
     "data": {
      "text/html": [
       "<a href=\"https://doi.org/10.1016/s2214-109x(20)30103-0\" target=\"_blank\">A new vehicle to accelerate the UN Sustainable Development Goals</a><br/><a href=\"https://www.ncbi.nlm.nih.gov/pmc/articles/PMC7184146/\" target=\"_blank\">COVID-19 as a Complex Intergovernmental Problem</a><br/><a href=\"https://doi.org/10.1016/j.jtcvs.2020.04.044\" target=\"_blank\">Commentary: What We Should Know About Our Learners</a><br/><a href=\"https://doi.org/10.1016/j.indmarman.2020.02.017\" target=\"_blank\">Teaching-practice as a critical bridge for narrowing the research-practice gap</a><br/><a href=\"https://www.ncbi.nlm.nih.gov/pmc/articles/PMC7184142/\" target=\"_blank\">Continuity of Constitutional Government during a Pandemic: Considering the Concept in Canada's Emergency Management Act</a>"
      ],
      "text/plain": [
       "<IPython.core.display.HTML object>"
      ]
     },
     "metadata": {},
     "output_type": "display_data"
    },
    {
     "name": "stdout",
     "output_type": "stream",
     "text": [
      "Rapid design and execution of experiments to examine and compare NPIs currently being implemented. DHS Centers for Excellence could potentially be leveraged to conduct these experiments.\n"
     ]
    },
    {
     "data": {
      "text/html": [
       "<a href=\"https://arxiv.org/abs/2004.05125\" target=\"_blank\">Rapidly Deploying a Neural Search Engine for the COVID-19 Open Research Dataset: Preliminary Thoughts and Lessons Learned</a><br/><a href=\"https://arxiv.org/abs/2004.07183\" target=\"_blank\">Online Information Search During COVID-19</a><br/><a href=\"https://doi.org/10.1016/j.sheji.2020.02.002\" target=\"_blank\">She Ji: The Next Five Years</a><br/><a href=\"https://arxiv.org/abs/2004.00673\" target=\"_blank\">Hate multiverse spreads malicious COVID-19 content online beyond individual platform control</a><br/><a href=\"https://doi.org/10.1101/2020.04.17.20068460\" target=\"_blank\">CAN-NPI: A Curated Open Dataset of Canadian Non-Pharmaceutical Interventions in Response to the Global COVID-19 Pandemic</a>"
      ],
      "text/plain": [
       "<IPython.core.display.HTML object>"
      ]
     },
     "metadata": {},
     "output_type": "display_data"
    },
    {
     "name": "stdout",
     "output_type": "stream",
     "text": [
      "Rapid assessment of the likely efficacy of school closures, travel bans, bans on mass gatherings of various sizes, and other social distancing approaches.\n"
     ]
    },
    {
     "data": {
      "text/html": [
       "<a href=\"https://doi.org/10.1101/2020.04.06.20055988\" target=\"_blank\">ESTIMATING COVID-19 INFECTIONS IN HOSPITAL WORKERS IN THE UNITED STATES</a><br/><a href=\"https://doi.org/10.1101/2020.04.01.20050492\" target=\"_blank\">Evaluation of the Anticipated Burden of COVID-19 on Hospital-Based Healthcare Services Across the United States</a><br/><a href=\"https://doi.org/10.1016/s0140-6736(20)31016-3\" target=\"_blank\">Institutional, not home-based, isolation could contain the COVID-19 outbreak</a><br/><a href=\"https://doi.org/10.1101/2020.04.22.20076141\" target=\"_blank\">COVID-19: Public Compliance with and Public Support for Stay-at-Home Mitigation Strategies</a><br/><a href=\"https://www.ncbi.nlm.nih.gov/pmc/articles/PMC7147280/\" target=\"_blank\">Impact of Coronavirus Disease 2019 (COVID-19) Outbreak on ST-Segment–Elevation Myocardial Infarction Care in Hong Kong, China</a>"
      ],
      "text/plain": [
       "<IPython.core.display.HTML object>"
      ]
     },
     "metadata": {},
     "output_type": "display_data"
    },
    {
     "name": "stdout",
     "output_type": "stream",
     "text": [
      "Methods to control the spread in communities, barriers to compliance and how these vary among different populations..\n"
     ]
    },
    {
     "data": {
      "text/html": [
       "<a href=\"https://doi.org/10.1101/2020.04.01.20050492\" target=\"_blank\">Evaluation of the Anticipated Burden of COVID-19 on Hospital-Based Healthcare Services Across the United States</a><br/><a href=\"https://doi.org/10.1101/2020.04.06.20055988\" target=\"_blank\">ESTIMATING COVID-19 INFECTIONS IN HOSPITAL WORKERS IN THE UNITED STATES</a><br/><a href=\"https://doi.org/10.1016/s0140-6736(20)31016-3\" target=\"_blank\">Institutional, not home-based, isolation could contain the COVID-19 outbreak</a><br/><a href=\"https://doi.org/10.1101/2020.04.03.20051847\" target=\"_blank\">Reduction in time delay of isolation in COVID-19 cases in South Korea</a><br/><a href=\"https://doi.org/10.1101/2020.04.22.20076141\" target=\"_blank\">COVID-19: Public Compliance with and Public Support for Stay-at-Home Mitigation Strategies</a>"
      ],
      "text/plain": [
       "<IPython.core.display.HTML object>"
      ]
     },
     "metadata": {},
     "output_type": "display_data"
    },
    {
     "name": "stdout",
     "output_type": "stream",
     "text": [
      "Models of potential interventions to predict costs and benefits that take account of such factors as race, income, disability, age, geographic location, immigration status, housing status, employment status, and health insurance status.\n"
     ]
    },
    {
     "data": {
      "text/html": [
       "<a href=\"https://www.ncbi.nlm.nih.gov/pmc/articles/PMC7143446/\" target=\"_blank\">Divided Tokyo: Housing Policy, the Ideology of Homeownership, and the Growing Contrast Between the City Center and the Suburbs</a><br/><a href=\"https://doi.org/10.1016/j.tmp.2020.100674\" target=\"_blank\">Insurance uptake among small and medium-sized tourism and hospitality enterprises in a resource-scarce environment</a><br/><a href=\"https://doi.org/10.1016/b978-0-12-820288-3.00008-1\" target=\"_blank\">Chapter 8 Business Strategies and Risk Factors</a><br/><a href=\"https://doi.org/10.1016/j.retrec.2020.100846\" target=\"_blank\">And the beat goes on. The continued trials and tribulations of passenger rail franchising in Great Britain</a><br/><a href=\"https://doi.org/10.1016/j.bushor.2020.04.003\" target=\"_blank\">Are your cash-flow tools recession ready?</a>"
      ],
      "text/plain": [
       "<IPython.core.display.HTML object>"
      ]
     },
     "metadata": {},
     "output_type": "display_data"
    },
    {
     "name": "stdout",
     "output_type": "stream",
     "text": [
      "Policy changes necessary to enable the compliance of individuals with limited resources and the underserved with NPIs.\n"
     ]
    },
    {
     "data": {
      "text/html": [
       "<a href=\"https://www.ncbi.nlm.nih.gov/pmc/articles/PMC7184146/\" target=\"_blank\">COVID-19 as a Complex Intergovernmental Problem</a><br/><a href=\"https://doi.org/10.1016/s2214-109x(20)30103-0\" target=\"_blank\">A new vehicle to accelerate the UN Sustainable Development Goals</a><br/><a href=\"https://doi.org/10.1016/s2589-7500(20)30059-5\" target=\"_blank\">Improving epidemic surveillance and response: big data is dead, long live big data</a><br/><a href=\"https://doi.org/10.1016/j.jtcvs.2020.04.044\" target=\"_blank\">Commentary: What We Should Know About Our Learners</a><br/><a href=\"https://doi.org/10.1016/j.indmarman.2020.02.017\" target=\"_blank\">Teaching-practice as a critical bridge for narrowing the research-practice gap</a>"
      ],
      "text/plain": [
       "<IPython.core.display.HTML object>"
      ]
     },
     "metadata": {},
     "output_type": "display_data"
    },
    {
     "name": "stdout",
     "output_type": "stream",
     "text": [
      "Research on why people fail to comply with public health advice, even if they want to do so (e.g., social or financial costs may be too high).\n"
     ]
    },
    {
     "data": {
      "text/html": [
       "<a href=\"https://doi.org/10.1016/j.jtcvs.2020.04.044\" target=\"_blank\">Commentary: What We Should Know About Our Learners</a><br/><a href=\"https://doi.org/10.1016/s2214-109x(20)30103-0\" target=\"_blank\">A new vehicle to accelerate the UN Sustainable Development Goals</a><br/><a href=\"https://doi.org/10.1016/j.indmarman.2020.02.017\" target=\"_blank\">Teaching-practice as a critical bridge for narrowing the research-practice gap</a><br/><a href=\"https://www.ncbi.nlm.nih.gov/pmc/articles/PMC7184142/\" target=\"_blank\">Continuity of Constitutional Government during a Pandemic: Considering the Concept in Canada's Emergency Management Act</a><br/><a href=\"https://doi.org/10.1016/s2214-109x(20)30138-8\" target=\"_blank\">The role of academia in an era of political turmoil</a>"
      ],
      "text/plain": [
       "<IPython.core.display.HTML object>"
      ]
     },
     "metadata": {},
     "output_type": "display_data"
    },
    {
     "name": "stdout",
     "output_type": "stream",
     "text": [
      "Research on the economic impact of this or any pandemic. This would include identifying policy and programmatic alternatives that lessen/mitigate risks to critical government services, food distribution and supplies, access to critical household supplies, and access to health diagnoses, treatment, and needed care, regardless of ability to pay.\n"
     ]
    },
    {
     "data": {
      "text/html": [
       "<a href=\"https://www.ncbi.nlm.nih.gov/pmc/articles/PMC7179056/\" target=\"_blank\">Creating a “Quarantine Curriculum” to Enhance Teaching and Learning During the COVID-19 Pandemic</a><br/><a href=\"https://www.ncbi.nlm.nih.gov/pmc/articles/PMC7156570/\" target=\"_blank\">Trust in Humanitarian Aid From the Earthquake in 2017 to COVID-19 in Iran: A Policy Analysis</a><br/><a href=\"https://www.ncbi.nlm.nih.gov/pmc/articles/PMC7151353/\" target=\"_blank\">Fighting COVID-19: Enabling Graduating Students to Start Internship Early at Their Own Medical School</a><br/><a href=\"https://doi.org/10.1016/s0140-6736(20)30468-2\" target=\"_blank\">COVID-19 and the anti-lessons of history</a><br/><a href=\"https://www.ncbi.nlm.nih.gov/pmc/articles/PMC7101232/\" target=\"_blank\">Mitigating the impact of conference and travel cancellations on researchers’ futures</a>"
      ],
      "text/plain": [
       "<IPython.core.display.HTML object>"
      ]
     },
     "metadata": {},
     "output_type": "display_data"
    }
   ],
   "source": [
    "relevant_articles(task4, 5, only_covid19=True)"
   ]
  },
  {
   "cell_type": "markdown",
   "metadata": {},
   "source": [
    "## What do we know about vaccines and therapeutics?"
   ]
  },
  {
   "cell_type": "code",
   "execution_count": 46,
   "metadata": {
    "_kg_hide-input": false,
    "_kg_hide-output": true
   },
   "outputs": [
    {
     "name": "stdout",
     "output_type": "stream",
     "text": [
      "Effectiveness of drugs being developed and tried to treat COVID-19 patients. Clinical and bench trials to investigate less common viral inhibitors against COVID-19 such as naproxen, clarithromycin, and minocyclinethat that may exert effects on viral replication.\n"
     ]
    },
    {
     "data": {
      "text/html": [
       "<a href=\"https://doi.org/10.1016/j.ijantimicag.2020.105980\" target=\"_blank\">Chloroquine as prophylactic agent against COVID-19?</a><br/><a href=\"https://doi.org/10.1101/2020.03.24.20042366\" target=\"_blank\">Role of Chloroquine and Hydroxychloroquine in the Treatment of COVID-19 Infection- A Systematic Literature Review</a><br/><a href=\"https://doi.org/10.1101/2020.04.04.20047886\" target=\"_blank\">Timing of antiviral treatment initiation is critical to reduce SARS-Cov-2 viral load</a><br/><a href=\"https://doi.org/10.1101/2020.04.16.20068379\" target=\"_blank\">Prioritisation of potential anti-SARS-CoV-2 drug repurposing opportunities based on ability to achieve adequate target site concentrations derived from their established human pharmacokinetics</a><br/><a href=\"https://doi.org/10.1101/2020.04.23.20076471\" target=\"_blank\">Pharmacokinetic bases of the hydroxychloroquine response in COVID-19: implications for therapy and prevention</a>"
      ],
      "text/plain": [
       "<IPython.core.display.HTML object>"
      ]
     },
     "metadata": {},
     "output_type": "display_data"
    },
    {
     "name": "stdout",
     "output_type": "stream",
     "text": [
      "Methods evaluating potential complication of Antibody-Dependent Enhancement (ADE) in vaccine recipients.\n"
     ]
    },
    {
     "data": {
      "text/html": [
       "<a href=\"https://doi.org/10.1016/j.coi.2020.03.013\" target=\"_blank\">Innovations in structure-based antigen design and immune monitoring for next generation vaccines</a><br/><a href=\"https://www.ncbi.nlm.nih.gov/pmc/articles/PMC7103671/\" target=\"_blank\">COVID-19, an emerging coronavirus infection: advances and prospects in designing and developing vaccines, immunotherapeutics, and therapeutics</a><br/><a href=\"https://doi.org/10.1016/j.coi.2020.01.006\" target=\"_blank\">DNA vaccines: prime time is now</a><br/><a href=\"https://arxiv.org/abs/2003.10650\" target=\"_blank\">Personalized workflow to identify optimal T-cell epitopes for peptide-based vaccines against COVID-19</a><br/><a href=\"https://www.ncbi.nlm.nih.gov/pmc/articles/PMC7154102/\" target=\"_blank\">Better Epitope Discovery, Precision Immune Engineering, and Accelerated Vaccine Design Using Immunoinformatics Tools</a>"
      ],
      "text/plain": [
       "<IPython.core.display.HTML object>"
      ]
     },
     "metadata": {},
     "output_type": "display_data"
    },
    {
     "name": "stdout",
     "output_type": "stream",
     "text": [
      "Exploration of use of best animal models and their predictive value for a human vaccine.\n"
     ]
    },
    {
     "data": {
      "text/html": [
       "<a href=\"https://arxiv.org/abs/2004.05084\" target=\"_blank\">GSA-DenseNet121-COVID-19: a Hybrid Deep Learning Architecture for the Diagnosis of COVID-19 Disease based on Gravitational Search Optimization Algorithm</a><br/><a href=\"https://arxiv.org/abs/2004.03698\" target=\"_blank\">Coronavirus (COVID-19) Classification using Deep Features Fusion and Ranking Technique</a><br/><a href=\"https://arxiv.org/abs/2003.09424\" target=\"_blank\">Coronavirus (COVID-19) Classification using CT Images by Machine Learning Methods</a><br/><a href=\"https://arxiv.org/abs/2004.01184\" target=\"_blank\">Detection of Coronavirus (COVID-19) Associated Pneumonia based on Generative Adversarial Networks and a Fine-Tuned Deep Transfer Learning Model using Chest X-ray Dataset</a><br/><a href=\"https://arxiv.org/abs/2003.13815\" target=\"_blank\">Classification of COVID-19 in chest X-ray images using DeTraC deep convolutional neural network</a>"
      ],
      "text/plain": [
       "<IPython.core.display.HTML object>"
      ]
     },
     "metadata": {},
     "output_type": "display_data"
    },
    {
     "name": "stdout",
     "output_type": "stream",
     "text": [
      "Capabilities to discover a therapeutic (not vaccine) for the disease, and clinical effectiveness studies to discover therapeutics, to include antiviral agents.\n"
     ]
    },
    {
     "data": {
      "text/html": [
       "<a href=\"https://doi.org/10.1016/j.drudis.2020.04.005\" target=\"_blank\">Boosting the arsenal against COVID-19 through computational drug repurposing</a><br/><a href=\"https://doi.org/10.1016/j.jaad.2020.04.016\" target=\"_blank\">Reply to “COVID-19 can present with a rash and be mistaken for Dengue”: Petechial rash in a patient with COVID-19 infection</a><br/><a href=\"https://www.ncbi.nlm.nih.gov/pmc/articles/PMC7175144/\" target=\"_blank\">A New Penicillin?</a><br/><a href=\"https://www.ncbi.nlm.nih.gov/pmc/articles/PMC7117595/\" target=\"_blank\">Drug repurposing strategies for COVID-19</a><br/><a href=\"https://doi.org/10.1016/j.jaad.2020.03.103\" target=\"_blank\">Reply to: “COVID-19, syphilis, and biologic therapies for psoriasis and psoriatic arthritis: A word of caution”</a>"
      ],
      "text/plain": [
       "<IPython.core.display.HTML object>"
      ]
     },
     "metadata": {},
     "output_type": "display_data"
    },
    {
     "name": "stdout",
     "output_type": "stream",
     "text": [
      "Alternative models to aid decision makers in determining how to prioritize and distribute scarce, newly proven therapeutics as production ramps up. This could include identifying approaches for expanding production capacity to ensure equitable and timely distribution to populations in need.\n"
     ]
    },
    {
     "data": {
      "text/html": [
       "<a href=\"https://doi.org/10.1016/s2589-7500(20)30059-5\" target=\"_blank\">Improving epidemic surveillance and response: big data is dead, long live big data</a><br/><a href=\"https://www.ncbi.nlm.nih.gov/pmc/articles/PMC7184146/\" target=\"_blank\">COVID-19 as a Complex Intergovernmental Problem</a><br/><a href=\"https://doi.org/10.1016/s2214-109x(20)30103-0\" target=\"_blank\">A new vehicle to accelerate the UN Sustainable Development Goals</a><br/><a href=\"https://doi.org/10.1016/j.jtcvs.2020.04.044\" target=\"_blank\">Commentary: What We Should Know About Our Learners</a><br/><a href=\"https://doi.org/10.1016/j.indmarman.2020.02.017\" target=\"_blank\">Teaching-practice as a critical bridge for narrowing the research-practice gap</a>"
      ],
      "text/plain": [
       "<IPython.core.display.HTML object>"
      ]
     },
     "metadata": {},
     "output_type": "display_data"
    },
    {
     "name": "stdout",
     "output_type": "stream",
     "text": [
      "Efforts targeted at a universal coronavirus vaccine.\n"
     ]
    },
    {
     "data": {
      "text/html": [
       "<a href=\"https://doi.org/10.1016/j.medidd.2020.100026\" target=\"_blank\">Novel decoy cellular vaccine strategy utilizing transgenic antigen-expressing cells as immune presenter and adjuvant in vaccine prototype against SARS-CoV-2 virus</a><br/><a href=\"https://doi.org/10.1016/j.coi.2020.01.006\" target=\"_blank\">DNA vaccines: prime time is now</a><br/><a href=\"https://doi.org/10.1016/j.ebiom.2020.102743\" target=\"_blank\">Microneedle array delivered recombinant coronavirus vaccines: Immunogenicity and rapid translational development</a><br/><a href=\"https://doi.org/10.1101/2020.03.20.000141\" target=\"_blank\">COVID-19 coronavirus vaccine design using reverse vaccinology and machine learning</a><br/><a href=\"https://doi.org/10.1016/s1473-3099(20)30317-0\" target=\"_blank\">Two Middle East respiratory syndrome vaccines: first step for other coronavirus vaccines?</a>"
      ],
      "text/plain": [
       "<IPython.core.display.HTML object>"
      ]
     },
     "metadata": {},
     "output_type": "display_data"
    },
    {
     "name": "stdout",
     "output_type": "stream",
     "text": [
      "Efforts to develop animal models and standardize challenge studies\n"
     ]
    },
    {
     "data": {
      "text/html": [
       "<a href=\"https://doi.org/10.1016/j.it.2020.04.002\" target=\"_blank\">Ger Rijkers: Persistence of Memory in Times of COVID-19</a><br/><a href=\"https://doi.org/10.1016/j.scitotenv.2020.138194\" target=\"_blank\">On biological evolution and environmental solutions</a><br/><a href=\"https://doi.org/10.1016/j.jaad.2020.04.016\" target=\"_blank\">Reply to “COVID-19 can present with a rash and be mistaken for Dengue”: Petechial rash in a patient with COVID-19 infection</a><br/><a href=\"https://doi.org/10.1016/j.oneear.2020.04.007\" target=\"_blank\">Toxicology Advances for 21st Century Chemical Pollution</a><br/><a href=\"https://doi.org/10.1101/2020.03.30.015347\" target=\"_blank\">Susceptibility of ferrets, cats, dogs, and different domestic animals to SARS-coronavirus-2</a>"
      ],
      "text/plain": [
       "<IPython.core.display.HTML object>"
      ]
     },
     "metadata": {},
     "output_type": "display_data"
    },
    {
     "name": "stdout",
     "output_type": "stream",
     "text": [
      "Efforts to develop prophylaxis clinical studies and prioritize in healthcare workers\n"
     ]
    },
    {
     "data": {
      "text/html": [
       "<a href=\"https://doi.org/10.1016/j.jaad.2020.04.004\" target=\"_blank\">Biologics for psoriasis during COVID-19 outbreak</a><br/><a href=\"https://www.ncbi.nlm.nih.gov/pmc/articles/PMC7075675/\" target=\"_blank\">Coronavirus Pandemic and Worries during Pregnancy; a Letter to Editor</a><br/><a href=\"https://www.ncbi.nlm.nih.gov/pmc/articles/PMC7149282/\" target=\"_blank\">Infection control since HIV</a><br/><a href=\"https://doi.org/10.1016/j.ajogmf.2020.100109\" target=\"_blank\">NOW!: protection for obstetrical providers and patients</a><br/><a href=\"https://doi.org/10.1016/j.sapharm.2020.03.018\" target=\"_blank\">SARS-CoV-2 outbreak: How can pharmacists help?</a>"
      ],
      "text/plain": [
       "<IPython.core.display.HTML object>"
      ]
     },
     "metadata": {},
     "output_type": "display_data"
    },
    {
     "name": "stdout",
     "output_type": "stream",
     "text": [
      "Approaches to evaluate risk for enhanced disease after vaccination\n"
     ]
    },
    {
     "data": {
      "text/html": [
       "<a href=\"https://doi.org/10.1016/j.coi.2020.01.006\" target=\"_blank\">DNA vaccines: prime time is now</a><br/><a href=\"https://doi.org/10.1016/j.mehy.2020.109707\" target=\"_blank\">Is Global BCG Vaccination Coverage Relevant To The Progression Of SARS-CoV-2 Pandemic?</a><br/><a href=\"https://www.ncbi.nlm.nih.gov/pmc/articles/PMC7182737/\" target=\"_blank\">Measles Immunization: Worth Considering Containment Strategy for SARS-CoV-2 Global Outbreak</a><br/><a href=\"https://doi.org/10.1016/j.medidd.2020.100026\" target=\"_blank\">Novel decoy cellular vaccine strategy utilizing transgenic antigen-expressing cells as immune presenter and adjuvant in vaccine prototype against SARS-CoV-2 virus</a><br/><a href=\"https://doi.org/10.1016/j.euo.2020.04.001\" target=\"_blank\">COVID-19 and Bacillus Calmette-Guérin: What is the Link?</a>"
      ],
      "text/plain": [
       "<IPython.core.display.HTML object>"
      ]
     },
     "metadata": {},
     "output_type": "display_data"
    },
    {
     "name": "stdout",
     "output_type": "stream",
     "text": [
      "Assays to evaluate vaccine immune response and process development for vaccines, alongside suitable animal models [in conjunction with therapeutics]\n"
     ]
    },
    {
     "data": {
      "text/html": [
       "<a href=\"https://doi.org/10.1016/j.medidd.2020.100026\" target=\"_blank\">Novel decoy cellular vaccine strategy utilizing transgenic antigen-expressing cells as immune presenter and adjuvant in vaccine prototype against SARS-CoV-2 virus</a><br/><a href=\"https://doi.org/10.1016/j.coi.2020.01.006\" target=\"_blank\">DNA vaccines: prime time is now</a><br/><a href=\"https://www.ncbi.nlm.nih.gov/pmc/articles/PMC7161866/\" target=\"_blank\">Viral vaccines and their manufacturing cell substrates: New trends and designs in modern vaccinology</a><br/><a href=\"https://doi.org/10.1016/j.ebiom.2020.102743\" target=\"_blank\">Microneedle array delivered recombinant coronavirus vaccines: Immunogenicity and rapid translational development</a><br/><a href=\"https://doi.org/10.1016/j.vaccine.2020.04.034\" target=\"_blank\">An Effective CTL Peptide Vaccine for Ebola Zaire Based on Survivors’ CD8+ Targeting of a Particular Nucleocapsid Protein Epitope with Potential Implications for COVID-19 Vaccine Design</a>"
      ],
      "text/plain": [
       "<IPython.core.display.HTML object>"
      ]
     },
     "metadata": {},
     "output_type": "display_data"
    }
   ],
   "source": [
    "relevant_articles(task5, 5, only_covid19=True)"
   ]
  },
  {
   "cell_type": "markdown",
   "metadata": {},
   "source": [
    "## What has been published about ethical and social science considerations?"
   ]
  },
  {
   "cell_type": "code",
   "execution_count": 47,
   "metadata": {
    "_kg_hide-output": true
   },
   "outputs": [
    {
     "name": "stdout",
     "output_type": "stream",
     "text": [
      "Efforts to articulate and translate existing ethical principles and standards to salient issues in COVID-2019\n"
     ]
    },
    {
     "data": {
      "text/html": [
       "<a href=\"https://www.ncbi.nlm.nih.gov/pmc/articles/PMC7184146/\" target=\"_blank\">COVID-19 as a Complex Intergovernmental Problem</a><br/><a href=\"https://doi.org/10.1016/s2214-109x(20)30103-0\" target=\"_blank\">A new vehicle to accelerate the UN Sustainable Development Goals</a><br/><a href=\"https://doi.org/10.1016/j.jtcvs.2020.04.044\" target=\"_blank\">Commentary: What We Should Know About Our Learners</a><br/><a href=\"https://doi.org/10.1016/j.indmarman.2020.02.017\" target=\"_blank\">Teaching-practice as a critical bridge for narrowing the research-practice gap</a><br/><a href=\"https://www.ncbi.nlm.nih.gov/pmc/articles/PMC7157828/\" target=\"_blank\">Globalization and health scholarship in a time of pandemic: from critical past to uncertain future</a>"
      ],
      "text/plain": [
       "<IPython.core.display.HTML object>"
      ]
     },
     "metadata": {},
     "output_type": "display_data"
    },
    {
     "name": "stdout",
     "output_type": "stream",
     "text": [
      "Efforts to embed ethics across all thematic areas, engage with novel ethical issues that arise and coordinate to minimize duplication of oversight\n"
     ]
    },
    {
     "data": {
      "text/html": [
       "<a href=\"https://doi.org/10.1016/j.jtcvs.2020.04.044\" target=\"_blank\">Commentary: What We Should Know About Our Learners</a><br/><a href=\"https://doi.org/10.1016/s2214-109x(20)30103-0\" target=\"_blank\">A new vehicle to accelerate the UN Sustainable Development Goals</a><br/><a href=\"https://doi.org/10.1016/j.indmarman.2020.02.017\" target=\"_blank\">Teaching-practice as a critical bridge for narrowing the research-practice gap</a><br/><a href=\"https://www.ncbi.nlm.nih.gov/pmc/articles/PMC7184142/\" target=\"_blank\">Continuity of Constitutional Government during a Pandemic: Considering the Concept in Canada's Emergency Management Act</a><br/><a href=\"https://doi.org/10.1016/s2214-109x(20)30138-8\" target=\"_blank\">The role of academia in an era of political turmoil</a>"
      ],
      "text/plain": [
       "<IPython.core.display.HTML object>"
      ]
     },
     "metadata": {},
     "output_type": "display_data"
    },
    {
     "name": "stdout",
     "output_type": "stream",
     "text": [
      "Efforts to support sustained education, access, and capacity building in the area of ethics\n"
     ]
    },
    {
     "data": {
      "text/html": [
       "<a href=\"https://doi.org/10.1016/j.jtcvs.2020.04.044\" target=\"_blank\">Commentary: What We Should Know About Our Learners</a><br/><a href=\"https://doi.org/10.1016/s2214-109x(20)30103-0\" target=\"_blank\">A new vehicle to accelerate the UN Sustainable Development Goals</a><br/><a href=\"https://doi.org/10.1016/j.indmarman.2020.02.017\" target=\"_blank\">Teaching-practice as a critical bridge for narrowing the research-practice gap</a><br/><a href=\"https://doi.org/10.1016/s2214-109x(20)30138-8\" target=\"_blank\">The role of academia in an era of political turmoil</a><br/><a href=\"https://www.ncbi.nlm.nih.gov/pmc/articles/PMC7184142/\" target=\"_blank\">Continuity of Constitutional Government during a Pandemic: Considering the Concept in Canada's Emergency Management Act</a>"
      ],
      "text/plain": [
       "<IPython.core.display.HTML object>"
      ]
     },
     "metadata": {},
     "output_type": "display_data"
    },
    {
     "name": "stdout",
     "output_type": "stream",
     "text": [
      "Efforts to establish a team at WHO that will be integrated within multidisciplinary research and operational platforms and that will connect with existing and expanded global networks of social sciences.\n"
     ]
    },
    {
     "data": {
      "text/html": [
       "<a href=\"https://doi.org/10.1016/s2214-109x(20)30103-0\" target=\"_blank\">A new vehicle to accelerate the UN Sustainable Development Goals</a><br/><a href=\"https://doi.org/10.1016/j.jtcvs.2020.04.044\" target=\"_blank\">Commentary: What We Should Know About Our Learners</a><br/><a href=\"https://doi.org/10.1016/j.indmarman.2020.02.017\" target=\"_blank\">Teaching-practice as a critical bridge for narrowing the research-practice gap</a><br/><a href=\"https://www.ncbi.nlm.nih.gov/pmc/articles/PMC7184142/\" target=\"_blank\">Continuity of Constitutional Government during a Pandemic: Considering the Concept in Canada's Emergency Management Act</a><br/><a href=\"https://doi.org/10.1016/s2214-109x(20)30138-8\" target=\"_blank\">The role of academia in an era of political turmoil</a>"
      ],
      "text/plain": [
       "<IPython.core.display.HTML object>"
      ]
     },
     "metadata": {},
     "output_type": "display_data"
    },
    {
     "name": "stdout",
     "output_type": "stream",
     "text": [
      "Efforts to develop qualitative assessment frameworks to systematically collect information related to local barriers and enablers for the uptake and adherence to public health measures for prevention and control. This includes the rapid identification of the secondary impacts of these measures. (e.g. use of surgical masks, modification of health seeking behaviors for SRH, school closures)\n"
     ]
    },
    {
     "data": {
      "text/html": [
       "<a href=\"https://doi.org/10.1016/j.psychres.2020.112952\" target=\"_blank\">Medical personnel, COVID-19 and emotional impact</a><br/><a href=\"https://doi.org/10.1016/s2468-2667(20)30079-7\" target=\"_blank\">Death in the era of the COVID-19 pandemic</a><br/><a href=\"https://doi.org/10.1016/j.jen.2020.04.003\" target=\"_blank\">Mental Wellbeing of Nursing Staff during the COVID-19 Outbreak: A Cultural Perspective</a><br/><a href=\"https://doi.org/10.1016/j.jhin.2020.03.033\" target=\"_blank\">Beyond the assistance: additional exposure situations to COVID-19 for healthcare workers</a><br/><a href=\"https://doi.org/10.1016/j.ajem.2020.04.030\" target=\"_blank\">Preserving mental health and resilience in frontline healthcare workers during COVID-19</a>"
      ],
      "text/plain": [
       "<IPython.core.display.HTML object>"
      ]
     },
     "metadata": {},
     "output_type": "display_data"
    },
    {
     "name": "stdout",
     "output_type": "stream",
     "text": [
      "Efforts to identify how the burden of responding to the outbreak and implementing public health measures affects the physical and psychological health of those providing care for Covid-19 patients and identify the immediate needs that must be addressed.\n"
     ]
    },
    {
     "data": {
      "text/html": [
       "<a href=\"https://doi.org/10.1016/j.jen.2020.04.003\" target=\"_blank\">Mental Wellbeing of Nursing Staff during the COVID-19 Outbreak: A Cultural Perspective</a><br/><a href=\"https://doi.org/10.1016/j.eururo.2020.04.045\" target=\"_blank\">Re: Ming-Chun Chan, Sharon E.K. Yeo, Yew-Lam Chong, Yee-Mun Lee. Stepping Forward: Urologists’ Efforts During the COVID-19 Outbreak in Singapore. Eur Urol. In press. http://dx.doi.org/10.1016/j.eururo.2020.03.004</a><br/><a href=\"https://doi.org/10.1016/j.psychres.2020.112952\" target=\"_blank\">Medical personnel, COVID-19 and emotional impact</a><br/><a href=\"https://doi.org/10.1016/s2468-2667(20)30079-7\" target=\"_blank\">Death in the era of the COVID-19 pandemic</a><br/><a href=\"https://doi.org/10.1016/j.jhin.2020.03.033\" target=\"_blank\">Beyond the assistance: additional exposure situations to COVID-19 for healthcare workers</a>"
      ],
      "text/plain": [
       "<IPython.core.display.HTML object>"
      ]
     },
     "metadata": {},
     "output_type": "display_data"
    },
    {
     "name": "stdout",
     "output_type": "stream",
     "text": [
      "Efforts to identify the underlying drivers of fear, anxiety and stigma that fuel misinformation and rumor, particularly through social media.\n"
     ]
    },
    {
     "data": {
      "text/html": [
       "<a href=\"https://doi.org/10.1016/j.ajem.2020.03.033\" target=\"_blank\">The impending storm: COVID-19, pandemics and our overwhelmed emergency departments</a><br/><a href=\"https://doi.org/10.1016/j.psychres.2020.112934\" target=\"_blank\">The psychological impact of the COVID-19 epidemic on college students in China</a><br/><a href=\"https://www.ncbi.nlm.nih.gov/pmc/articles/PMC7156090/\" target=\"_blank\">Community Pharmacists in Taiwan at the Frontline Against the Novel Coronavirus Pandemic: Gatekeepers for the Rationing of Personal Protective Equipment</a><br/><a href=\"https://arxiv.org/abs/2004.09600\" target=\"_blank\">Why do People Share Misinformation during the COVID-19 Pandemic?</a><br/><a href=\"https://doi.org/10.1016/j.ajp.2020.102073\" target=\"_blank\">First COVID-19 suicide case in Bangladesh due to fear of COVID-19 and xenophobia: Possible suicide prevention strategies</a>"
      ],
      "text/plain": [
       "<IPython.core.display.HTML object>"
      ]
     },
     "metadata": {},
     "output_type": "display_data"
    }
   ],
   "source": [
    "relevant_articles(task6, 5, only_covid19=True)"
   ]
  },
  {
   "cell_type": "markdown",
   "metadata": {},
   "source": [
    "## What do we know about diagnostics and surveillance?"
   ]
  },
  {
   "cell_type": "code",
   "execution_count": 48,
   "metadata": {
    "_kg_hide-input": false,
    "_kg_hide-output": true
   },
   "outputs": [
    {
     "name": "stdout",
     "output_type": "stream",
     "text": [
      "How widespread current exposure is to be able to make immediate policy recommendations on mitigation measures. Denominators for testing and a mechanism for rapidly sharing that information, including demographics, to the extent possible. Sampling methods to determine asymptomatic disease (e.g., use of serosurveys (such as convalescent samples) and early detection of disease (e.g., use of screening of neutralizing antibodies such as ELISAs).\n"
     ]
    },
    {
     "data": {
      "text/html": [
       "<a href=\"https://doi.org/10.1016/s0140-6736(20)30561-4\" target=\"_blank\">Preparedness is essential for malaria-endemic regions during the COVID-19 pandemic</a><br/><a href=\"https://doi.org/10.1016/j.ijsu.2020.03.002\" target=\"_blank\">An Invited Commentary on “World Health Organization declares global emergency: A review of the 2019 novel Coronavirus (COVID-19)\": Emergency or new reality?</a><br/><a href=\"https://doi.org/10.1016/j.jtcvs.2020.04.027\" target=\"_blank\">Commentary: When a cardiac surgeon takes care COVID-19 patients: It’s gonna be ok!</a><br/><a href=\"https://doi.org/10.1016/j.jflm.2020.101964\" target=\"_blank\">COVID-19 in forensic medicine unit personnel: Observation from Thailand</a><br/><a href=\"https://doi.org/10.1016/s2214-109x(20)30101-7\" target=\"_blank\">Can Nigeria contain the COVID-19 outbreak using lessons from recent epidemics?</a>"
      ],
      "text/plain": [
       "<IPython.core.display.HTML object>"
      ]
     },
     "metadata": {},
     "output_type": "display_data"
    },
    {
     "name": "stdout",
     "output_type": "stream",
     "text": [
      "Efforts to increase capacity on existing diagnostic platforms and tap into existing surveillance platforms.\n"
     ]
    },
    {
     "data": {
      "text/html": [
       "<a href=\"https://doi.org/10.1016/j.resconrec.2020.104828\" target=\"_blank\">On general principles at the sustainability science-policy interface</a><br/><a href=\"https://doi.org/10.1016/j.drudis.2020.04.009\" target=\"_blank\">Pharmaceutical patents: reconciling the human right to health with the incentive to invent</a><br/><a href=\"https://doi.org/10.1016/j.jtcvs.2020.04.044\" target=\"_blank\">Commentary: What We Should Know About Our Learners</a><br/><a href=\"https://doi.org/10.1016/s2214-109x(20)30103-0\" target=\"_blank\">A new vehicle to accelerate the UN Sustainable Development Goals</a><br/><a href=\"https://doi.org/10.1016/j.indmarman.2020.02.017\" target=\"_blank\">Teaching-practice as a critical bridge for narrowing the research-practice gap</a>"
      ],
      "text/plain": [
       "<IPython.core.display.HTML object>"
      ]
     },
     "metadata": {},
     "output_type": "display_data"
    },
    {
     "name": "stdout",
     "output_type": "stream",
     "text": [
      "Recruitment, support, and coordination of local expertise and capacity (public, private—commercial, and non-profit, including academic), including legal, ethical, communications, and operational issues.\n"
     ]
    },
    {
     "data": {
      "text/html": [
       "<a href=\"https://doi.org/10.1016/s2214-109x(20)30103-0\" target=\"_blank\">A new vehicle to accelerate the UN Sustainable Development Goals</a><br/><a href=\"https://doi.org/10.1016/j.jtcvs.2020.04.044\" target=\"_blank\">Commentary: What We Should Know About Our Learners</a><br/><a href=\"https://doi.org/10.1016/j.indmarman.2020.02.017\" target=\"_blank\">Teaching-practice as a critical bridge for narrowing the research-practice gap</a><br/><a href=\"https://www.ncbi.nlm.nih.gov/pmc/articles/PMC7184142/\" target=\"_blank\">Continuity of Constitutional Government during a Pandemic: Considering the Concept in Canada's Emergency Management Act</a><br/><a href=\"https://doi.org/10.1016/s2214-109x(20)30138-8\" target=\"_blank\">The role of academia in an era of political turmoil</a>"
      ],
      "text/plain": [
       "<IPython.core.display.HTML object>"
      ]
     },
     "metadata": {},
     "output_type": "display_data"
    },
    {
     "name": "stdout",
     "output_type": "stream",
     "text": [
      "National guidance and guidelines about best practices to states (e.g., how states might leverage universities and private laboratories for testing purposes, communications to public health officials and the public).\n"
     ]
    },
    {
     "data": {
      "text/html": [
       "<a href=\"https://doi.org/10.1016/s2214-109x(20)30103-0\" target=\"_blank\">A new vehicle to accelerate the UN Sustainable Development Goals</a><br/><a href=\"https://doi.org/10.1016/j.jtcvs.2020.04.044\" target=\"_blank\">Commentary: What We Should Know About Our Learners</a><br/><a href=\"https://doi.org/10.1016/j.indmarman.2020.02.017\" target=\"_blank\">Teaching-practice as a critical bridge for narrowing the research-practice gap</a><br/><a href=\"https://www.ncbi.nlm.nih.gov/pmc/articles/PMC7184142/\" target=\"_blank\">Continuity of Constitutional Government during a Pandemic: Considering the Concept in Canada's Emergency Management Act</a><br/><a href=\"https://doi.org/10.1016/s2214-109x(20)30138-8\" target=\"_blank\">The role of academia in an era of political turmoil</a>"
      ],
      "text/plain": [
       "<IPython.core.display.HTML object>"
      ]
     },
     "metadata": {},
     "output_type": "display_data"
    },
    {
     "name": "stdout",
     "output_type": "stream",
     "text": [
      "Development of a point-of-care test (like a rapid influenza test) and rapid bed-side tests, recognizing the tradeoffs between speed, accessibility, and accuracy.\n"
     ]
    },
    {
     "data": {
      "text/html": [
       "<a href=\"https://doi.org/10.1101/2020.04.13.039792\" target=\"_blank\">Improving COVID-19 Testing Efficiency using Guided Agglomerative Sampling</a><br/><a href=\"https://arxiv.org/abs/2004.06306\" target=\"_blank\">Group Testing for COVID-19: How to Stop Worrying and Test More</a><br/><a href=\"https://arxiv.org/abs/2004.04785\" target=\"_blank\">On Accelerated Testing for COVID-19 Using Group Testing</a><br/><a href=\"https://doi.org/10.1101/2020.04.24.20074559\" target=\"_blank\">Comparison of Commercially Available and Laboratory Developed Assays for in vitro Detection of SARS-CoV-2 in Clinical Laboratories</a><br/><a href=\"https://doi.org/10.1016/j.jcv.2020.104387\" target=\"_blank\">Detection of low levels of SARS-CoV-2 RNA from nasopharyngeal swabs using three commercial molecular assays</a>"
      ],
      "text/plain": [
       "<IPython.core.display.HTML object>"
      ]
     },
     "metadata": {},
     "output_type": "display_data"
    },
    {
     "name": "stdout",
     "output_type": "stream",
     "text": [
      "Rapid design and execution of targeted surveillance experiments calling for all potential testers using PCR in a defined area to start testing and report to a specific entity. These experiments could aid in collecting longitudinal samples, which are critical to understanding the impact of ad hoc local interventions (which also need to be recorded).\n"
     ]
    },
    {
     "data": {
      "text/html": [
       "<a href=\"https://doi.org/10.1016/j.sheji.2020.02.002\" target=\"_blank\">She Ji: The Next Five Years</a><br/><a href=\"https://doi.org/10.1016/j.telpol.2020.101976\" target=\"_blank\">AI governance in the public sector: Three tales from the frontiers of automated decision-making in democratic settings</a><br/><a href=\"https://www.ncbi.nlm.nih.gov/pmc/articles/PMC7177730/\" target=\"_blank\">The Need for an Evidence-Based Encyclopaedia in Health Services Research in Pharmacy</a><br/><a href=\"https://www.ncbi.nlm.nih.gov/pmc/articles/PMC7184869/\" target=\"_blank\">Reading Comics for Citizenship</a><br/><a href=\"https://arxiv.org/abs/2004.07183\" target=\"_blank\">Online Information Search During COVID-19</a>"
      ],
      "text/plain": [
       "<IPython.core.display.HTML object>"
      ]
     },
     "metadata": {},
     "output_type": "display_data"
    },
    {
     "name": "stdout",
     "output_type": "stream",
     "text": [
      "Separation of assay development issues from instruments, and the role of the private sector to help quickly migrate assays onto those devices.\n"
     ]
    },
    {
     "data": {
      "text/html": [
       "<a href=\"https://www.ncbi.nlm.nih.gov/pmc/articles/PMC7137541/\" target=\"_blank\">Strategy for the future</a><br/><a href=\"https://www.ncbi.nlm.nih.gov/pmc/articles/PMC7160463/\" target=\"_blank\">The Applicability of the Law of the WTO to Green Energy Security</a><br/><a href=\"https://doi.org/10.1016/s2214-109x(20)30103-0\" target=\"_blank\">A new vehicle to accelerate the UN Sustainable Development Goals</a><br/><a href=\"https://www.ncbi.nlm.nih.gov/pmc/articles/PMC7157828/\" target=\"_blank\">Globalization and health scholarship in a time of pandemic: from critical past to uncertain future</a><br/><a href=\"https://www.ncbi.nlm.nih.gov/pmc/articles/PMC7172034/\" target=\"_blank\">Earth Day Reflections: Hope Amid the Pandemic</a>"
      ],
      "text/plain": [
       "<IPython.core.display.HTML object>"
      ]
     },
     "metadata": {},
     "output_type": "display_data"
    },
    {
     "name": "stdout",
     "output_type": "stream",
     "text": [
      "Efforts to track the evolution of the virus (i.e., genetic drift or mutations) and avoid locking into specific reagents and surveillance/detection schemes.\n"
     ]
    },
    {
     "data": {
      "text/html": [
       "<a href=\"https://doi.org/10.1016/j.scitotenv.2020.138194\" target=\"_blank\">On biological evolution and environmental solutions</a><br/><a href=\"https://doi.org/10.1016/j.oneear.2020.04.007\" target=\"_blank\">Toxicology Advances for 21st Century Chemical Pollution</a><br/><a href=\"https://doi.org/10.1016/j.jaad.2020.04.016\" target=\"_blank\">Reply to “COVID-19 can present with a rash and be mistaken for Dengue”: Petechial rash in a patient with COVID-19 infection</a><br/><a href=\"https://www.ncbi.nlm.nih.gov/pmc/articles/PMC7175784/\" target=\"_blank\">Pros and cons of the application of evolutionary theories to the evolution of SARS-CoV-2</a><br/><a href=\"https://doi.org/10.1016/j.scitotenv.2020.138149\" target=\"_blank\">The international imperative to rapidly and inexpensively monitor community-wide Covid-19 infection status and trends</a>"
      ],
      "text/plain": [
       "<IPython.core.display.HTML object>"
      ]
     },
     "metadata": {},
     "output_type": "display_data"
    },
    {
     "name": "stdout",
     "output_type": "stream",
     "text": [
      "Latency issues and when there is sufficient viral load to detect the pathogen, and understanding of what is needed in terms of biological and environmental sampling.\n"
     ]
    },
    {
     "data": {
      "text/html": [
       "<a href=\"https://doi.org/10.1016/j.scitotenv.2020.138194\" target=\"_blank\">On biological evolution and environmental solutions</a><br/><a href=\"https://doi.org/10.1016/j.drudis.2020.04.005\" target=\"_blank\">Boosting the arsenal against COVID-19 through computational drug repurposing</a><br/><a href=\"https://doi.org/10.1016/j.oneear.2020.04.007\" target=\"_blank\">Toxicology Advances for 21st Century Chemical Pollution</a><br/><a href=\"https://doi.org/10.1016/j.jaad.2020.04.016\" target=\"_blank\">Reply to “COVID-19 can present with a rash and be mistaken for Dengue”: Petechial rash in a patient with COVID-19 infection</a><br/><a href=\"https://www.ncbi.nlm.nih.gov/pmc/articles/PMC7175144/\" target=\"_blank\">A New Penicillin?</a>"
      ],
      "text/plain": [
       "<IPython.core.display.HTML object>"
      ]
     },
     "metadata": {},
     "output_type": "display_data"
    },
    {
     "name": "stdout",
     "output_type": "stream",
     "text": [
      "Use of diagnostics such as host response markers (e.g., cytokines) to detect early disease or predict severe disease progression, which would be important to understanding best clinical practice and efficacy of therapeutic interventions.\n"
     ]
    },
    {
     "data": {
      "text/html": [
       "<a href=\"https://doi.org/10.1016/j.drudis.2020.04.005\" target=\"_blank\">Boosting the arsenal against COVID-19 through computational drug repurposing</a><br/><a href=\"https://doi.org/10.1016/j.jaad.2020.04.016\" target=\"_blank\">Reply to “COVID-19 can present with a rash and be mistaken for Dengue”: Petechial rash in a patient with COVID-19 infection</a><br/><a href=\"https://doi.org/10.1016/j.scitotenv.2020.138194\" target=\"_blank\">On biological evolution and environmental solutions</a><br/><a href=\"https://www.ncbi.nlm.nih.gov/pmc/articles/PMC7175144/\" target=\"_blank\">A New Penicillin?</a><br/><a href=\"https://doi.org/10.1016/j.jaad.2020.03.103\" target=\"_blank\">Reply to: “COVID-19, syphilis, and biologic therapies for psoriasis and psoriatic arthritis: A word of caution”</a>"
      ],
      "text/plain": [
       "<IPython.core.display.HTML object>"
      ]
     },
     "metadata": {},
     "output_type": "display_data"
    },
    {
     "name": "stdout",
     "output_type": "stream",
     "text": [
      "Policies and protocols for screening and testing.\n"
     ]
    },
    {
     "data": {
      "text/html": [
       "<a href=\"https://www.ncbi.nlm.nih.gov/pmc/articles/PMC7173035/\" target=\"_blank\">Essential Role of Patient Blood Management in a Pandemic: A Call for Action</a><br/><a href=\"https://doi.org/10.1016/j.tracli.2020.03.005\" target=\"_blank\">COVID-19: Is a paradigm change to be expected in health care and transfusion medicine?</a><br/><a href=\"https://doi.org/10.1016/s2213-2600(20)30174-0\" target=\"_blank\">Blood transfusion strategies and ECMO during the COVID-19 pandemic – Authors' reply</a><br/><a href=\"https://doi.org/10.1016/j.micinf.2020.04.008\" target=\"_blank\">There Will be Blood</a><br/><a href=\"https://doi.org/10.1016/j.bbmt.2020.04.009\" target=\"_blank\">Securing the graft during pandemic: are we ready for cryopreservation for all?</a>"
      ],
      "text/plain": [
       "<IPython.core.display.HTML object>"
      ]
     },
     "metadata": {},
     "output_type": "display_data"
    },
    {
     "name": "stdout",
     "output_type": "stream",
     "text": [
      "Policies to mitigate the effects on supplies associated with mass testing, including swabs and reagents.\n"
     ]
    },
    {
     "data": {
      "text/html": [
       "<a href=\"https://arxiv.org/abs/2003.06184\" target=\"_blank\">Coronavirus and oil price crash</a><br/><a href=\"https://arxiv.org/abs/2004.01831\" target=\"_blank\">Inside the Mind of a Stock Market Crash</a><br/><a href=\"https://www.ncbi.nlm.nih.gov/pmc/articles/PMC7166799/\" target=\"_blank\">Economic impacts of Wuhan 2019‐nCoV on China and the world</a><br/><a href=\"https://doi.org/10.1016/b978-0-12-820288-3.00008-1\" target=\"_blank\">Chapter 8 Business Strategies and Risk Factors</a><br/><a href=\"https://doi.org/10.1016/j.retrec.2020.100846\" target=\"_blank\">And the beat goes on. The continued trials and tribulations of passenger rail franchising in Great Britain</a>"
      ],
      "text/plain": [
       "<IPython.core.display.HTML object>"
      ]
     },
     "metadata": {},
     "output_type": "display_data"
    },
    {
     "name": "stdout",
     "output_type": "stream",
     "text": [
      "Technology roadmap for diagnostics.\n"
     ]
    },
    {
     "data": {
      "text/html": [
       "<a href=\"https://doi.org/10.1016/j.oneear.2020.04.007\" target=\"_blank\">Toxicology Advances for 21st Century Chemical Pollution</a><br/><a href=\"https://www.ncbi.nlm.nih.gov/pmc/articles/PMC7175144/\" target=\"_blank\">A New Penicillin?</a><br/><a href=\"https://doi.org/10.1016/j.scitotenv.2020.138194\" target=\"_blank\">On biological evolution and environmental solutions</a><br/><a href=\"https://doi.org/10.1016/j.envint.2020.105689\" target=\"_blank\">Future Perspectives of Wastewater-Based Epidemiology: Monitoring Infectious Disease Spread and Resistance to the Community Level</a><br/><a href=\"https://doi.org/10.1016/j.scitotenv.2020.138149\" target=\"_blank\">The international imperative to rapidly and inexpensively monitor community-wide Covid-19 infection status and trends</a>"
      ],
      "text/plain": [
       "<IPython.core.display.HTML object>"
      ]
     },
     "metadata": {},
     "output_type": "display_data"
    },
    {
     "name": "stdout",
     "output_type": "stream",
     "text": [
      "Barriers to developing and scaling up new diagnostic tests (e.g., market forces), how future coalition and accelerator models (e.g., Coalition for Epidemic Preparedness Innovations) could provide critical funding for diagnostics, and opportunities for a streamlined regulatory environment.\n"
     ]
    },
    {
     "data": {
      "text/html": [
       "<a href=\"https://doi.org/10.1016/j.oneear.2020.04.007\" target=\"_blank\">Toxicology Advances for 21st Century Chemical Pollution</a><br/><a href=\"https://doi.org/10.1016/j.resconrec.2020.104828\" target=\"_blank\">On general principles at the sustainability science-policy interface</a><br/><a href=\"https://doi.org/10.1016/s2214-109x(20)30103-0\" target=\"_blank\">A new vehicle to accelerate the UN Sustainable Development Goals</a><br/><a href=\"https://doi.org/10.1016/j.jtcvs.2020.04.044\" target=\"_blank\">Commentary: What We Should Know About Our Learners</a><br/><a href=\"https://doi.org/10.1016/j.drudis.2020.04.009\" target=\"_blank\">Pharmaceutical patents: reconciling the human right to health with the incentive to invent</a>"
      ],
      "text/plain": [
       "<IPython.core.display.HTML object>"
      ]
     },
     "metadata": {},
     "output_type": "display_data"
    },
    {
     "name": "stdout",
     "output_type": "stream",
     "text": [
      "New platforms and technology (e.g., CRISPR) to improve response times and employ more holistic approaches to COVID-19 and future diseases.\n"
     ]
    },
    {
     "data": {
      "text/html": [
       "<a href=\"https://doi.org/10.1016/j.scitotenv.2020.138194\" target=\"_blank\">On biological evolution and environmental solutions</a><br/><a href=\"https://doi.org/10.1016/j.oneear.2020.04.007\" target=\"_blank\">Toxicology Advances for 21st Century Chemical Pollution</a><br/><a href=\"https://doi.org/10.1016/j.drudis.2020.04.005\" target=\"_blank\">Boosting the arsenal against COVID-19 through computational drug repurposing</a><br/><a href=\"https://doi.org/10.1016/j.jaad.2020.04.016\" target=\"_blank\">Reply to “COVID-19 can present with a rash and be mistaken for Dengue”: Petechial rash in a patient with COVID-19 infection</a><br/><a href=\"https://doi.org/10.1016/j.envint.2020.105689\" target=\"_blank\">Future Perspectives of Wastewater-Based Epidemiology: Monitoring Infectious Disease Spread and Resistance to the Community Level</a>"
      ],
      "text/plain": [
       "<IPython.core.display.HTML object>"
      ]
     },
     "metadata": {},
     "output_type": "display_data"
    },
    {
     "name": "stdout",
     "output_type": "stream",
     "text": [
      "Coupling genomics and diagnostic testing on a large scale.\n"
     ]
    },
    {
     "data": {
      "text/html": [
       "<a href=\"https://doi.org/10.1016/j.scitotenv.2020.138194\" target=\"_blank\">On biological evolution and environmental solutions</a><br/><a href=\"https://doi.org/10.1016/j.oneear.2020.04.007\" target=\"_blank\">Toxicology Advances for 21st Century Chemical Pollution</a><br/><a href=\"https://doi.org/10.1016/j.jaad.2020.04.016\" target=\"_blank\">Reply to “COVID-19 can present with a rash and be mistaken for Dengue”: Petechial rash in a patient with COVID-19 infection</a><br/><a href=\"https://doi.org/10.1016/j.envint.2020.105689\" target=\"_blank\">Future Perspectives of Wastewater-Based Epidemiology: Monitoring Infectious Disease Spread and Resistance to the Community Level</a><br/><a href=\"https://doi.org/10.1016/j.drudis.2020.04.005\" target=\"_blank\">Boosting the arsenal against COVID-19 through computational drug repurposing</a>"
      ],
      "text/plain": [
       "<IPython.core.display.HTML object>"
      ]
     },
     "metadata": {},
     "output_type": "display_data"
    },
    {
     "name": "stdout",
     "output_type": "stream",
     "text": [
      "Enhance capabilities for rapid sequencing and bioinformatics to target regions of the genome that will allow specificity for a particular variant.\n"
     ]
    },
    {
     "data": {
      "text/html": [
       "<a href=\"https://doi.org/10.1101/2020.04.07.030551\" target=\"_blank\">IDseq – An Open Source Cloud-based Pipeline and Analysis Service for Metagenomic Pathogen Detection and Monitoring</a><br/><a href=\"https://www.ncbi.nlm.nih.gov/pmc/articles/PMC7067954/\" target=\"_blank\">Complete Genome Sequence of a 2019 Novel Coronavirus (SARS-CoV-2) Strain Isolated in Nepal</a><br/><a href=\"https://doi.org/10.1101/402370\" target=\"_blank\">PathoLive - Real-time pathogen identification from metagenomic Illumina datasets</a><br/><a href=\"https://doi.org/10.1101/2020.03.02.968818\" target=\"_blank\">Rapid metagenomic characterization of a case of imported COVID-19 in Cambodia</a><br/><a href=\"https://doi.org/10.1101/2020.04.22.044404\" target=\"_blank\">Characterization of intra-host SARS-CoV-2 variants improves phylogenomic reconstruction and may reveal functionally convergent mutations</a>"
      ],
      "text/plain": [
       "<IPython.core.display.HTML object>"
      ]
     },
     "metadata": {},
     "output_type": "display_data"
    },
    {
     "name": "stdout",
     "output_type": "stream",
     "text": [
      "Enhance capacity (people, technology, data) for sequencing with advanced analytics for unknown pathogens, and explore capabilities for distinguishing naturally-occurring pathogens from intentional.\n"
     ]
    },
    {
     "data": {
      "text/html": [
       "<a href=\"https://doi.org/10.1016/j.oneear.2020.04.007\" target=\"_blank\">Toxicology Advances for 21st Century Chemical Pollution</a><br/><a href=\"https://doi.org/10.1016/j.scitotenv.2020.138194\" target=\"_blank\">On biological evolution and environmental solutions</a><br/><a href=\"https://www.ncbi.nlm.nih.gov/pmc/articles/PMC7175144/\" target=\"_blank\">A New Penicillin?</a><br/><a href=\"https://doi.org/10.1016/j.envint.2020.105689\" target=\"_blank\">Future Perspectives of Wastewater-Based Epidemiology: Monitoring Infectious Disease Spread and Resistance to the Community Level</a><br/><a href=\"https://doi.org/10.1016/j.scitotenv.2020.138149\" target=\"_blank\">The international imperative to rapidly and inexpensively monitor community-wide Covid-19 infection status and trends</a>"
      ],
      "text/plain": [
       "<IPython.core.display.HTML object>"
      ]
     },
     "metadata": {},
     "output_type": "display_data"
    },
    {
     "name": "stdout",
     "output_type": "stream",
     "text": [
      "One Health surveillance of humans and potential sources of future spillover or ongoing exposure for this organism and future pathogens, including both evolutionary hosts (e.g., bats) and transmission hosts (e.g., heavily trafficked and farmed wildlife and domestic food and companion species), inclusive of environmental, demographic, and occupational risk factors.\n"
     ]
    },
    {
     "data": {
      "text/html": [
       "<a href=\"https://doi.org/10.1101/2020.04.24.057430\" target=\"_blank\">Ecological processes underlying the emergence of novel enzootic cycles—arboviruses in the neotropics as a case study</a><br/><a href=\"https://doi.org/10.1016/j.pulmoe.2020.02.010\" target=\"_blank\">And now for something completely different: from 2019-nCoV and COVID-19 to 2020-nMan</a><br/><a href=\"https://doi.org/10.1016/j.envres.2020.109460\" target=\"_blank\">Preventing bat-born viral outbreaks in future using ecological interventions</a><br/><a href=\"https://doi.org/10.1016/s2468-1253(20)30087-x\" target=\"_blank\">SARS-CoV-2 in wastewater: potential health risk, but also data source</a><br/><a href=\"https://doi.org/10.1016/j.tmaid.2020.101633\" target=\"_blank\">Should the Holy Week 2020 be cancelled in Latin America due to the COVID-19 pandemic?</a>"
      ],
      "text/plain": [
       "<IPython.core.display.HTML object>"
      ]
     },
     "metadata": {},
     "output_type": "display_data"
    }
   ],
   "source": [
    "relevant_articles(task7, 5, only_covid19=True)"
   ]
  },
  {
   "cell_type": "markdown",
   "metadata": {},
   "source": [
    "## What has been published about medical care?"
   ]
  },
  {
   "cell_type": "code",
   "execution_count": 49,
   "metadata": {
    "_kg_hide-output": true
   },
   "outputs": [
    {
     "name": "stdout",
     "output_type": "stream",
     "text": [
      "Resources to support skilled nursing facilities and long term care facilities.\n"
     ]
    },
    {
     "data": {
      "text/html": [
       "<a href=\"https://doi.org/10.1016/j.eururo.2020.04.045\" target=\"_blank\">Re: Ming-Chun Chan, Sharon E.K. Yeo, Yew-Lam Chong, Yee-Mun Lee. Stepping Forward: Urologists’ Efforts During the COVID-19 Outbreak in Singapore. Eur Urol. In press. http://dx.doi.org/10.1016/j.eururo.2020.03.004</a><br/><a href=\"https://doi.org/10.1016/j.eururo.2020.03.029\" target=\"_blank\">COVID-19: Importance of the Awareness of the Clinical Syndrome by Urologists</a><br/><a href=\"https://doi.org/10.1016/j.jen.2020.04.003\" target=\"_blank\">Mental Wellbeing of Nursing Staff during the COVID-19 Outbreak: A Cultural Perspective</a><br/><a href=\"https://doi.org/10.1016/j.psychres.2020.112952\" target=\"_blank\">Medical personnel, COVID-19 and emotional impact</a><br/><a href=\"https://doi.org/10.1016/s2468-2667(20)30079-7\" target=\"_blank\">Death in the era of the COVID-19 pandemic</a>"
      ],
      "text/plain": [
       "<IPython.core.display.HTML object>"
      ]
     },
     "metadata": {},
     "output_type": "display_data"
    },
    {
     "name": "stdout",
     "output_type": "stream",
     "text": [
      "Mobilization of surge medical staff to address shortages in overwhelmed communities\n"
     ]
    },
    {
     "data": {
      "text/html": [
       "<a href=\"https://doi.org/10.1016/j.eururo.2020.03.029\" target=\"_blank\">COVID-19: Importance of the Awareness of the Clinical Syndrome by Urologists</a><br/><a href=\"https://doi.org/10.1016/j.eururo.2020.04.045\" target=\"_blank\">Re: Ming-Chun Chan, Sharon E.K. Yeo, Yew-Lam Chong, Yee-Mun Lee. Stepping Forward: Urologists’ Efforts During the COVID-19 Outbreak in Singapore. Eur Urol. In press. http://dx.doi.org/10.1016/j.eururo.2020.03.004</a><br/><a href=\"https://doi.org/10.1016/j.jen.2020.04.003\" target=\"_blank\">Mental Wellbeing of Nursing Staff during the COVID-19 Outbreak: A Cultural Perspective</a><br/><a href=\"https://doi.org/10.1016/j.psychres.2020.112952\" target=\"_blank\">Medical personnel, COVID-19 and emotional impact</a><br/><a href=\"https://doi.org/10.1016/s2468-2667(20)30079-7\" target=\"_blank\">Death in the era of the COVID-19 pandemic</a>"
      ],
      "text/plain": [
       "<IPython.core.display.HTML object>"
      ]
     },
     "metadata": {},
     "output_type": "display_data"
    },
    {
     "name": "stdout",
     "output_type": "stream",
     "text": [
      "Age-adjusted mortality data for Acute Respiratory Distress Syndrome (ARDS) with/without other organ failure – particularly for viral etiologies\n"
     ]
    },
    {
     "data": {
      "text/html": [
       "<a href=\"https://doi.org/10.1016/j.metabol.2020.154255\" target=\"_blank\">Fasting plasma glucose associated with mortality rate</a><br/><a href=\"https://doi.org/10.1016/j.avsg.2020.04.037\" target=\"_blank\">SARSCoV-2 infection and the upper limbs deep vein thrombosis risk.</a><br/><a href=\"https://www.ncbi.nlm.nih.gov/pmc/articles/PMC7167215/\" target=\"_blank\">Critically ill SARS-CoV-2-infected patients are not stratified as sepsis by the qSOFA</a><br/><a href=\"https://doi.org/10.1016/j.jen.2020.04.008\" target=\"_blank\">Radiological Presentation of COVID19</a><br/><a href=\"https://doi.org/10.1016/j.clinthera.2020.04.009\" target=\"_blank\">Association between clinical manifestations and prognosis in patients with COVID-19</a>"
      ],
      "text/plain": [
       "<IPython.core.display.HTML object>"
      ]
     },
     "metadata": {},
     "output_type": "display_data"
    },
    {
     "name": "stdout",
     "output_type": "stream",
     "text": [
      "Extracorporeal membrane oxygenation (ECMO) outcomes data of COVID-19 patients\n"
     ]
    },
    {
     "data": {
      "text/html": [
       "<a href=\"https://doi.org/10.1016/j.jviscsurg.2020.04.007\" target=\"_blank\">SARS-CoV-2 infection may result in appendicular syndrome: Chest CT scan before appendectomy</a><br/><a href=\"https://doi.org/10.1016/j.intimp.2020.106504\" target=\"_blank\">The diagnostic and predictive role of NLR, d-NLR and PLR in COVID-19 patients</a><br/><a href=\"https://doi.org/10.1016/j.pulmoe.2020.04.001\" target=\"_blank\">Covid-19: Round and oval areas of ground-glass opacity</a><br/><a href=\"https://doi.org/10.1016/j.hrcr.2020.03.012\" target=\"_blank\">COVID-19 Infection Unmasking Brugada Syndrome</a><br/><a href=\"https://doi.org/10.1016/j.jen.2020.04.008\" target=\"_blank\">Radiological Presentation of COVID19</a>"
      ],
      "text/plain": [
       "<IPython.core.display.HTML object>"
      ]
     },
     "metadata": {},
     "output_type": "display_data"
    },
    {
     "name": "stdout",
     "output_type": "stream",
     "text": [
      "Outcomes data for COVID-19 after mechanical ventilation adjusted for age.\n"
     ]
    },
    {
     "data": {
      "text/html": [
       "<a href=\"https://doi.org/10.1016/j.jviscsurg.2020.04.007\" target=\"_blank\">SARS-CoV-2 infection may result in appendicular syndrome: Chest CT scan before appendectomy</a><br/><a href=\"https://doi.org/10.1016/j.intimp.2020.106504\" target=\"_blank\">The diagnostic and predictive role of NLR, d-NLR and PLR in COVID-19 patients</a><br/><a href=\"https://doi.org/10.1016/j.diii.2020.04.003\" target=\"_blank\">Concomitant acute aortic thrombosis and pulmonary embolism complicating COVID-19 pneumonia</a><br/><a href=\"https://doi.org/10.1016/j.jaccas.2020.04.007\" target=\"_blank\">Transient Brugada-like ECG pattern in a patient with Coronavirus Disease 2019 (COVID-19)</a><br/><a href=\"https://doi.org/10.1016/j.jen.2020.04.008\" target=\"_blank\">Radiological Presentation of COVID19</a>"
      ],
      "text/plain": [
       "<IPython.core.display.HTML object>"
      ]
     },
     "metadata": {},
     "output_type": "display_data"
    },
    {
     "name": "stdout",
     "output_type": "stream",
     "text": [
      "Knowledge of the frequency, manifestations, and course of extrapulmonary manifestations of COVID-19, including, but not limited to, possible cardiomyopathy and cardiac arrest.\n"
     ]
    },
    {
     "data": {
      "text/html": [
       "<a href=\"https://doi.org/10.1016/j.jviscsurg.2020.04.007\" target=\"_blank\">SARS-CoV-2 infection may result in appendicular syndrome: Chest CT scan before appendectomy</a><br/><a href=\"https://doi.org/10.1016/j.intimp.2020.106504\" target=\"_blank\">The diagnostic and predictive role of NLR, d-NLR and PLR in COVID-19 patients</a><br/><a href=\"https://doi.org/10.1016/j.diii.2020.04.003\" target=\"_blank\">Concomitant acute aortic thrombosis and pulmonary embolism complicating COVID-19 pneumonia</a><br/><a href=\"https://doi.org/10.1016/j.jaccas.2020.04.007\" target=\"_blank\">Transient Brugada-like ECG pattern in a patient with Coronavirus Disease 2019 (COVID-19)</a><br/><a href=\"https://doi.org/10.1016/j.rec.2020.04.010\" target=\"_blank\">Pulmonary embolism in COVID-19. When nothing is what it seems</a>"
      ],
      "text/plain": [
       "<IPython.core.display.HTML object>"
      ]
     },
     "metadata": {},
     "output_type": "display_data"
    },
    {
     "name": "stdout",
     "output_type": "stream",
     "text": [
      "Application of regulatory standards (e.g., EUA, CLIA) and ability to adapt care to crisis standards of care level.\n"
     ]
    },
    {
     "data": {
      "text/html": [
       "<a href=\"https://doi.org/10.1016/j.jaad.2020.04.016\" target=\"_blank\">Reply to “COVID-19 can present with a rash and be mistaken for Dengue”: Petechial rash in a patient with COVID-19 infection</a><br/><a href=\"https://www.ncbi.nlm.nih.gov/pmc/articles/PMC7167403/\" target=\"_blank\">Fast Screening Systems for COVID-19</a><br/><a href=\"https://www.ncbi.nlm.nih.gov/pmc/articles/PMC7182141/\" target=\"_blank\">Letter to the Editor: Wastewater-Based Epidemiology Can Overcome Representativeness and Stigma Issues Related to COVID-19</a><br/><a href=\"https://www.ncbi.nlm.nih.gov/pmc/articles/PMC7157705/\" target=\"_blank\">Report from the American Society for Microbiology COVID-19 International Summit, 23 March 2020: Value of Diagnostic Testing for SARS–CoV-2/COVID-19</a><br/><a href=\"https://doi.org/10.1016/j.mjafi.2020.04.001\" target=\"_blank\">The missing pieces in the jigsaw and need for cohesive research amidst COVID 19 global response</a>"
      ],
      "text/plain": [
       "<IPython.core.display.HTML object>"
      ]
     },
     "metadata": {},
     "output_type": "display_data"
    },
    {
     "name": "stdout",
     "output_type": "stream",
     "text": [
      "Approaches for encouraging and facilitating the production of elastomeric respirators, which can save thousands of N95 masks.\n"
     ]
    },
    {
     "data": {
      "text/html": [
       "<a href=\"https://doi.org/10.1016/j.mehy.2020.109706\" target=\"_blank\">Correlation between atmospheric particulate matter and antibiotic resistance: A hypothesis</a><br/><a href=\"https://doi.org/10.1016/s2214-109x(20)30112-1\" target=\"_blank\">COVID-19: mitigating transmission via wastewater plumbing systems</a><br/><a href=\"https://arxiv.org/abs/2004.09354\" target=\"_blank\">The Flow Physics of COVID-19</a><br/><a href=\"https://doi.org/10.1016/j.bja.2020.04.062\" target=\"_blank\">Modified tracheal extubation for patients with COVID–19</a><br/><a href=\"https://doi.org/10.1101/2020.04.06.028688\" target=\"_blank\">Nonmedical Masks in Public for Respiratory Pandemics: Droplet Retention by Two-Layer Textile Barrier Fully Protects Germ-free Mice from Bacteria in Droplets</a>"
      ],
      "text/plain": [
       "<IPython.core.display.HTML object>"
      ]
     },
     "metadata": {},
     "output_type": "display_data"
    },
    {
     "name": "stdout",
     "output_type": "stream",
     "text": [
      "Best telemedicine practices, barriers and faciitators, and specific actions to remove/expand them within and across state boundaries.\n"
     ]
    },
    {
     "data": {
      "text/html": [
       "<a href=\"https://doi.org/10.1016/j.jtcvs.2020.04.044\" target=\"_blank\">Commentary: What We Should Know About Our Learners</a><br/><a href=\"https://doi.org/10.1016/s2214-109x(20)30103-0\" target=\"_blank\">A new vehicle to accelerate the UN Sustainable Development Goals</a><br/><a href=\"https://doi.org/10.1016/j.indmarman.2020.02.017\" target=\"_blank\">Teaching-practice as a critical bridge for narrowing the research-practice gap</a><br/><a href=\"https://doi.org/10.1016/s2214-109x(20)30138-8\" target=\"_blank\">The role of academia in an era of political turmoil</a><br/><a href=\"https://www.ncbi.nlm.nih.gov/pmc/articles/PMC7184142/\" target=\"_blank\">Continuity of Constitutional Government during a Pandemic: Considering the Concept in Canada's Emergency Management Act</a>"
      ],
      "text/plain": [
       "<IPython.core.display.HTML object>"
      ]
     },
     "metadata": {},
     "output_type": "display_data"
    },
    {
     "name": "stdout",
     "output_type": "stream",
     "text": [
      "Guidance on the simple things people can do at home to take care of sick people and manage disease.\n"
     ]
    },
    {
     "data": {
      "text/html": [
       "<a href=\"https://doi.org/10.1016/j.eururo.2020.04.045\" target=\"_blank\">Re: Ming-Chun Chan, Sharon E.K. Yeo, Yew-Lam Chong, Yee-Mun Lee. Stepping Forward: Urologists’ Efforts During the COVID-19 Outbreak in Singapore. Eur Urol. In press. http://dx.doi.org/10.1016/j.eururo.2020.03.004</a><br/><a href=\"https://doi.org/10.1016/j.jen.2020.04.003\" target=\"_blank\">Mental Wellbeing of Nursing Staff during the COVID-19 Outbreak: A Cultural Perspective</a><br/><a href=\"https://doi.org/10.1016/j.eururo.2020.03.029\" target=\"_blank\">COVID-19: Importance of the Awareness of the Clinical Syndrome by Urologists</a><br/><a href=\"https://doi.org/10.1016/j.psychres.2020.112952\" target=\"_blank\">Medical personnel, COVID-19 and emotional impact</a><br/><a href=\"https://doi.org/10.1016/s2468-2667(20)30079-7\" target=\"_blank\">Death in the era of the COVID-19 pandemic</a>"
      ],
      "text/plain": [
       "<IPython.core.display.HTML object>"
      ]
     },
     "metadata": {},
     "output_type": "display_data"
    },
    {
     "name": "stdout",
     "output_type": "stream",
     "text": [
      "Oral medications that might potentially work.\n"
     ]
    },
    {
     "data": {
      "text/html": [
       "<a href=\"https://doi.org/10.1016/j.phrs.2020.104837\" target=\"_blank\">Repurposing the mucolytic cough suppressant and TMPRSS2 protease inhibitor bromhexine for the prevention and management of SARS-CoV-2 infection</a><br/><a href=\"https://doi.org/10.1101/2020.03.12.20034793\" target=\"_blank\">Infrared assessment of human facial temperature in the presence and absence of common cosmetics</a><br/><a href=\"https://doi.org/10.1016/j.anai.2020.03.015\" target=\"_blank\">Food allergy 2020: learning from the past, looking to the future</a><br/><a href=\"https://doi.org/10.1016/j.psychres.2020.112921\" target=\"_blank\">Prevalence and predictors of PTSS during COVID-19 outbreak in China hardest-hit areas: Gender differences matter</a><br/><a href=\"https://doi.org/10.1101/2020.03.06.20031278\" target=\"_blank\">The Evaluation of Sleep Disturbances for Chinese Frontline Medical Workers under the Outbreak of COVID-19</a>"
      ],
      "text/plain": [
       "<IPython.core.display.HTML object>"
      ]
     },
     "metadata": {},
     "output_type": "display_data"
    },
    {
     "name": "stdout",
     "output_type": "stream",
     "text": [
      "Use of AI in real-time health care delivery to evaluate interventions, risk factors, and outcomes in a way that could not be done manually.\n"
     ]
    },
    {
     "data": {
      "text/html": [
       "<a href=\"https://doi.org/10.1016/j.eururo.2020.04.045\" target=\"_blank\">Re: Ming-Chun Chan, Sharon E.K. Yeo, Yew-Lam Chong, Yee-Mun Lee. Stepping Forward: Urologists’ Efforts During the COVID-19 Outbreak in Singapore. Eur Urol. In press. http://dx.doi.org/10.1016/j.eururo.2020.03.004</a><br/><a href=\"https://doi.org/10.1016/j.eururo.2020.03.029\" target=\"_blank\">COVID-19: Importance of the Awareness of the Clinical Syndrome by Urologists</a><br/><a href=\"https://doi.org/10.1016/j.jen.2020.04.003\" target=\"_blank\">Mental Wellbeing of Nursing Staff during the COVID-19 Outbreak: A Cultural Perspective</a><br/><a href=\"https://www.ncbi.nlm.nih.gov/pmc/articles/PMC7184141/\" target=\"_blank\">Protecting Chinese healthcare workers while combating the 2019 novel coronavirus</a><br/><a href=\"https://doi.org/10.1016/j.gie.2020.03.3855\" target=\"_blank\">Preventing the spread of COVID-19 in digestive endoscopy during the resuming period: meticulous execution of screening procedures</a>"
      ],
      "text/plain": [
       "<IPython.core.display.HTML object>"
      ]
     },
     "metadata": {},
     "output_type": "display_data"
    },
    {
     "name": "stdout",
     "output_type": "stream",
     "text": [
      "Best practices and critical challenges and innovative solutions and technologies in hospital flow and organization, workforce protection, workforce allocation, community-based support resources, payment, and supply chain management to enhance capacity, efficiency, and outcomes.\n"
     ]
    },
    {
     "data": {
      "text/html": [
       "<a href=\"https://doi.org/10.1016/s2214-109x(20)30103-0\" target=\"_blank\">A new vehicle to accelerate the UN Sustainable Development Goals</a><br/><a href=\"https://doi.org/10.1016/j.jtcvs.2020.04.044\" target=\"_blank\">Commentary: What We Should Know About Our Learners</a><br/><a href=\"https://doi.org/10.1016/j.indmarman.2020.02.017\" target=\"_blank\">Teaching-practice as a critical bridge for narrowing the research-practice gap</a><br/><a href=\"https://www.ncbi.nlm.nih.gov/pmc/articles/PMC7184142/\" target=\"_blank\">Continuity of Constitutional Government during a Pandemic: Considering the Concept in Canada's Emergency Management Act</a><br/><a href=\"https://doi.org/10.1016/s2214-109x(20)30138-8\" target=\"_blank\">The role of academia in an era of political turmoil</a>"
      ],
      "text/plain": [
       "<IPython.core.display.HTML object>"
      ]
     },
     "metadata": {},
     "output_type": "display_data"
    },
    {
     "name": "stdout",
     "output_type": "stream",
     "text": [
      "Efforts to define the natural history of disease to inform clinical care, public health interventions, infection prevention control, transmission, and clinical trials\n"
     ]
    },
    {
     "data": {
      "text/html": [
       "<a href=\"https://www.ncbi.nlm.nih.gov/pmc/articles/PMC7176267/\" target=\"_blank\">The looming pandemic of COVID-19: What therapeutic options do we have now?</a><br/><a href=\"https://doi.org/10.1016/s0140-6736(20)30561-4\" target=\"_blank\">Preparedness is essential for malaria-endemic regions during the COVID-19 pandemic</a><br/><a href=\"https://www.ncbi.nlm.nih.gov/pmc/articles/PMC7141586/\" target=\"_blank\">Coronavirus Disease 2019 (COVID-19) and Pregnancy: Responding to a Rapidly Evolving Situation</a><br/><a href=\"https://doi.org/10.1016/s1473-3099(20)30152-3\" target=\"_blank\">Taking the right measures to control COVID-19</a><br/><a href=\"https://www.ncbi.nlm.nih.gov/pmc/articles/PMC7081174/\" target=\"_blank\">Managing Emerging Infectious Diseases: Should Travel Be the Fifth Vital Sign?</a>"
      ],
      "text/plain": [
       "<IPython.core.display.HTML object>"
      ]
     },
     "metadata": {},
     "output_type": "display_data"
    },
    {
     "name": "stdout",
     "output_type": "stream",
     "text": [
      "Efforts to develop a core clinical outcome set to maximize usability of data across a range of trials\n"
     ]
    },
    {
     "ename": "TypeError",
     "evalue": "must be str, not float",
     "output_type": "error",
     "traceback": [
      "\u001b[0;31m---------------------------------------------------------------------------\u001b[0m",
      "\u001b[0;31mTypeError\u001b[0m                                 Traceback (most recent call last)",
      "\u001b[0;32m<ipython-input-49-1b5528f1afec>\u001b[0m in \u001b[0;36m<module>\u001b[0;34m\u001b[0m\n\u001b[0;32m----> 1\u001b[0;31m \u001b[0mrelevant_articles\u001b[0m\u001b[0;34m(\u001b[0m\u001b[0mtask8\u001b[0m\u001b[0;34m,\u001b[0m \u001b[0;36m5\u001b[0m\u001b[0;34m,\u001b[0m \u001b[0monly_covid19\u001b[0m\u001b[0;34m=\u001b[0m\u001b[0;32mTrue\u001b[0m\u001b[0;34m)\u001b[0m\u001b[0;34m\u001b[0m\u001b[0m\n\u001b[0m",
      "\u001b[0;32m<ipython-input-41-04f97e92991b>\u001b[0m in \u001b[0;36mrelevant_articles\u001b[0;34m(tasks, k, lower, upper, only_covid19)\u001b[0m\n\u001b[1;32m     10\u001b[0m         \u001b[0mrecommended\u001b[0m \u001b[0;34m=\u001b[0m \u001b[0mdf\u001b[0m\u001b[0;34m.\u001b[0m\u001b[0miloc\u001b[0m\u001b[0;34m[\u001b[0m\u001b[0mrecommended\u001b[0m\u001b[0;34m]\u001b[0m\u001b[0;34m\u001b[0m\u001b[0m\n\u001b[1;32m     11\u001b[0m \u001b[0;34m\u001b[0m\u001b[0m\n\u001b[0;32m---> 12\u001b[0;31m         \u001b[0mh\u001b[0m \u001b[0;34m=\u001b[0m \u001b[0;34m'<br/>'\u001b[0m\u001b[0;34m.\u001b[0m\u001b[0mjoin\u001b[0m\u001b[0;34m(\u001b[0m\u001b[0;34m[\u001b[0m\u001b[0;34m'<a href=\"'\u001b[0m \u001b[0;34m+\u001b[0m \u001b[0ml\u001b[0m \u001b[0;34m+\u001b[0m \u001b[0;34m'\" target=\"_blank\">'\u001b[0m\u001b[0;34m+\u001b[0m \u001b[0mn\u001b[0m \u001b[0;34m+\u001b[0m \u001b[0;34m'</a>'\u001b[0m \u001b[0;32mfor\u001b[0m \u001b[0ml\u001b[0m\u001b[0;34m,\u001b[0m \u001b[0mn\u001b[0m \u001b[0;32min\u001b[0m \u001b[0mrecommended\u001b[0m\u001b[0;34m[\u001b[0m\u001b[0;34m[\u001b[0m\u001b[0;34m'url'\u001b[0m\u001b[0;34m,\u001b[0m\u001b[0;34m'title'\u001b[0m\u001b[0;34m]\u001b[0m\u001b[0;34m]\u001b[0m\u001b[0;34m.\u001b[0m\u001b[0mvalues\u001b[0m\u001b[0;34m]\u001b[0m\u001b[0;34m)\u001b[0m\u001b[0;34m\u001b[0m\u001b[0m\n\u001b[0m\u001b[1;32m     13\u001b[0m         \u001b[0mdisplay\u001b[0m\u001b[0;34m(\u001b[0m\u001b[0mHTML\u001b[0m\u001b[0;34m(\u001b[0m\u001b[0mh\u001b[0m\u001b[0;34m)\u001b[0m\u001b[0;34m)\u001b[0m\u001b[0;34m\u001b[0m\u001b[0m\n",
      "\u001b[0;32m<ipython-input-41-04f97e92991b>\u001b[0m in \u001b[0;36m<listcomp>\u001b[0;34m(.0)\u001b[0m\n\u001b[1;32m     10\u001b[0m         \u001b[0mrecommended\u001b[0m \u001b[0;34m=\u001b[0m \u001b[0mdf\u001b[0m\u001b[0;34m.\u001b[0m\u001b[0miloc\u001b[0m\u001b[0;34m[\u001b[0m\u001b[0mrecommended\u001b[0m\u001b[0;34m]\u001b[0m\u001b[0;34m\u001b[0m\u001b[0m\n\u001b[1;32m     11\u001b[0m \u001b[0;34m\u001b[0m\u001b[0m\n\u001b[0;32m---> 12\u001b[0;31m         \u001b[0mh\u001b[0m \u001b[0;34m=\u001b[0m \u001b[0;34m'<br/>'\u001b[0m\u001b[0;34m.\u001b[0m\u001b[0mjoin\u001b[0m\u001b[0;34m(\u001b[0m\u001b[0;34m[\u001b[0m\u001b[0;34m'<a href=\"'\u001b[0m \u001b[0;34m+\u001b[0m \u001b[0ml\u001b[0m \u001b[0;34m+\u001b[0m \u001b[0;34m'\" target=\"_blank\">'\u001b[0m\u001b[0;34m+\u001b[0m \u001b[0mn\u001b[0m \u001b[0;34m+\u001b[0m \u001b[0;34m'</a>'\u001b[0m \u001b[0;32mfor\u001b[0m \u001b[0ml\u001b[0m\u001b[0;34m,\u001b[0m \u001b[0mn\u001b[0m \u001b[0;32min\u001b[0m \u001b[0mrecommended\u001b[0m\u001b[0;34m[\u001b[0m\u001b[0;34m[\u001b[0m\u001b[0;34m'url'\u001b[0m\u001b[0;34m,\u001b[0m\u001b[0;34m'title'\u001b[0m\u001b[0;34m]\u001b[0m\u001b[0;34m]\u001b[0m\u001b[0;34m.\u001b[0m\u001b[0mvalues\u001b[0m\u001b[0;34m]\u001b[0m\u001b[0;34m)\u001b[0m\u001b[0;34m\u001b[0m\u001b[0m\n\u001b[0m\u001b[1;32m     13\u001b[0m         \u001b[0mdisplay\u001b[0m\u001b[0;34m(\u001b[0m\u001b[0mHTML\u001b[0m\u001b[0;34m(\u001b[0m\u001b[0mh\u001b[0m\u001b[0;34m)\u001b[0m\u001b[0;34m)\u001b[0m\u001b[0;34m\u001b[0m\u001b[0m\n",
      "\u001b[0;31mTypeError\u001b[0m: must be str, not float"
     ]
    }
   ],
   "source": [
    "relevant_articles(task8, 5, only_covid19=True)"
   ]
  },
  {
   "cell_type": "markdown",
   "metadata": {},
   "source": [
    "## What has been published about information sharing and inter-sectoral collaboration?"
   ]
  },
  {
   "cell_type": "code",
   "execution_count": 50,
   "metadata": {
    "_kg_hide-output": true
   },
   "outputs": [
    {
     "name": "stdout",
     "output_type": "stream",
     "text": [
      "Methods for coordinating data-gathering with standardized nomenclature.\n"
     ]
    },
    {
     "ename": "TypeError",
     "evalue": "must be str, not float",
     "output_type": "error",
     "traceback": [
      "\u001b[0;31m---------------------------------------------------------------------------\u001b[0m",
      "\u001b[0;31mTypeError\u001b[0m                                 Traceback (most recent call last)",
      "\u001b[0;32m<ipython-input-50-841ae7666af6>\u001b[0m in \u001b[0;36m<module>\u001b[0;34m\u001b[0m\n\u001b[0;32m----> 1\u001b[0;31m \u001b[0mrelevant_articles\u001b[0m\u001b[0;34m(\u001b[0m\u001b[0mtask9\u001b[0m\u001b[0;34m,\u001b[0m \u001b[0;36m5\u001b[0m\u001b[0;34m,\u001b[0m \u001b[0monly_covid19\u001b[0m\u001b[0;34m=\u001b[0m\u001b[0;32mTrue\u001b[0m\u001b[0;34m)\u001b[0m\u001b[0;34m\u001b[0m\u001b[0m\n\u001b[0m",
      "\u001b[0;32m<ipython-input-41-04f97e92991b>\u001b[0m in \u001b[0;36mrelevant_articles\u001b[0;34m(tasks, k, lower, upper, only_covid19)\u001b[0m\n\u001b[1;32m     10\u001b[0m         \u001b[0mrecommended\u001b[0m \u001b[0;34m=\u001b[0m \u001b[0mdf\u001b[0m\u001b[0;34m.\u001b[0m\u001b[0miloc\u001b[0m\u001b[0;34m[\u001b[0m\u001b[0mrecommended\u001b[0m\u001b[0;34m]\u001b[0m\u001b[0;34m\u001b[0m\u001b[0m\n\u001b[1;32m     11\u001b[0m \u001b[0;34m\u001b[0m\u001b[0m\n\u001b[0;32m---> 12\u001b[0;31m         \u001b[0mh\u001b[0m \u001b[0;34m=\u001b[0m \u001b[0;34m'<br/>'\u001b[0m\u001b[0;34m.\u001b[0m\u001b[0mjoin\u001b[0m\u001b[0;34m(\u001b[0m\u001b[0;34m[\u001b[0m\u001b[0;34m'<a href=\"'\u001b[0m \u001b[0;34m+\u001b[0m \u001b[0ml\u001b[0m \u001b[0;34m+\u001b[0m \u001b[0;34m'\" target=\"_blank\">'\u001b[0m\u001b[0;34m+\u001b[0m \u001b[0mn\u001b[0m \u001b[0;34m+\u001b[0m \u001b[0;34m'</a>'\u001b[0m \u001b[0;32mfor\u001b[0m \u001b[0ml\u001b[0m\u001b[0;34m,\u001b[0m \u001b[0mn\u001b[0m \u001b[0;32min\u001b[0m \u001b[0mrecommended\u001b[0m\u001b[0;34m[\u001b[0m\u001b[0;34m[\u001b[0m\u001b[0;34m'url'\u001b[0m\u001b[0;34m,\u001b[0m\u001b[0;34m'title'\u001b[0m\u001b[0;34m]\u001b[0m\u001b[0;34m]\u001b[0m\u001b[0;34m.\u001b[0m\u001b[0mvalues\u001b[0m\u001b[0;34m]\u001b[0m\u001b[0;34m)\u001b[0m\u001b[0;34m\u001b[0m\u001b[0m\n\u001b[0m\u001b[1;32m     13\u001b[0m         \u001b[0mdisplay\u001b[0m\u001b[0;34m(\u001b[0m\u001b[0mHTML\u001b[0m\u001b[0;34m(\u001b[0m\u001b[0mh\u001b[0m\u001b[0;34m)\u001b[0m\u001b[0;34m)\u001b[0m\u001b[0;34m\u001b[0m\u001b[0m\n",
      "\u001b[0;32m<ipython-input-41-04f97e92991b>\u001b[0m in \u001b[0;36m<listcomp>\u001b[0;34m(.0)\u001b[0m\n\u001b[1;32m     10\u001b[0m         \u001b[0mrecommended\u001b[0m \u001b[0;34m=\u001b[0m \u001b[0mdf\u001b[0m\u001b[0;34m.\u001b[0m\u001b[0miloc\u001b[0m\u001b[0;34m[\u001b[0m\u001b[0mrecommended\u001b[0m\u001b[0;34m]\u001b[0m\u001b[0;34m\u001b[0m\u001b[0m\n\u001b[1;32m     11\u001b[0m \u001b[0;34m\u001b[0m\u001b[0m\n\u001b[0;32m---> 12\u001b[0;31m         \u001b[0mh\u001b[0m \u001b[0;34m=\u001b[0m \u001b[0;34m'<br/>'\u001b[0m\u001b[0;34m.\u001b[0m\u001b[0mjoin\u001b[0m\u001b[0;34m(\u001b[0m\u001b[0;34m[\u001b[0m\u001b[0;34m'<a href=\"'\u001b[0m \u001b[0;34m+\u001b[0m \u001b[0ml\u001b[0m \u001b[0;34m+\u001b[0m \u001b[0;34m'\" target=\"_blank\">'\u001b[0m\u001b[0;34m+\u001b[0m \u001b[0mn\u001b[0m \u001b[0;34m+\u001b[0m \u001b[0;34m'</a>'\u001b[0m \u001b[0;32mfor\u001b[0m \u001b[0ml\u001b[0m\u001b[0;34m,\u001b[0m \u001b[0mn\u001b[0m \u001b[0;32min\u001b[0m \u001b[0mrecommended\u001b[0m\u001b[0;34m[\u001b[0m\u001b[0;34m[\u001b[0m\u001b[0;34m'url'\u001b[0m\u001b[0;34m,\u001b[0m\u001b[0;34m'title'\u001b[0m\u001b[0;34m]\u001b[0m\u001b[0;34m]\u001b[0m\u001b[0;34m.\u001b[0m\u001b[0mvalues\u001b[0m\u001b[0;34m]\u001b[0m\u001b[0;34m)\u001b[0m\u001b[0;34m\u001b[0m\u001b[0m\n\u001b[0m\u001b[1;32m     13\u001b[0m         \u001b[0mdisplay\u001b[0m\u001b[0;34m(\u001b[0m\u001b[0mHTML\u001b[0m\u001b[0;34m(\u001b[0m\u001b[0mh\u001b[0m\u001b[0;34m)\u001b[0m\u001b[0;34m)\u001b[0m\u001b[0;34m\u001b[0m\u001b[0m\n",
      "\u001b[0;31mTypeError\u001b[0m: must be str, not float"
     ]
    }
   ],
   "source": [
    "relevant_articles(task9, 5, only_covid19=True)"
   ]
  },
  {
   "cell_type": "markdown",
   "metadata": {},
   "source": [
    "# Widget: Pick a Task"
   ]
  },
  {
   "cell_type": "markdown",
   "metadata": {},
   "source": [
    "Here you can easily pick a bullet point of one of the tasks and see some related articles."
   ]
  },
  {
   "cell_type": "code",
   "execution_count": 51,
   "metadata": {
    "_kg_hide-input": true,
    "_kg_hide-output": true
   },
   "outputs": [],
   "source": [
    "def relevant_articles_for_task():\n",
    "    def main_function(bullet, task, k=5, year_range=[1950, 2020], only_covid19=False):\n",
    "        relevant_articles([bullet], k, lower=year_range[0], upper=year_range[1], only_covid19=only_covid19)\n",
    "        bulletW.options = tasks[task]    \n",
    "\n",
    "    yearW = widgets.IntRangeSlider(min=1950, max=2020, value=[2010, 2020], description='Year Range', \n",
    "                                   continuous_update=False, layout=Layout(width='40%'))\n",
    "    covidW = widgets.Checkbox(value=True,description='Only COVID-19-Papers',disabled=False, indent=False, layout=Layout(width='20%'))\n",
    "    kWidget = widgets.IntSlider(value=10, description='k', max=50, min=1, layout=Layout(width='30%'))\n",
    "\n",
    "    taskW = widgets.Dropdown(options=tasks.keys(), layout=Layout(width='90%', height='50px'), description='Task:')\n",
    "    init = taskW.value\n",
    "    bulletW = widgets.Select(options=tasks[init], layout=Layout(width='90%', height='200px'), description='Bullet Point:')\n",
    "\n",
    "    widget = widgets.interactive(main_function, task=taskW, bullet=bulletW, k=kWidget, year_range=yearW, only_covid19=covidW)\n",
    "    \n",
    "    controls = VBox([HBox([widget.children[2], widget.children[3], widget.children[4]], layout=Layout(width='90%', justify_content='space-around')),\n",
    "                     widget.children[1],\n",
    "                     widget.children[0]], layout=Layout(align_items='center'))\n",
    "    \n",
    "    output = widget.children[-1]\n",
    "    display(VBox([controls, output]))"
   ]
  },
  {
   "cell_type": "code",
   "execution_count": 52,
   "metadata": {
    "_kg_hide-input": true
   },
   "outputs": [
    {
     "data": {
      "application/vnd.jupyter.widget-view+json": {
       "model_id": "069fd52eab98443998a22748bd0f7b7b",
       "version_major": 2,
       "version_minor": 0
      },
      "text/plain": [
       "VBox(children=(VBox(children=(HBox(children=(IntSlider(value=10, description='k', layout=Layout(width='30%'), …"
      ]
     },
     "metadata": {},
     "output_type": "display_data"
    }
   ],
   "source": [
    "relevant_articles_for_task()"
   ]
  },
  {
   "cell_type": "markdown",
   "metadata": {},
   "source": [
    "# Widget: Free Text Search"
   ]
  },
  {
   "cell_type": "markdown",
   "metadata": {},
   "source": [
    "In this widget you can insert any kind of text (abstract, paragraph, full text, keywords, questions, ...) and find related articles."
   ]
  },
  {
   "cell_type": "code",
   "execution_count": 53,
   "metadata": {
    "_kg_hide-input": true,
    "_kg_hide-output": true
   },
   "outputs": [],
   "source": [
    "def relevant_articles_for_text():    \n",
    "    textW = widgets.Textarea(\n",
    "        value='',\n",
    "        placeholder='Type something',\n",
    "        description='',\n",
    "        disabled=False,\n",
    "        layout=Layout(width='90%', height='200px')\n",
    "    )\n",
    "\n",
    "    yearW = widgets.IntRangeSlider(min=1950, max=2020, value=[2010, 2020], description='Year Range', \n",
    "                               continuous_update=False, layout=Layout(width='40%'))\n",
    "    covidW = widgets.Checkbox(value=True,description='Only COVID-19-Papers',disabled=False, indent=False, layout=Layout(width='25%'))\n",
    "    kWidget = widgets.IntSlider(value=10, description='k', max=50, min=1, layout=Layout(width='25%'))\n",
    "\n",
    "    button = widgets.Button(description=\"Search\")\n",
    "\n",
    "    display(VBox([HBox([kWidget, yearW, covidW], layout=Layout(width='90%', justify_content='space-around')),\n",
    "        textW, button], layout=Layout(align_items='center')))\n",
    "\n",
    "    def on_button_clicked(b):\n",
    "        clear_output()\n",
    "        display(VBox([HBox([kWidget, yearW, covidW], layout=Layout(width='90%', justify_content='space-around')),\n",
    "            textW, button], layout=Layout(align_items='center')))        \n",
    "        relevant_articles(textW.value, kWidget.value, yearW.value[0], yearW.value[1], covidW.value)\n",
    "\n",
    "    button.on_click(on_button_clicked)"
   ]
  },
  {
   "cell_type": "code",
   "execution_count": 54,
   "metadata": {
    "_kg_hide-input": true
   },
   "outputs": [
    {
     "data": {
      "application/vnd.jupyter.widget-view+json": {
       "model_id": "6b9f28cdd9a04fb2b112a474f80cb58f",
       "version_major": 2,
       "version_minor": 0
      },
      "text/plain": [
       "VBox(children=(HBox(children=(IntSlider(value=10, description='k', layout=Layout(width='25%'), max=50, min=1),…"
      ]
     },
     "metadata": {},
     "output_type": "display_data"
    }
   ],
   "source": [
    "relevant_articles_for_text()"
   ]
  }
 ],
 "metadata": {
  "kernelspec": {
   "display_name": "Python 3",
   "language": "python",
   "name": "python3"
  },
  "language_info": {
   "codemirror_mode": {
    "name": "ipython",
    "version": 3
   },
   "file_extension": ".py",
   "mimetype": "text/x-python",
   "name": "python",
   "nbconvert_exporter": "python",
   "pygments_lexer": "ipython3",
   "version": "3.7.3"
  },
  "widgets": {
   "application/vnd.jupyter.widget-state+json": {
    "state": {
     "00ebd46acaa84948979393e9c060b6ee": {
      "model_module": "@jupyter-widgets/base",
      "model_module_version": "1.2.0",
      "model_name": "LayoutModel",
      "state": {
       "_model_module": "@jupyter-widgets/base",
       "_model_module_version": "1.2.0",
       "_model_name": "LayoutModel",
       "_view_count": null,
       "_view_module": "@jupyter-widgets/base",
       "_view_module_version": "1.2.0",
       "_view_name": "LayoutView",
       "align_content": null,
       "align_items": null,
       "align_self": null,
       "border": null,
       "bottom": null,
       "display": null,
       "flex": null,
       "flex_flow": null,
       "grid_area": null,
       "grid_auto_columns": null,
       "grid_auto_flow": null,
       "grid_auto_rows": null,
       "grid_column": null,
       "grid_gap": null,
       "grid_row": null,
       "grid_template_areas": null,
       "grid_template_columns": null,
       "grid_template_rows": null,
       "height": null,
       "justify_content": null,
       "justify_items": null,
       "left": null,
       "margin": null,
       "max_height": null,
       "max_width": null,
       "min_height": null,
       "min_width": null,
       "object_fit": null,
       "object_position": null,
       "order": null,
       "overflow": null,
       "overflow_x": null,
       "overflow_y": null,
       "padding": null,
       "right": null,
       "top": null,
       "visibility": null,
       "width": null
      }
     },
     "032944a795204d35b0dcfa0cec71db93": {
      "model_module": "@jupyter-widgets/controls",
      "model_module_version": "1.5.0",
      "model_name": "IntRangeSliderModel",
      "state": {
       "_dom_classes": [],
       "_model_module": "@jupyter-widgets/controls",
       "_model_module_version": "1.5.0",
       "_model_name": "IntRangeSliderModel",
       "_view_count": null,
       "_view_module": "@jupyter-widgets/controls",
       "_view_module_version": "1.5.0",
       "_view_name": "IntRangeSliderView",
       "continuous_update": false,
       "description": "Year Range",
       "description_tooltip": null,
       "disabled": false,
       "layout": "IPY_MODEL_d5a26fc999a94b168bb91a8e8901868b",
       "max": 2020,
       "min": 1950,
       "orientation": "horizontal",
       "readout": true,
       "readout_format": "d",
       "step": 1,
       "style": "IPY_MODEL_8caef5ee06144069aee630b4dc41a0cc",
       "value": [
        2010,
        2020
       ]
      }
     },
     "03b91377995448eea9e8b9959a953497": {
      "model_module": "@jupyter-widgets/base",
      "model_module_version": "1.2.0",
      "model_name": "LayoutModel",
      "state": {
       "_model_module": "@jupyter-widgets/base",
       "_model_module_version": "1.2.0",
       "_model_name": "LayoutModel",
       "_view_count": null,
       "_view_module": "@jupyter-widgets/base",
       "_view_module_version": "1.2.0",
       "_view_name": "LayoutView",
       "align_content": null,
       "align_items": null,
       "align_self": null,
       "border": null,
       "bottom": null,
       "display": null,
       "flex": null,
       "flex_flow": null,
       "grid_area": null,
       "grid_auto_columns": null,
       "grid_auto_flow": null,
       "grid_auto_rows": null,
       "grid_column": null,
       "grid_gap": null,
       "grid_row": null,
       "grid_template_areas": null,
       "grid_template_columns": null,
       "grid_template_rows": null,
       "height": null,
       "justify_content": null,
       "justify_items": null,
       "left": null,
       "margin": null,
       "max_height": null,
       "max_width": null,
       "min_height": null,
       "min_width": null,
       "object_fit": null,
       "object_position": null,
       "order": null,
       "overflow": null,
       "overflow_x": null,
       "overflow_y": null,
       "padding": null,
       "right": null,
       "top": null,
       "visibility": null,
       "width": "20%"
      }
     },
     "04b6df61b77d4e49bac0b35bd32317a9": {
      "model_module": "@jupyter-widgets/controls",
      "model_module_version": "1.5.0",
      "model_name": "DescriptionStyleModel",
      "state": {
       "_model_module": "@jupyter-widgets/controls",
       "_model_module_version": "1.5.0",
       "_model_name": "DescriptionStyleModel",
       "_view_count": null,
       "_view_module": "@jupyter-widgets/base",
       "_view_module_version": "1.2.0",
       "_view_name": "StyleView",
       "description_width": ""
      }
     },
     "069fd52eab98443998a22748bd0f7b7b": {
      "model_module": "@jupyter-widgets/controls",
      "model_module_version": "1.5.0",
      "model_name": "VBoxModel",
      "state": {
       "_dom_classes": [],
       "_model_module": "@jupyter-widgets/controls",
       "_model_module_version": "1.5.0",
       "_model_name": "VBoxModel",
       "_view_count": null,
       "_view_module": "@jupyter-widgets/controls",
       "_view_module_version": "1.5.0",
       "_view_name": "VBoxView",
       "box_style": "",
       "children": [
        "IPY_MODEL_e55e793ebe74473bb5f341dfc37a3af0",
        "IPY_MODEL_93ff9b235918421ebd4f604667ac83b3"
       ],
       "layout": "IPY_MODEL_9471b669d78a4bf29f62cb0e95f89b2e"
      }
     },
     "12eac17e9bba4c588b17f48d2d85607b": {
      "model_module": "@jupyter-widgets/controls",
      "model_module_version": "1.5.0",
      "model_name": "IntRangeSliderModel",
      "state": {
       "_dom_classes": [],
       "_model_module": "@jupyter-widgets/controls",
       "_model_module_version": "1.5.0",
       "_model_name": "IntRangeSliderModel",
       "_view_count": null,
       "_view_module": "@jupyter-widgets/controls",
       "_view_module_version": "1.5.0",
       "_view_name": "IntRangeSliderView",
       "continuous_update": false,
       "description": "Year Range",
       "description_tooltip": null,
       "disabled": false,
       "layout": "IPY_MODEL_90a81225d57c4dec91a5b192c7a245a6",
       "max": 2020,
       "min": 1950,
       "orientation": "horizontal",
       "readout": true,
       "readout_format": "d",
       "step": 1,
       "style": "IPY_MODEL_f87966f790d343678f713ed8a7e64f6b",
       "value": [
        2010,
        2020
       ]
      }
     },
     "131835262bd54ef48f166c1f2003fb2e": {
      "model_module": "@jupyter-widgets/base",
      "model_module_version": "1.2.0",
      "model_name": "LayoutModel",
      "state": {
       "_model_module": "@jupyter-widgets/base",
       "_model_module_version": "1.2.0",
       "_model_name": "LayoutModel",
       "_view_count": null,
       "_view_module": "@jupyter-widgets/base",
       "_view_module_version": "1.2.0",
       "_view_name": "LayoutView",
       "align_content": null,
       "align_items": null,
       "align_self": null,
       "border": null,
       "bottom": null,
       "display": null,
       "flex": null,
       "flex_flow": null,
       "grid_area": null,
       "grid_auto_columns": null,
       "grid_auto_flow": null,
       "grid_auto_rows": null,
       "grid_column": null,
       "grid_gap": null,
       "grid_row": null,
       "grid_template_areas": null,
       "grid_template_columns": null,
       "grid_template_rows": null,
       "height": null,
       "justify_content": null,
       "justify_items": null,
       "left": null,
       "margin": null,
       "max_height": null,
       "max_width": null,
       "min_height": null,
       "min_width": null,
       "object_fit": null,
       "object_position": null,
       "order": null,
       "overflow": null,
       "overflow_x": null,
       "overflow_y": null,
       "padding": null,
       "right": null,
       "top": null,
       "visibility": null,
       "width": null
      }
     },
     "14b483ae39b74d26925ddce9df86d72f": {
      "model_module": "@jupyter-widgets/output",
      "model_module_version": "1.0.0",
      "model_name": "OutputModel",
      "state": {
       "_dom_classes": [],
       "_model_module": "@jupyter-widgets/output",
       "_model_module_version": "1.0.0",
       "_model_name": "OutputModel",
       "_view_count": null,
       "_view_module": "@jupyter-widgets/output",
       "_view_module_version": "1.0.0",
       "_view_name": "OutputView",
       "layout": "IPY_MODEL_1931482e6fdd48be84f2c433019fbadc",
       "msg_id": "",
       "outputs": []
      }
     },
     "15889e0bbc624e1a87c8c1afb5abeb66": {
      "model_module": "@jupyter-widgets/base",
      "model_module_version": "1.2.0",
      "model_name": "LayoutModel",
      "state": {
       "_model_module": "@jupyter-widgets/base",
       "_model_module_version": "1.2.0",
       "_model_name": "LayoutModel",
       "_view_count": null,
       "_view_module": "@jupyter-widgets/base",
       "_view_module_version": "1.2.0",
       "_view_name": "LayoutView",
       "align_content": null,
       "align_items": null,
       "align_self": null,
       "border": null,
       "bottom": null,
       "display": null,
       "flex": null,
       "flex_flow": null,
       "grid_area": null,
       "grid_auto_columns": null,
       "grid_auto_flow": null,
       "grid_auto_rows": null,
       "grid_column": null,
       "grid_gap": null,
       "grid_row": null,
       "grid_template_areas": null,
       "grid_template_columns": null,
       "grid_template_rows": null,
       "height": null,
       "justify_content": null,
       "justify_items": null,
       "left": null,
       "margin": null,
       "max_height": null,
       "max_width": null,
       "min_height": null,
       "min_width": null,
       "object_fit": null,
       "object_position": null,
       "order": null,
       "overflow": null,
       "overflow_x": null,
       "overflow_y": null,
       "padding": null,
       "right": null,
       "top": null,
       "visibility": null,
       "width": "25%"
      }
     },
     "1931482e6fdd48be84f2c433019fbadc": {
      "model_module": "@jupyter-widgets/base",
      "model_module_version": "1.2.0",
      "model_name": "LayoutModel",
      "state": {
       "_model_module": "@jupyter-widgets/base",
       "_model_module_version": "1.2.0",
       "_model_name": "LayoutModel",
       "_view_count": null,
       "_view_module": "@jupyter-widgets/base",
       "_view_module_version": "1.2.0",
       "_view_name": "LayoutView",
       "align_content": null,
       "align_items": null,
       "align_self": null,
       "border": null,
       "bottom": null,
       "display": null,
       "flex": null,
       "flex_flow": null,
       "grid_area": null,
       "grid_auto_columns": null,
       "grid_auto_flow": null,
       "grid_auto_rows": null,
       "grid_column": null,
       "grid_gap": null,
       "grid_row": null,
       "grid_template_areas": null,
       "grid_template_columns": null,
       "grid_template_rows": null,
       "height": null,
       "justify_content": null,
       "justify_items": null,
       "left": null,
       "margin": null,
       "max_height": null,
       "max_width": null,
       "min_height": null,
       "min_width": null,
       "object_fit": null,
       "object_position": null,
       "order": null,
       "overflow": null,
       "overflow_x": null,
       "overflow_y": null,
       "padding": null,
       "right": null,
       "top": null,
       "visibility": null,
       "width": null
      }
     },
     "194013b03a9f4ba2887b8a01464a17c8": {
      "model_module": "@jupyter-widgets/base",
      "model_module_version": "1.2.0",
      "model_name": "LayoutModel",
      "state": {
       "_model_module": "@jupyter-widgets/base",
       "_model_module_version": "1.2.0",
       "_model_name": "LayoutModel",
       "_view_count": null,
       "_view_module": "@jupyter-widgets/base",
       "_view_module_version": "1.2.0",
       "_view_name": "LayoutView",
       "align_content": null,
       "align_items": null,
       "align_self": null,
       "border": null,
       "bottom": null,
       "display": null,
       "flex": null,
       "flex_flow": null,
       "grid_area": null,
       "grid_auto_columns": null,
       "grid_auto_flow": null,
       "grid_auto_rows": null,
       "grid_column": null,
       "grid_gap": null,
       "grid_row": null,
       "grid_template_areas": null,
       "grid_template_columns": null,
       "grid_template_rows": null,
       "height": null,
       "justify_content": null,
       "justify_items": null,
       "left": null,
       "margin": null,
       "max_height": null,
       "max_width": null,
       "min_height": null,
       "min_width": null,
       "object_fit": null,
       "object_position": null,
       "order": null,
       "overflow": null,
       "overflow_x": null,
       "overflow_y": null,
       "padding": null,
       "right": null,
       "top": null,
       "visibility": null,
       "width": null
      }
     },
     "1bc6ca870dc44474aa2345e432a13085": {
      "model_module": "@jupyter-widgets/base",
      "model_module_version": "1.2.0",
      "model_name": "LayoutModel",
      "state": {
       "_model_module": "@jupyter-widgets/base",
       "_model_module_version": "1.2.0",
       "_model_name": "LayoutModel",
       "_view_count": null,
       "_view_module": "@jupyter-widgets/base",
       "_view_module_version": "1.2.0",
       "_view_name": "LayoutView",
       "align_content": null,
       "align_items": null,
       "align_self": null,
       "border": null,
       "bottom": null,
       "display": null,
       "flex": null,
       "flex_flow": null,
       "grid_area": null,
       "grid_auto_columns": null,
       "grid_auto_flow": null,
       "grid_auto_rows": null,
       "grid_column": null,
       "grid_gap": null,
       "grid_row": null,
       "grid_template_areas": null,
       "grid_template_columns": null,
       "grid_template_rows": null,
       "height": null,
       "justify_content": null,
       "justify_items": null,
       "left": null,
       "margin": null,
       "max_height": null,
       "max_width": null,
       "min_height": null,
       "min_width": null,
       "object_fit": null,
       "object_position": null,
       "order": null,
       "overflow": null,
       "overflow_x": null,
       "overflow_y": null,
       "padding": null,
       "right": null,
       "top": null,
       "visibility": null,
       "width": null
      }
     },
     "1c35ff3f15814f5c8c08b56c662905f2": {
      "model_module": "@jupyter-widgets/base",
      "model_module_version": "1.2.0",
      "model_name": "LayoutModel",
      "state": {
       "_model_module": "@jupyter-widgets/base",
       "_model_module_version": "1.2.0",
       "_model_name": "LayoutModel",
       "_view_count": null,
       "_view_module": "@jupyter-widgets/base",
       "_view_module_version": "1.2.0",
       "_view_name": "LayoutView",
       "align_content": null,
       "align_items": null,
       "align_self": null,
       "border": null,
       "bottom": null,
       "display": null,
       "flex": null,
       "flex_flow": null,
       "grid_area": null,
       "grid_auto_columns": null,
       "grid_auto_flow": null,
       "grid_auto_rows": null,
       "grid_column": null,
       "grid_gap": null,
       "grid_row": null,
       "grid_template_areas": null,
       "grid_template_columns": null,
       "grid_template_rows": null,
       "height": null,
       "justify_content": null,
       "justify_items": null,
       "left": null,
       "margin": null,
       "max_height": null,
       "max_width": null,
       "min_height": null,
       "min_width": null,
       "object_fit": null,
       "object_position": null,
       "order": null,
       "overflow": null,
       "overflow_x": null,
       "overflow_y": null,
       "padding": null,
       "right": null,
       "top": null,
       "visibility": null,
       "width": null
      }
     },
     "1c6230937ed0472abb192b95f1b838c4": {
      "model_module": "@jupyter-widgets/controls",
      "model_module_version": "1.5.0",
      "model_name": "HBoxModel",
      "state": {
       "_dom_classes": [],
       "_model_module": "@jupyter-widgets/controls",
       "_model_module_version": "1.5.0",
       "_model_name": "HBoxModel",
       "_view_count": null,
       "_view_module": "@jupyter-widgets/controls",
       "_view_module_version": "1.5.0",
       "_view_name": "HBoxView",
       "box_style": "",
       "children": [
        "IPY_MODEL_67c84bb39ec945c2b6405e805ecfb761",
        "IPY_MODEL_12eac17e9bba4c588b17f48d2d85607b",
        "IPY_MODEL_cd180f0f8f2947e188d8b8fc8e006188"
       ],
       "layout": "IPY_MODEL_22f727465e934852bd7b549e94648a70"
      }
     },
     "1e73acb273bf4c84bb63d6fac0d71668": {
      "model_module": "@jupyter-widgets/controls",
      "model_module_version": "1.5.0",
      "model_name": "DescriptionStyleModel",
      "state": {
       "_model_module": "@jupyter-widgets/controls",
       "_model_module_version": "1.5.0",
       "_model_name": "DescriptionStyleModel",
       "_view_count": null,
       "_view_module": "@jupyter-widgets/base",
       "_view_module_version": "1.2.0",
       "_view_name": "StyleView",
       "description_width": ""
      }
     },
     "1f61a8ccaf1040cdac406d36cfa1b4f5": {
      "model_module": "@jupyter-widgets/controls",
      "model_module_version": "1.5.0",
      "model_name": "CheckboxModel",
      "state": {
       "_dom_classes": [],
       "_model_module": "@jupyter-widgets/controls",
       "_model_module_version": "1.5.0",
       "_model_name": "CheckboxModel",
       "_view_count": null,
       "_view_module": "@jupyter-widgets/controls",
       "_view_module_version": "1.5.0",
       "_view_name": "CheckboxView",
       "description": "Only COVID-19-Papers",
       "description_tooltip": null,
       "disabled": false,
       "indent": false,
       "layout": "IPY_MODEL_2fd527c20f7043db89df322558573a9f",
       "style": "IPY_MODEL_04b6df61b77d4e49bac0b35bd32317a9",
       "value": false
      }
     },
     "22f727465e934852bd7b549e94648a70": {
      "model_module": "@jupyter-widgets/base",
      "model_module_version": "1.2.0",
      "model_name": "LayoutModel",
      "state": {
       "_model_module": "@jupyter-widgets/base",
       "_model_module_version": "1.2.0",
       "_model_name": "LayoutModel",
       "_view_count": null,
       "_view_module": "@jupyter-widgets/base",
       "_view_module_version": "1.2.0",
       "_view_name": "LayoutView",
       "align_content": null,
       "align_items": null,
       "align_self": null,
       "border": null,
       "bottom": null,
       "display": null,
       "flex": null,
       "flex_flow": null,
       "grid_area": null,
       "grid_auto_columns": null,
       "grid_auto_flow": null,
       "grid_auto_rows": null,
       "grid_column": null,
       "grid_gap": null,
       "grid_row": null,
       "grid_template_areas": null,
       "grid_template_columns": null,
       "grid_template_rows": null,
       "height": null,
       "justify_content": "space-around",
       "justify_items": null,
       "left": null,
       "margin": null,
       "max_height": null,
       "max_width": null,
       "min_height": null,
       "min_width": null,
       "object_fit": null,
       "object_position": null,
       "order": null,
       "overflow": null,
       "overflow_x": null,
       "overflow_y": null,
       "padding": null,
       "right": null,
       "top": null,
       "visibility": null,
       "width": "90%"
      }
     },
     "25177c48f05d4b1f8d2ef9e7a8715ade": {
      "model_module": "@jupyter-widgets/controls",
      "model_module_version": "1.5.0",
      "model_name": "TabModel",
      "state": {
       "_dom_classes": [],
       "_model_module": "@jupyter-widgets/controls",
       "_model_module_version": "1.5.0",
       "_model_name": "TabModel",
       "_titles": {
        "0": "Paper 1",
        "1": "Paper 2",
        "2": "Paper 3",
        "3": "Paper 4",
        "4": "Paper 5"
       },
       "_view_count": null,
       "_view_module": "@jupyter-widgets/controls",
       "_view_module_version": "1.5.0",
       "_view_name": "TabView",
       "box_style": "",
       "children": [
        "IPY_MODEL_d1c5370e7ce14461bef8613fcaad949b",
        "IPY_MODEL_9ebb99dee96d430e862cbce3d38f94d2",
        "IPY_MODEL_4b9d163c330f4f4daf4083ce79b3a5de",
        "IPY_MODEL_4ef1a51bcd8b4f77958794e2285a8c58",
        "IPY_MODEL_37b68e68ae364b00be0d595c85a4cb92"
       ],
       "layout": "IPY_MODEL_48834d8ae03f4eb5a641ccc44ad457f5",
       "selected_index": 0
      }
     },
     "2728f1823a9b43ce91baa620af645e34": {
      "model_module": "@jupyter-widgets/controls",
      "model_module_version": "1.5.0",
      "model_name": "ButtonModel",
      "state": {
       "_dom_classes": [],
       "_model_module": "@jupyter-widgets/controls",
       "_model_module_version": "1.5.0",
       "_model_name": "ButtonModel",
       "_view_count": null,
       "_view_module": "@jupyter-widgets/controls",
       "_view_module_version": "1.5.0",
       "_view_name": "ButtonView",
       "button_style": "",
       "description": "Search",
       "disabled": false,
       "icon": "",
       "layout": "IPY_MODEL_4a0360595c4d4c5f849bac2369a7784e",
       "style": "IPY_MODEL_f5f99472340340f8aa2c05a7bcc81fc4",
       "tooltip": ""
      }
     },
     "29d4254b494a43a8bda56698d53f7bfa": {
      "model_module": "@jupyter-widgets/controls",
      "model_module_version": "1.5.0",
      "model_name": "SelectModel",
      "state": {
       "_dom_classes": [],
       "_model_module": "@jupyter-widgets/controls",
       "_model_module_version": "1.5.0",
       "_model_name": "SelectModel",
       "_options_labels": [
        "Range of incubation periods for the disease in humans (and how this varies across age and health status) and how long individuals are contagious, even after recovery.",
        "Prevalence of asymptomatic shedding and transmission (e.g., particularly children).",
        "Seasonality of transmission.",
        "Physical science of the coronavirus (e.g., charge distribution, adhesion to hydrophilic/phobic surfaces, environmental survival to inform decontamination efforts for affected areas and provide information about viral shedding).",
        "Persistence and stability on a multitude of substrates and sources (e.g., nasal discharge, sputum, urine, fecal matter, blood).",
        "Persistence of virus on surfaces of different materials (e,g., copper, stainless steel, plastic).",
        "Natural history of the virus and shedding of it from an infected person",
        "Implementation of diagnostics and products to improve clinical processes",
        "Disease models, including animal models for infection, disease and transmission",
        "Tools and studies to monitor phenotypic change and potential adaptation of the virus",
        "Immune response and immunity",
        "Effectiveness of movement control strategies to prevent secondary transmission in health care and community settings",
        "Effectiveness of personal protective equipment (PPE) and its usefulness to reduce risk of transmission in health care and community settings",
        "Role of the environment in transmission"
       ],
       "_view_count": null,
       "_view_module": "@jupyter-widgets/controls",
       "_view_module_version": "1.5.0",
       "_view_name": "SelectView",
       "description": "Bullet Point:",
       "description_tooltip": null,
       "disabled": false,
       "index": 0,
       "layout": "IPY_MODEL_f0cd9b8f529d46d9882e9ad142a78ad2",
       "rows": 5,
       "style": "IPY_MODEL_55ace67316bd4e3cad6b0e15601432e8"
      }
     },
     "2a93e37cf78742659752d6af47efb7af": {
      "model_module": "@jupyter-widgets/base",
      "model_module_version": "1.2.0",
      "model_name": "LayoutModel",
      "state": {
       "_model_module": "@jupyter-widgets/base",
       "_model_module_version": "1.2.0",
       "_model_name": "LayoutModel",
       "_view_count": null,
       "_view_module": "@jupyter-widgets/base",
       "_view_module_version": "1.2.0",
       "_view_name": "LayoutView",
       "align_content": null,
       "align_items": null,
       "align_self": null,
       "border": null,
       "bottom": null,
       "display": null,
       "flex": null,
       "flex_flow": null,
       "grid_area": null,
       "grid_auto_columns": null,
       "grid_auto_flow": null,
       "grid_auto_rows": null,
       "grid_column": null,
       "grid_gap": null,
       "grid_row": null,
       "grid_template_areas": null,
       "grid_template_columns": null,
       "grid_template_rows": null,
       "height": null,
       "justify_content": null,
       "justify_items": null,
       "left": null,
       "margin": null,
       "max_height": null,
       "max_width": null,
       "min_height": null,
       "min_width": null,
       "object_fit": null,
       "object_position": null,
       "order": null,
       "overflow": null,
       "overflow_x": null,
       "overflow_y": null,
       "padding": null,
       "right": null,
       "top": null,
       "visibility": null,
       "width": null
      }
     },
     "2aa4d2ee8a4d49159b26c2f732621a9c": {
      "model_module": "@jupyter-widgets/base",
      "model_module_version": "1.2.0",
      "model_name": "LayoutModel",
      "state": {
       "_model_module": "@jupyter-widgets/base",
       "_model_module_version": "1.2.0",
       "_model_name": "LayoutModel",
       "_view_count": null,
       "_view_module": "@jupyter-widgets/base",
       "_view_module_version": "1.2.0",
       "_view_name": "LayoutView",
       "align_content": null,
       "align_items": null,
       "align_self": null,
       "border": null,
       "bottom": null,
       "display": null,
       "flex": null,
       "flex_flow": null,
       "grid_area": null,
       "grid_auto_columns": null,
       "grid_auto_flow": null,
       "grid_auto_rows": null,
       "grid_column": null,
       "grid_gap": null,
       "grid_row": null,
       "grid_template_areas": null,
       "grid_template_columns": null,
       "grid_template_rows": null,
       "height": null,
       "justify_content": null,
       "justify_items": null,
       "left": null,
       "margin": null,
       "max_height": null,
       "max_width": null,
       "min_height": null,
       "min_width": null,
       "object_fit": null,
       "object_position": null,
       "order": null,
       "overflow": null,
       "overflow_x": null,
       "overflow_y": null,
       "padding": null,
       "right": null,
       "top": null,
       "visibility": null,
       "width": "25%"
      }
     },
     "2abfc503fa7c431b93e2f56b573d2010": {
      "model_module": "@jupyter-widgets/base",
      "model_module_version": "1.2.0",
      "model_name": "LayoutModel",
      "state": {
       "_model_module": "@jupyter-widgets/base",
       "_model_module_version": "1.2.0",
       "_model_name": "LayoutModel",
       "_view_count": null,
       "_view_module": "@jupyter-widgets/base",
       "_view_module_version": "1.2.0",
       "_view_name": "LayoutView",
       "align_content": null,
       "align_items": null,
       "align_self": null,
       "border": null,
       "bottom": null,
       "display": null,
       "flex": null,
       "flex_flow": null,
       "grid_area": null,
       "grid_auto_columns": null,
       "grid_auto_flow": null,
       "grid_auto_rows": null,
       "grid_column": null,
       "grid_gap": null,
       "grid_row": null,
       "grid_template_areas": null,
       "grid_template_columns": null,
       "grid_template_rows": null,
       "height": "200px",
       "justify_content": null,
       "justify_items": null,
       "left": null,
       "margin": null,
       "max_height": null,
       "max_width": null,
       "min_height": null,
       "min_width": null,
       "object_fit": null,
       "object_position": null,
       "order": null,
       "overflow": null,
       "overflow_x": null,
       "overflow_y": null,
       "padding": null,
       "right": null,
       "top": null,
       "visibility": null,
       "width": "90%"
      }
     },
     "2ae66a6cf56445bc80ab5a8361a72435": {
      "model_module": "@jupyter-widgets/base",
      "model_module_version": "1.2.0",
      "model_name": "LayoutModel",
      "state": {
       "_model_module": "@jupyter-widgets/base",
       "_model_module_version": "1.2.0",
       "_model_name": "LayoutModel",
       "_view_count": null,
       "_view_module": "@jupyter-widgets/base",
       "_view_module_version": "1.2.0",
       "_view_name": "LayoutView",
       "align_content": null,
       "align_items": null,
       "align_self": null,
       "border": null,
       "bottom": null,
       "display": null,
       "flex": null,
       "flex_flow": null,
       "grid_area": null,
       "grid_auto_columns": null,
       "grid_auto_flow": null,
       "grid_auto_rows": null,
       "grid_column": null,
       "grid_gap": null,
       "grid_row": null,
       "grid_template_areas": null,
       "grid_template_columns": null,
       "grid_template_rows": null,
       "height": null,
       "justify_content": "space-around",
       "justify_items": null,
       "left": null,
       "margin": null,
       "max_height": null,
       "max_width": null,
       "min_height": null,
       "min_width": null,
       "object_fit": null,
       "object_position": null,
       "order": null,
       "overflow": null,
       "overflow_x": null,
       "overflow_y": null,
       "padding": null,
       "right": null,
       "top": null,
       "visibility": null,
       "width": "90%"
      }
     },
     "2cf0469120ff42ce91473d875e88fdca": {
      "model_module": "@jupyter-widgets/output",
      "model_module_version": "1.0.0",
      "model_name": "OutputModel",
      "state": {
       "_dom_classes": [],
       "_model_module": "@jupyter-widgets/output",
       "_model_module_version": "1.0.0",
       "_model_name": "OutputModel",
       "_view_count": null,
       "_view_module": "@jupyter-widgets/output",
       "_view_module_version": "1.0.0",
       "_view_name": "OutputView",
       "layout": "IPY_MODEL_b02932b5e5b749ad86d8199c9297076f",
       "msg_id": "",
       "outputs": []
      }
     },
     "2fd527c20f7043db89df322558573a9f": {
      "model_module": "@jupyter-widgets/base",
      "model_module_version": "1.2.0",
      "model_name": "LayoutModel",
      "state": {
       "_model_module": "@jupyter-widgets/base",
       "_model_module_version": "1.2.0",
       "_model_name": "LayoutModel",
       "_view_count": null,
       "_view_module": "@jupyter-widgets/base",
       "_view_module_version": "1.2.0",
       "_view_name": "LayoutView",
       "align_content": null,
       "align_items": null,
       "align_self": null,
       "border": null,
       "bottom": null,
       "display": null,
       "flex": null,
       "flex_flow": null,
       "grid_area": null,
       "grid_auto_columns": null,
       "grid_auto_flow": null,
       "grid_auto_rows": null,
       "grid_column": null,
       "grid_gap": null,
       "grid_row": null,
       "grid_template_areas": null,
       "grid_template_columns": null,
       "grid_template_rows": null,
       "height": null,
       "justify_content": null,
       "justify_items": null,
       "left": null,
       "margin": null,
       "max_height": null,
       "max_width": null,
       "min_height": null,
       "min_width": null,
       "object_fit": null,
       "object_position": null,
       "order": null,
       "overflow": null,
       "overflow_x": null,
       "overflow_y": null,
       "padding": null,
       "right": null,
       "top": null,
       "visibility": null,
       "width": "20%"
      }
     },
     "30a02061c0e74ff0a2ffb2692ae7075c": {
      "model_module": "@jupyter-widgets/controls",
      "model_module_version": "1.5.0",
      "model_name": "DescriptionStyleModel",
      "state": {
       "_model_module": "@jupyter-widgets/controls",
       "_model_module_version": "1.5.0",
       "_model_name": "DescriptionStyleModel",
       "_view_count": null,
       "_view_module": "@jupyter-widgets/base",
       "_view_module_version": "1.2.0",
       "_view_name": "StyleView",
       "description_width": ""
      }
     },
     "34eb9485f7fd4d4daa8bb5a3ec516508": {
      "model_module": "@jupyter-widgets/controls",
      "model_module_version": "1.5.0",
      "model_name": "SliderStyleModel",
      "state": {
       "_model_module": "@jupyter-widgets/controls",
       "_model_module_version": "1.5.0",
       "_model_name": "SliderStyleModel",
       "_view_count": null,
       "_view_module": "@jupyter-widgets/base",
       "_view_module_version": "1.2.0",
       "_view_name": "StyleView",
       "description_width": "",
       "handle_color": null
      }
     },
     "37b68e68ae364b00be0d595c85a4cb92": {
      "model_module": "@jupyter-widgets/output",
      "model_module_version": "1.0.0",
      "model_name": "OutputModel",
      "state": {
       "_dom_classes": [],
       "_model_module": "@jupyter-widgets/output",
       "_model_module_version": "1.0.0",
       "_model_name": "OutputModel",
       "_view_count": null,
       "_view_module": "@jupyter-widgets/output",
       "_view_module_version": "1.0.0",
       "_view_name": "OutputView",
       "layout": "IPY_MODEL_bc54115e9d004d338d812ce5eb2a9c8e",
       "msg_id": "",
       "outputs": []
      }
     },
     "3a15312969934c5db95c4716b665d448": {
      "model_module": "@jupyter-widgets/controls",
      "model_module_version": "1.5.0",
      "model_name": "TextareaModel",
      "state": {
       "_dom_classes": [],
       "_model_module": "@jupyter-widgets/controls",
       "_model_module_version": "1.5.0",
       "_model_name": "TextareaModel",
       "_view_count": null,
       "_view_module": "@jupyter-widgets/controls",
       "_view_module_version": "1.5.0",
       "_view_name": "TextareaView",
       "continuous_update": true,
       "description": "",
       "description_tooltip": null,
       "disabled": false,
       "layout": "IPY_MODEL_2abfc503fa7c431b93e2f56b573d2010",
       "placeholder": "Type something",
       "rows": null,
       "style": "IPY_MODEL_30a02061c0e74ff0a2ffb2692ae7075c",
       "value": ""
      }
     },
     "3d233a9d2a6d417db01840b4044348c5": {
      "model_module": "@jupyter-widgets/controls",
      "model_module_version": "1.5.0",
      "model_name": "VBoxModel",
      "state": {
       "_dom_classes": [
        "widget-interact"
       ],
       "_model_module": "@jupyter-widgets/controls",
       "_model_module_version": "1.5.0",
       "_model_name": "VBoxModel",
       "_view_count": null,
       "_view_module": "@jupyter-widgets/controls",
       "_view_module_version": "1.5.0",
       "_view_name": "VBoxView",
       "box_style": "",
       "children": [
        "IPY_MODEL_29d4254b494a43a8bda56698d53f7bfa",
        "IPY_MODEL_5545c2130eb34242b043c770d0d986eb",
        "IPY_MODEL_b30ccdea2d6143f783539a2f22cd2618",
        "IPY_MODEL_032944a795204d35b0dcfa0cec71db93",
        "IPY_MODEL_7403bb7578e744319db3362fe74b70d2",
        "IPY_MODEL_93ff9b235918421ebd4f604667ac83b3"
       ],
       "layout": "IPY_MODEL_67d6b7212bed40e6bdb25932f4820dbd"
      }
     },
     "40e7bdab7498476aa9631860123dc6c4": {
      "model_module": "@jupyter-widgets/output",
      "model_module_version": "1.0.0",
      "model_name": "OutputModel",
      "state": {
       "_dom_classes": [],
       "_model_module": "@jupyter-widgets/output",
       "_model_module_version": "1.0.0",
       "_model_name": "OutputModel",
       "_view_count": null,
       "_view_module": "@jupyter-widgets/output",
       "_view_module_version": "1.0.0",
       "_view_name": "OutputView",
       "layout": "IPY_MODEL_a2e02e13458c429b93cf02f166327cbf",
       "msg_id": "",
       "outputs": []
      }
     },
     "43244c71bc424a26be4bdb961a1453ab": {
      "model_module": "@jupyter-widgets/base",
      "model_module_version": "1.2.0",
      "model_name": "LayoutModel",
      "state": {
       "_model_module": "@jupyter-widgets/base",
       "_model_module_version": "1.2.0",
       "_model_name": "LayoutModel",
       "_view_count": null,
       "_view_module": "@jupyter-widgets/base",
       "_view_module_version": "1.2.0",
       "_view_name": "LayoutView",
       "align_content": null,
       "align_items": null,
       "align_self": null,
       "border": null,
       "bottom": null,
       "display": null,
       "flex": null,
       "flex_flow": null,
       "grid_area": null,
       "grid_auto_columns": null,
       "grid_auto_flow": null,
       "grid_auto_rows": null,
       "grid_column": null,
       "grid_gap": null,
       "grid_row": null,
       "grid_template_areas": null,
       "grid_template_columns": null,
       "grid_template_rows": null,
       "height": null,
       "justify_content": null,
       "justify_items": null,
       "left": null,
       "margin": null,
       "max_height": null,
       "max_width": null,
       "min_height": null,
       "min_width": null,
       "object_fit": null,
       "object_position": null,
       "order": null,
       "overflow": null,
       "overflow_x": null,
       "overflow_y": null,
       "padding": null,
       "right": null,
       "top": null,
       "visibility": null,
       "width": null
      }
     },
     "433345b7b16547b6af441adf94df7eb6": {
      "model_module": "@jupyter-widgets/controls",
      "model_module_version": "1.5.0",
      "model_name": "SliderStyleModel",
      "state": {
       "_model_module": "@jupyter-widgets/controls",
       "_model_module_version": "1.5.0",
       "_model_name": "SliderStyleModel",
       "_view_count": null,
       "_view_module": "@jupyter-widgets/base",
       "_view_module_version": "1.2.0",
       "_view_name": "StyleView",
       "description_width": "",
       "handle_color": null
      }
     },
     "439f247fb96f4662b84cb353a9fe8228": {
      "model_module": "@jupyter-widgets/base",
      "model_module_version": "1.2.0",
      "model_name": "LayoutModel",
      "state": {
       "_model_module": "@jupyter-widgets/base",
       "_model_module_version": "1.2.0",
       "_model_name": "LayoutModel",
       "_view_count": null,
       "_view_module": "@jupyter-widgets/base",
       "_view_module_version": "1.2.0",
       "_view_name": "LayoutView",
       "align_content": null,
       "align_items": null,
       "align_self": null,
       "border": null,
       "bottom": null,
       "display": null,
       "flex": null,
       "flex_flow": null,
       "grid_area": null,
       "grid_auto_columns": null,
       "grid_auto_flow": null,
       "grid_auto_rows": null,
       "grid_column": null,
       "grid_gap": null,
       "grid_row": null,
       "grid_template_areas": null,
       "grid_template_columns": null,
       "grid_template_rows": null,
       "height": null,
       "justify_content": null,
       "justify_items": null,
       "left": null,
       "margin": null,
       "max_height": null,
       "max_width": null,
       "min_height": null,
       "min_width": null,
       "object_fit": null,
       "object_position": null,
       "order": null,
       "overflow": null,
       "overflow_x": null,
       "overflow_y": null,
       "padding": null,
       "right": null,
       "top": null,
       "visibility": null,
       "width": null
      }
     },
     "4713187edfeb460ca80291b321fd3a5e": {
      "model_module": "@jupyter-widgets/output",
      "model_module_version": "1.0.0",
      "model_name": "OutputModel",
      "state": {
       "_dom_classes": [],
       "_model_module": "@jupyter-widgets/output",
       "_model_module_version": "1.0.0",
       "_model_name": "OutputModel",
       "_view_count": null,
       "_view_module": "@jupyter-widgets/output",
       "_view_module_version": "1.0.0",
       "_view_name": "OutputView",
       "layout": "IPY_MODEL_f58613aad5904658ab0a93e82b43dc97",
       "msg_id": "",
       "outputs": []
      }
     },
     "48834d8ae03f4eb5a641ccc44ad457f5": {
      "model_module": "@jupyter-widgets/base",
      "model_module_version": "1.2.0",
      "model_name": "LayoutModel",
      "state": {
       "_model_module": "@jupyter-widgets/base",
       "_model_module_version": "1.2.0",
       "_model_name": "LayoutModel",
       "_view_count": null,
       "_view_module": "@jupyter-widgets/base",
       "_view_module_version": "1.2.0",
       "_view_name": "LayoutView",
       "align_content": null,
       "align_items": null,
       "align_self": null,
       "border": null,
       "bottom": null,
       "display": null,
       "flex": null,
       "flex_flow": null,
       "grid_area": null,
       "grid_auto_columns": null,
       "grid_auto_flow": null,
       "grid_auto_rows": null,
       "grid_column": null,
       "grid_gap": null,
       "grid_row": null,
       "grid_template_areas": null,
       "grid_template_columns": null,
       "grid_template_rows": null,
       "height": null,
       "justify_content": null,
       "justify_items": null,
       "left": null,
       "margin": null,
       "max_height": null,
       "max_width": null,
       "min_height": null,
       "min_width": null,
       "object_fit": null,
       "object_position": null,
       "order": null,
       "overflow": null,
       "overflow_x": null,
       "overflow_y": null,
       "padding": null,
       "right": null,
       "top": null,
       "visibility": null,
       "width": null
      }
     },
     "4a0360595c4d4c5f849bac2369a7784e": {
      "model_module": "@jupyter-widgets/base",
      "model_module_version": "1.2.0",
      "model_name": "LayoutModel",
      "state": {
       "_model_module": "@jupyter-widgets/base",
       "_model_module_version": "1.2.0",
       "_model_name": "LayoutModel",
       "_view_count": null,
       "_view_module": "@jupyter-widgets/base",
       "_view_module_version": "1.2.0",
       "_view_name": "LayoutView",
       "align_content": null,
       "align_items": null,
       "align_self": null,
       "border": null,
       "bottom": null,
       "display": null,
       "flex": null,
       "flex_flow": null,
       "grid_area": null,
       "grid_auto_columns": null,
       "grid_auto_flow": null,
       "grid_auto_rows": null,
       "grid_column": null,
       "grid_gap": null,
       "grid_row": null,
       "grid_template_areas": null,
       "grid_template_columns": null,
       "grid_template_rows": null,
       "height": null,
       "justify_content": null,
       "justify_items": null,
       "left": null,
       "margin": null,
       "max_height": null,
       "max_width": null,
       "min_height": null,
       "min_width": null,
       "object_fit": null,
       "object_position": null,
       "order": null,
       "overflow": null,
       "overflow_x": null,
       "overflow_y": null,
       "padding": null,
       "right": null,
       "top": null,
       "visibility": null,
       "width": null
      }
     },
     "4b9d163c330f4f4daf4083ce79b3a5de": {
      "model_module": "@jupyter-widgets/output",
      "model_module_version": "1.0.0",
      "model_name": "OutputModel",
      "state": {
       "_dom_classes": [],
       "_model_module": "@jupyter-widgets/output",
       "_model_module_version": "1.0.0",
       "_model_name": "OutputModel",
       "_view_count": null,
       "_view_module": "@jupyter-widgets/output",
       "_view_module_version": "1.0.0",
       "_view_name": "OutputView",
       "layout": "IPY_MODEL_bac12a152d0b40f095c22a5ecee42911",
       "msg_id": "",
       "outputs": []
      }
     },
     "4cc876201ebe4041a2b156580561a476": {
      "model_module": "@jupyter-widgets/output",
      "model_module_version": "1.0.0",
      "model_name": "OutputModel",
      "state": {
       "_dom_classes": [],
       "_model_module": "@jupyter-widgets/output",
       "_model_module_version": "1.0.0",
       "_model_name": "OutputModel",
       "_view_count": null,
       "_view_module": "@jupyter-widgets/output",
       "_view_module_version": "1.0.0",
       "_view_name": "OutputView",
       "layout": "IPY_MODEL_4d55f81618314ecf9412229868098e87",
       "msg_id": "",
       "outputs": []
      }
     },
     "4cf145f190da414a9ecc2b0d988e3d8d": {
      "model_module": "@jupyter-widgets/controls",
      "model_module_version": "1.5.0",
      "model_name": "SliderStyleModel",
      "state": {
       "_model_module": "@jupyter-widgets/controls",
       "_model_module_version": "1.5.0",
       "_model_name": "SliderStyleModel",
       "_view_count": null,
       "_view_module": "@jupyter-widgets/base",
       "_view_module_version": "1.2.0",
       "_view_name": "StyleView",
       "description_width": "",
       "handle_color": null
      }
     },
     "4d55f81618314ecf9412229868098e87": {
      "model_module": "@jupyter-widgets/base",
      "model_module_version": "1.2.0",
      "model_name": "LayoutModel",
      "state": {
       "_model_module": "@jupyter-widgets/base",
       "_model_module_version": "1.2.0",
       "_model_name": "LayoutModel",
       "_view_count": null,
       "_view_module": "@jupyter-widgets/base",
       "_view_module_version": "1.2.0",
       "_view_name": "LayoutView",
       "align_content": null,
       "align_items": null,
       "align_self": null,
       "border": null,
       "bottom": null,
       "display": null,
       "flex": null,
       "flex_flow": null,
       "grid_area": null,
       "grid_auto_columns": null,
       "grid_auto_flow": null,
       "grid_auto_rows": null,
       "grid_column": null,
       "grid_gap": null,
       "grid_row": null,
       "grid_template_areas": null,
       "grid_template_columns": null,
       "grid_template_rows": null,
       "height": null,
       "justify_content": null,
       "justify_items": null,
       "left": null,
       "margin": null,
       "max_height": null,
       "max_width": null,
       "min_height": null,
       "min_width": null,
       "object_fit": null,
       "object_position": null,
       "order": null,
       "overflow": null,
       "overflow_x": null,
       "overflow_y": null,
       "padding": null,
       "right": null,
       "top": null,
       "visibility": null,
       "width": null
      }
     },
     "4ef1a51bcd8b4f77958794e2285a8c58": {
      "model_module": "@jupyter-widgets/output",
      "model_module_version": "1.0.0",
      "model_name": "OutputModel",
      "state": {
       "_dom_classes": [],
       "_model_module": "@jupyter-widgets/output",
       "_model_module_version": "1.0.0",
       "_model_name": "OutputModel",
       "_view_count": null,
       "_view_module": "@jupyter-widgets/output",
       "_view_module_version": "1.0.0",
       "_view_name": "OutputView",
       "layout": "IPY_MODEL_b727d0c3a5864e3a8b695c6d533b8977",
       "msg_id": "",
       "outputs": []
      }
     },
     "5086ebdac6dc4c7b902a39aeb8cdb515": {
      "model_module": "@jupyter-widgets/output",
      "model_module_version": "1.0.0",
      "model_name": "OutputModel",
      "state": {
       "_dom_classes": [],
       "_model_module": "@jupyter-widgets/output",
       "_model_module_version": "1.0.0",
       "_model_name": "OutputModel",
       "_view_count": null,
       "_view_module": "@jupyter-widgets/output",
       "_view_module_version": "1.0.0",
       "_view_name": "OutputView",
       "layout": "IPY_MODEL_fefc2807e6cc4f5e89a35dc347158b51",
       "msg_id": "",
       "outputs": []
      }
     },
     "52d4c0d896784e759a918e1ac8a22375": {
      "model_module": "@jupyter-widgets/base",
      "model_module_version": "1.2.0",
      "model_name": "LayoutModel",
      "state": {
       "_model_module": "@jupyter-widgets/base",
       "_model_module_version": "1.2.0",
       "_model_name": "LayoutModel",
       "_view_count": null,
       "_view_module": "@jupyter-widgets/base",
       "_view_module_version": "1.2.0",
       "_view_name": "LayoutView",
       "align_content": null,
       "align_items": null,
       "align_self": null,
       "border": null,
       "bottom": null,
       "display": null,
       "flex": null,
       "flex_flow": null,
       "grid_area": null,
       "grid_auto_columns": null,
       "grid_auto_flow": null,
       "grid_auto_rows": null,
       "grid_column": null,
       "grid_gap": null,
       "grid_row": null,
       "grid_template_areas": null,
       "grid_template_columns": null,
       "grid_template_rows": null,
       "height": null,
       "justify_content": null,
       "justify_items": null,
       "left": null,
       "margin": null,
       "max_height": null,
       "max_width": null,
       "min_height": null,
       "min_width": null,
       "object_fit": null,
       "object_position": null,
       "order": null,
       "overflow": null,
       "overflow_x": null,
       "overflow_y": null,
       "padding": null,
       "right": null,
       "top": null,
       "visibility": null,
       "width": "20%"
      }
     },
     "5545c2130eb34242b043c770d0d986eb": {
      "model_module": "@jupyter-widgets/controls",
      "model_module_version": "1.5.0",
      "model_name": "DropdownModel",
      "state": {
       "_dom_classes": [],
       "_model_module": "@jupyter-widgets/controls",
       "_model_module_version": "1.5.0",
       "_model_name": "DropdownModel",
       "_options_labels": [
        "What is known about transmission, incubation, and environmental stability?",
        "What do we know about COVID-19 risk factors?",
        "What do we know about virus genetics, origin, and evolution?",
        "What do we know about non-pharmaceutical interventions?",
        "What do we know about vaccines and therapeutics?",
        "What has been published about ethical and social science considerations?",
        "What do we know about diagnostics and surveillance?",
        "What has been published about medical care?",
        "What has been published about information sharing and inter-sectoral collaboration?"
       ],
       "_view_count": null,
       "_view_module": "@jupyter-widgets/controls",
       "_view_module_version": "1.5.0",
       "_view_name": "DropdownView",
       "description": "Task:",
       "description_tooltip": null,
       "disabled": false,
       "index": 0,
       "layout": "IPY_MODEL_b2824c7978a64ac2b03f47372394a2a3",
       "style": "IPY_MODEL_a7ae8f05d68b4bb4bf43b9867258f228"
      }
     },
     "55ace67316bd4e3cad6b0e15601432e8": {
      "model_module": "@jupyter-widgets/controls",
      "model_module_version": "1.5.0",
      "model_name": "DescriptionStyleModel",
      "state": {
       "_model_module": "@jupyter-widgets/controls",
       "_model_module_version": "1.5.0",
       "_model_name": "DescriptionStyleModel",
       "_view_count": null,
       "_view_module": "@jupyter-widgets/base",
       "_view_module_version": "1.2.0",
       "_view_name": "StyleView",
       "description_width": ""
      }
     },
     "5711fce27fe84a98911592938d5b2d72": {
      "model_module": "@jupyter-widgets/output",
      "model_module_version": "1.0.0",
      "model_name": "OutputModel",
      "state": {
       "_dom_classes": [],
       "_model_module": "@jupyter-widgets/output",
       "_model_module_version": "1.0.0",
       "_model_name": "OutputModel",
       "_view_count": null,
       "_view_module": "@jupyter-widgets/output",
       "_view_module_version": "1.0.0",
       "_view_name": "OutputView",
       "layout": "IPY_MODEL_b5276e290f9845dea04624364f97a289",
       "msg_id": "",
       "outputs": []
      }
     },
     "5f87e1dbe8a84d4cb2e3aa79da44d683": {
      "model_module": "@jupyter-widgets/output",
      "model_module_version": "1.0.0",
      "model_name": "OutputModel",
      "state": {
       "_dom_classes": [],
       "_model_module": "@jupyter-widgets/output",
       "_model_module_version": "1.0.0",
       "_model_name": "OutputModel",
       "_view_count": null,
       "_view_module": "@jupyter-widgets/output",
       "_view_module_version": "1.0.0",
       "_view_name": "OutputView",
       "layout": "IPY_MODEL_7b08c5014abf4a44bbf6cf370b71c53a",
       "msg_id": "",
       "outputs": []
      }
     },
     "674adc4ef5614627b5a3c2de251513af": {
      "model_module": "@jupyter-widgets/controls",
      "model_module_version": "1.5.0",
      "model_name": "TabModel",
      "state": {
       "_dom_classes": [],
       "_model_module": "@jupyter-widgets/controls",
       "_model_module_version": "1.5.0",
       "_model_name": "TabModel",
       "_titles": {
        "0": "Paper 1",
        "1": "Paper 2",
        "2": "Paper 3",
        "3": "Paper 4",
        "4": "Paper 5"
       },
       "_view_count": null,
       "_view_module": "@jupyter-widgets/controls",
       "_view_module_version": "1.5.0",
       "_view_name": "TabView",
       "box_style": "",
       "children": [
        "IPY_MODEL_14b483ae39b74d26925ddce9df86d72f",
        "IPY_MODEL_edfd22e33c2f4c05aac69797c34f85cb",
        "IPY_MODEL_5f87e1dbe8a84d4cb2e3aa79da44d683",
        "IPY_MODEL_6899fde1a87b482c8c9981e5c0e1af90",
        "IPY_MODEL_2cf0469120ff42ce91473d875e88fdca"
       ],
       "layout": "IPY_MODEL_6cd7f36e86254fb1b26528b92e78ce31",
       "selected_index": 0
      }
     },
     "67c84bb39ec945c2b6405e805ecfb761": {
      "model_module": "@jupyter-widgets/controls",
      "model_module_version": "1.5.0",
      "model_name": "IntSliderModel",
      "state": {
       "_dom_classes": [],
       "_model_module": "@jupyter-widgets/controls",
       "_model_module_version": "1.5.0",
       "_model_name": "IntSliderModel",
       "_view_count": null,
       "_view_module": "@jupyter-widgets/controls",
       "_view_module_version": "1.5.0",
       "_view_name": "IntSliderView",
       "continuous_update": true,
       "description": "k",
       "description_tooltip": null,
       "disabled": false,
       "layout": "IPY_MODEL_15889e0bbc624e1a87c8c1afb5abeb66",
       "max": 50,
       "min": 1,
       "orientation": "horizontal",
       "readout": true,
       "readout_format": "d",
       "step": 1,
       "style": "IPY_MODEL_6ae7cfbfd36a47d29ae58f6bd1d3ca36",
       "value": 10
      }
     },
     "67d6b7212bed40e6bdb25932f4820dbd": {
      "model_module": "@jupyter-widgets/base",
      "model_module_version": "1.2.0",
      "model_name": "LayoutModel",
      "state": {
       "_model_module": "@jupyter-widgets/base",
       "_model_module_version": "1.2.0",
       "_model_name": "LayoutModel",
       "_view_count": null,
       "_view_module": "@jupyter-widgets/base",
       "_view_module_version": "1.2.0",
       "_view_name": "LayoutView",
       "align_content": null,
       "align_items": null,
       "align_self": null,
       "border": null,
       "bottom": null,
       "display": null,
       "flex": null,
       "flex_flow": null,
       "grid_area": null,
       "grid_auto_columns": null,
       "grid_auto_flow": null,
       "grid_auto_rows": null,
       "grid_column": null,
       "grid_gap": null,
       "grid_row": null,
       "grid_template_areas": null,
       "grid_template_columns": null,
       "grid_template_rows": null,
       "height": null,
       "justify_content": null,
       "justify_items": null,
       "left": null,
       "margin": null,
       "max_height": null,
       "max_width": null,
       "min_height": null,
       "min_width": null,
       "object_fit": null,
       "object_position": null,
       "order": null,
       "overflow": null,
       "overflow_x": null,
       "overflow_y": null,
       "padding": null,
       "right": null,
       "top": null,
       "visibility": null,
       "width": null
      }
     },
     "6899fde1a87b482c8c9981e5c0e1af90": {
      "model_module": "@jupyter-widgets/output",
      "model_module_version": "1.0.0",
      "model_name": "OutputModel",
      "state": {
       "_dom_classes": [],
       "_model_module": "@jupyter-widgets/output",
       "_model_module_version": "1.0.0",
       "_model_name": "OutputModel",
       "_view_count": null,
       "_view_module": "@jupyter-widgets/output",
       "_view_module_version": "1.0.0",
       "_view_name": "OutputView",
       "layout": "IPY_MODEL_1bc6ca870dc44474aa2345e432a13085",
       "msg_id": "",
       "outputs": []
      }
     },
     "6969b47fdb8e425d81ca0da3e1770f58": {
      "model_module": "@jupyter-widgets/controls",
      "model_module_version": "1.5.0",
      "model_name": "DescriptionStyleModel",
      "state": {
       "_model_module": "@jupyter-widgets/controls",
       "_model_module_version": "1.5.0",
       "_model_name": "DescriptionStyleModel",
       "_view_count": null,
       "_view_module": "@jupyter-widgets/base",
       "_view_module_version": "1.2.0",
       "_view_name": "StyleView",
       "description_width": ""
      }
     },
     "6ae7cfbfd36a47d29ae58f6bd1d3ca36": {
      "model_module": "@jupyter-widgets/controls",
      "model_module_version": "1.5.0",
      "model_name": "SliderStyleModel",
      "state": {
       "_model_module": "@jupyter-widgets/controls",
       "_model_module_version": "1.5.0",
       "_model_name": "SliderStyleModel",
       "_view_count": null,
       "_view_module": "@jupyter-widgets/base",
       "_view_module_version": "1.2.0",
       "_view_name": "StyleView",
       "description_width": "",
       "handle_color": null
      }
     },
     "6b9f28cdd9a04fb2b112a474f80cb58f": {
      "model_module": "@jupyter-widgets/controls",
      "model_module_version": "1.5.0",
      "model_name": "VBoxModel",
      "state": {
       "_dom_classes": [],
       "_model_module": "@jupyter-widgets/controls",
       "_model_module_version": "1.5.0",
       "_model_name": "VBoxModel",
       "_view_count": null,
       "_view_module": "@jupyter-widgets/controls",
       "_view_module_version": "1.5.0",
       "_view_name": "VBoxView",
       "box_style": "",
       "children": [
        "IPY_MODEL_1c6230937ed0472abb192b95f1b838c4",
        "IPY_MODEL_3a15312969934c5db95c4716b665d448",
        "IPY_MODEL_2728f1823a9b43ce91baa620af645e34"
       ],
       "layout": "IPY_MODEL_b65fe2fc6e154aa0a9af7a8c2d30a2f9"
      }
     },
     "6c023351225a46a3b2ce7fdc5ba74c12": {
      "model_module": "@jupyter-widgets/output",
      "model_module_version": "1.0.0",
      "model_name": "OutputModel",
      "state": {
       "_dom_classes": [],
       "_model_module": "@jupyter-widgets/output",
       "_model_module_version": "1.0.0",
       "_model_name": "OutputModel",
       "_view_count": null,
       "_view_module": "@jupyter-widgets/output",
       "_view_module_version": "1.0.0",
       "_view_name": "OutputView",
       "layout": "IPY_MODEL_1c35ff3f15814f5c8c08b56c662905f2",
       "msg_id": "",
       "outputs": []
      }
     },
     "6cd7f36e86254fb1b26528b92e78ce31": {
      "model_module": "@jupyter-widgets/base",
      "model_module_version": "1.2.0",
      "model_name": "LayoutModel",
      "state": {
       "_model_module": "@jupyter-widgets/base",
       "_model_module_version": "1.2.0",
       "_model_name": "LayoutModel",
       "_view_count": null,
       "_view_module": "@jupyter-widgets/base",
       "_view_module_version": "1.2.0",
       "_view_name": "LayoutView",
       "align_content": null,
       "align_items": null,
       "align_self": null,
       "border": null,
       "bottom": null,
       "display": null,
       "flex": null,
       "flex_flow": null,
       "grid_area": null,
       "grid_auto_columns": null,
       "grid_auto_flow": null,
       "grid_auto_rows": null,
       "grid_column": null,
       "grid_gap": null,
       "grid_row": null,
       "grid_template_areas": null,
       "grid_template_columns": null,
       "grid_template_rows": null,
       "height": null,
       "justify_content": null,
       "justify_items": null,
       "left": null,
       "margin": null,
       "max_height": null,
       "max_width": null,
       "min_height": null,
       "min_width": null,
       "object_fit": null,
       "object_position": null,
       "order": null,
       "overflow": null,
       "overflow_x": null,
       "overflow_y": null,
       "padding": null,
       "right": null,
       "top": null,
       "visibility": null,
       "width": null
      }
     },
     "7403bb7578e744319db3362fe74b70d2": {
      "model_module": "@jupyter-widgets/controls",
      "model_module_version": "1.5.0",
      "model_name": "CheckboxModel",
      "state": {
       "_dom_classes": [],
       "_model_module": "@jupyter-widgets/controls",
       "_model_module_version": "1.5.0",
       "_model_name": "CheckboxModel",
       "_view_count": null,
       "_view_module": "@jupyter-widgets/controls",
       "_view_module_version": "1.5.0",
       "_view_name": "CheckboxView",
       "description": "Only COVID-19-Papers",
       "description_tooltip": null,
       "disabled": false,
       "indent": false,
       "layout": "IPY_MODEL_52d4c0d896784e759a918e1ac8a22375",
       "style": "IPY_MODEL_6969b47fdb8e425d81ca0da3e1770f58",
       "value": true
      }
     },
     "7b08c5014abf4a44bbf6cf370b71c53a": {
      "model_module": "@jupyter-widgets/base",
      "model_module_version": "1.2.0",
      "model_name": "LayoutModel",
      "state": {
       "_model_module": "@jupyter-widgets/base",
       "_model_module_version": "1.2.0",
       "_model_name": "LayoutModel",
       "_view_count": null,
       "_view_module": "@jupyter-widgets/base",
       "_view_module_version": "1.2.0",
       "_view_name": "LayoutView",
       "align_content": null,
       "align_items": null,
       "align_self": null,
       "border": null,
       "bottom": null,
       "display": null,
       "flex": null,
       "flex_flow": null,
       "grid_area": null,
       "grid_auto_columns": null,
       "grid_auto_flow": null,
       "grid_auto_rows": null,
       "grid_column": null,
       "grid_gap": null,
       "grid_row": null,
       "grid_template_areas": null,
       "grid_template_columns": null,
       "grid_template_rows": null,
       "height": null,
       "justify_content": null,
       "justify_items": null,
       "left": null,
       "margin": null,
       "max_height": null,
       "max_width": null,
       "min_height": null,
       "min_width": null,
       "object_fit": null,
       "object_position": null,
       "order": null,
       "overflow": null,
       "overflow_x": null,
       "overflow_y": null,
       "padding": null,
       "right": null,
       "top": null,
       "visibility": null,
       "width": null
      }
     },
     "7d6504fb46ba463795f6105c33fffcbf": {
      "model_module": "@jupyter-widgets/output",
      "model_module_version": "1.0.0",
      "model_name": "OutputModel",
      "state": {
       "_dom_classes": [],
       "_model_module": "@jupyter-widgets/output",
       "_model_module_version": "1.0.0",
       "_model_name": "OutputModel",
       "_view_count": null,
       "_view_module": "@jupyter-widgets/output",
       "_view_module_version": "1.0.0",
       "_view_name": "OutputView",
       "layout": "IPY_MODEL_43244c71bc424a26be4bdb961a1453ab",
       "msg_id": "",
       "outputs": []
      }
     },
     "84f9d4d335bb4894b9af07b36b207888": {
      "model_module": "@jupyter-widgets/controls",
      "model_module_version": "1.5.0",
      "model_name": "HBoxModel",
      "state": {
       "_dom_classes": [],
       "_model_module": "@jupyter-widgets/controls",
       "_model_module_version": "1.5.0",
       "_model_name": "HBoxModel",
       "_view_count": null,
       "_view_module": "@jupyter-widgets/controls",
       "_view_module_version": "1.5.0",
       "_view_name": "HBoxView",
       "box_style": "",
       "children": [
        "IPY_MODEL_b30ccdea2d6143f783539a2f22cd2618",
        "IPY_MODEL_032944a795204d35b0dcfa0cec71db93",
        "IPY_MODEL_7403bb7578e744319db3362fe74b70d2"
       ],
       "layout": "IPY_MODEL_2ae66a6cf56445bc80ab5a8361a72435"
      }
     },
     "8caef5ee06144069aee630b4dc41a0cc": {
      "model_module": "@jupyter-widgets/controls",
      "model_module_version": "1.5.0",
      "model_name": "SliderStyleModel",
      "state": {
       "_model_module": "@jupyter-widgets/controls",
       "_model_module_version": "1.5.0",
       "_model_name": "SliderStyleModel",
       "_view_count": null,
       "_view_module": "@jupyter-widgets/base",
       "_view_module_version": "1.2.0",
       "_view_name": "StyleView",
       "description_width": "",
       "handle_color": null
      }
     },
     "90a81225d57c4dec91a5b192c7a245a6": {
      "model_module": "@jupyter-widgets/base",
      "model_module_version": "1.2.0",
      "model_name": "LayoutModel",
      "state": {
       "_model_module": "@jupyter-widgets/base",
       "_model_module_version": "1.2.0",
       "_model_name": "LayoutModel",
       "_view_count": null,
       "_view_module": "@jupyter-widgets/base",
       "_view_module_version": "1.2.0",
       "_view_name": "LayoutView",
       "align_content": null,
       "align_items": null,
       "align_self": null,
       "border": null,
       "bottom": null,
       "display": null,
       "flex": null,
       "flex_flow": null,
       "grid_area": null,
       "grid_auto_columns": null,
       "grid_auto_flow": null,
       "grid_auto_rows": null,
       "grid_column": null,
       "grid_gap": null,
       "grid_row": null,
       "grid_template_areas": null,
       "grid_template_columns": null,
       "grid_template_rows": null,
       "height": null,
       "justify_content": null,
       "justify_items": null,
       "left": null,
       "margin": null,
       "max_height": null,
       "max_width": null,
       "min_height": null,
       "min_width": null,
       "object_fit": null,
       "object_position": null,
       "order": null,
       "overflow": null,
       "overflow_x": null,
       "overflow_y": null,
       "padding": null,
       "right": null,
       "top": null,
       "visibility": null,
       "width": "40%"
      }
     },
     "926e98dae462412680ca59fb4095d4be": {
      "model_module": "@jupyter-widgets/output",
      "model_module_version": "1.0.0",
      "model_name": "OutputModel",
      "state": {
       "_dom_classes": [],
       "_model_module": "@jupyter-widgets/output",
       "_model_module_version": "1.0.0",
       "_model_name": "OutputModel",
       "_view_count": null,
       "_view_module": "@jupyter-widgets/output",
       "_view_module_version": "1.0.0",
       "_view_name": "OutputView",
       "layout": "IPY_MODEL_00ebd46acaa84948979393e9c060b6ee",
       "msg_id": "",
       "outputs": []
      }
     },
     "9393b390cac84989b2be92d7f3ae1a19": {
      "model_module": "@jupyter-widgets/base",
      "model_module_version": "1.2.0",
      "model_name": "LayoutModel",
      "state": {
       "_model_module": "@jupyter-widgets/base",
       "_model_module_version": "1.2.0",
       "_model_name": "LayoutModel",
       "_view_count": null,
       "_view_module": "@jupyter-widgets/base",
       "_view_module_version": "1.2.0",
       "_view_name": "LayoutView",
       "align_content": null,
       "align_items": null,
       "align_self": null,
       "border": null,
       "bottom": null,
       "display": null,
       "flex": null,
       "flex_flow": null,
       "grid_area": null,
       "grid_auto_columns": null,
       "grid_auto_flow": null,
       "grid_auto_rows": null,
       "grid_column": null,
       "grid_gap": null,
       "grid_row": null,
       "grid_template_areas": null,
       "grid_template_columns": null,
       "grid_template_rows": null,
       "height": null,
       "justify_content": null,
       "justify_items": null,
       "left": null,
       "margin": null,
       "max_height": null,
       "max_width": null,
       "min_height": null,
       "min_width": null,
       "object_fit": null,
       "object_position": null,
       "order": null,
       "overflow": null,
       "overflow_x": null,
       "overflow_y": null,
       "padding": null,
       "right": null,
       "top": null,
       "visibility": null,
       "width": null
      }
     },
     "93ff9b235918421ebd4f604667ac83b3": {
      "model_module": "@jupyter-widgets/output",
      "model_module_version": "1.0.0",
      "model_name": "OutputModel",
      "state": {
       "_dom_classes": [],
       "_model_module": "@jupyter-widgets/output",
       "_model_module_version": "1.0.0",
       "_model_name": "OutputModel",
       "_view_count": null,
       "_view_module": "@jupyter-widgets/output",
       "_view_module_version": "1.0.0",
       "_view_name": "OutputView",
       "layout": "IPY_MODEL_9f618dda717844b9acc13105b9526563",
       "msg_id": "",
       "outputs": []
      }
     },
     "9471b669d78a4bf29f62cb0e95f89b2e": {
      "model_module": "@jupyter-widgets/base",
      "model_module_version": "1.2.0",
      "model_name": "LayoutModel",
      "state": {
       "_model_module": "@jupyter-widgets/base",
       "_model_module_version": "1.2.0",
       "_model_name": "LayoutModel",
       "_view_count": null,
       "_view_module": "@jupyter-widgets/base",
       "_view_module_version": "1.2.0",
       "_view_name": "LayoutView",
       "align_content": null,
       "align_items": null,
       "align_self": null,
       "border": null,
       "bottom": null,
       "display": null,
       "flex": null,
       "flex_flow": null,
       "grid_area": null,
       "grid_auto_columns": null,
       "grid_auto_flow": null,
       "grid_auto_rows": null,
       "grid_column": null,
       "grid_gap": null,
       "grid_row": null,
       "grid_template_areas": null,
       "grid_template_columns": null,
       "grid_template_rows": null,
       "height": null,
       "justify_content": null,
       "justify_items": null,
       "left": null,
       "margin": null,
       "max_height": null,
       "max_width": null,
       "min_height": null,
       "min_width": null,
       "object_fit": null,
       "object_position": null,
       "order": null,
       "overflow": null,
       "overflow_x": null,
       "overflow_y": null,
       "padding": null,
       "right": null,
       "top": null,
       "visibility": null,
       "width": null
      }
     },
     "9508f354a7c048b390d56e785195a926": {
      "model_module": "@jupyter-widgets/controls",
      "model_module_version": "1.5.0",
      "model_name": "TabModel",
      "state": {
       "_dom_classes": [],
       "_model_module": "@jupyter-widgets/controls",
       "_model_module_version": "1.5.0",
       "_model_name": "TabModel",
       "_titles": {
        "0": "Paper 1",
        "1": "Paper 2",
        "2": "Paper 3",
        "3": "Paper 4",
        "4": "Paper 5"
       },
       "_view_count": null,
       "_view_module": "@jupyter-widgets/controls",
       "_view_module_version": "1.5.0",
       "_view_name": "TabView",
       "box_style": "",
       "children": [
        "IPY_MODEL_eb40b244758d4bb58c1d68c51e7d6101",
        "IPY_MODEL_7d6504fb46ba463795f6105c33fffcbf",
        "IPY_MODEL_926e98dae462412680ca59fb4095d4be",
        "IPY_MODEL_5711fce27fe84a98911592938d5b2d72",
        "IPY_MODEL_f42e5ceda0fa408fb0851a8858b0a264"
       ],
       "layout": "IPY_MODEL_ab17afc069ba4e0fa0e20223ea110a46",
       "selected_index": 0
      }
     },
     "966ca907ea1b4f0c9e4186615a85c2ae": {
      "model_module": "@jupyter-widgets/controls",
      "model_module_version": "1.5.0",
      "model_name": "IntRangeSliderModel",
      "state": {
       "_dom_classes": [],
       "_model_module": "@jupyter-widgets/controls",
       "_model_module_version": "1.5.0",
       "_model_name": "IntRangeSliderModel",
       "_view_count": null,
       "_view_module": "@jupyter-widgets/controls",
       "_view_module_version": "1.5.0",
       "_view_name": "IntRangeSliderView",
       "continuous_update": false,
       "description": "Year Range",
       "description_tooltip": null,
       "disabled": false,
       "layout": "IPY_MODEL_eeea6f6dbd0348649f07aabcb0af8984",
       "max": 2020,
       "min": 1950,
       "orientation": "horizontal",
       "readout": true,
       "readout_format": "d",
       "step": 1,
       "style": "IPY_MODEL_4cf145f190da414a9ecc2b0d988e3d8d",
       "value": [
        2010,
        2020
       ]
      }
     },
     "97a20d9bc93c4e1b9ec428ddc351e107": {
      "model_module": "@jupyter-widgets/base",
      "model_module_version": "1.2.0",
      "model_name": "LayoutModel",
      "state": {
       "_model_module": "@jupyter-widgets/base",
       "_model_module_version": "1.2.0",
       "_model_name": "LayoutModel",
       "_view_count": null,
       "_view_module": "@jupyter-widgets/base",
       "_view_module_version": "1.2.0",
       "_view_name": "LayoutView",
       "align_content": null,
       "align_items": null,
       "align_self": null,
       "border": null,
       "bottom": null,
       "display": null,
       "flex": null,
       "flex_flow": null,
       "grid_area": null,
       "grid_auto_columns": null,
       "grid_auto_flow": null,
       "grid_auto_rows": null,
       "grid_column": null,
       "grid_gap": null,
       "grid_row": null,
       "grid_template_areas": null,
       "grid_template_columns": null,
       "grid_template_rows": null,
       "height": null,
       "justify_content": null,
       "justify_items": null,
       "left": null,
       "margin": null,
       "max_height": null,
       "max_width": null,
       "min_height": null,
       "min_width": null,
       "object_fit": null,
       "object_position": null,
       "order": null,
       "overflow": null,
       "overflow_x": null,
       "overflow_y": null,
       "padding": null,
       "right": null,
       "top": null,
       "visibility": null,
       "width": "30%"
      }
     },
     "9ebb99dee96d430e862cbce3d38f94d2": {
      "model_module": "@jupyter-widgets/output",
      "model_module_version": "1.0.0",
      "model_name": "OutputModel",
      "state": {
       "_dom_classes": [],
       "_model_module": "@jupyter-widgets/output",
       "_model_module_version": "1.0.0",
       "_model_name": "OutputModel",
       "_view_count": null,
       "_view_module": "@jupyter-widgets/output",
       "_view_module_version": "1.0.0",
       "_view_name": "OutputView",
       "layout": "IPY_MODEL_2a93e37cf78742659752d6af47efb7af",
       "msg_id": "",
       "outputs": []
      }
     },
     "9f618dda717844b9acc13105b9526563": {
      "model_module": "@jupyter-widgets/base",
      "model_module_version": "1.2.0",
      "model_name": "LayoutModel",
      "state": {
       "_model_module": "@jupyter-widgets/base",
       "_model_module_version": "1.2.0",
       "_model_name": "LayoutModel",
       "_view_count": null,
       "_view_module": "@jupyter-widgets/base",
       "_view_module_version": "1.2.0",
       "_view_name": "LayoutView",
       "align_content": null,
       "align_items": null,
       "align_self": null,
       "border": null,
       "bottom": null,
       "display": null,
       "flex": null,
       "flex_flow": null,
       "grid_area": null,
       "grid_auto_columns": null,
       "grid_auto_flow": null,
       "grid_auto_rows": null,
       "grid_column": null,
       "grid_gap": null,
       "grid_row": null,
       "grid_template_areas": null,
       "grid_template_columns": null,
       "grid_template_rows": null,
       "height": null,
       "justify_content": null,
       "justify_items": null,
       "left": null,
       "margin": null,
       "max_height": null,
       "max_width": null,
       "min_height": null,
       "min_width": null,
       "object_fit": null,
       "object_position": null,
       "order": null,
       "overflow": null,
       "overflow_x": null,
       "overflow_y": null,
       "padding": null,
       "right": null,
       "top": null,
       "visibility": null,
       "width": null
      }
     },
     "a2e02e13458c429b93cf02f166327cbf": {
      "model_module": "@jupyter-widgets/base",
      "model_module_version": "1.2.0",
      "model_name": "LayoutModel",
      "state": {
       "_model_module": "@jupyter-widgets/base",
       "_model_module_version": "1.2.0",
       "_model_name": "LayoutModel",
       "_view_count": null,
       "_view_module": "@jupyter-widgets/base",
       "_view_module_version": "1.2.0",
       "_view_name": "LayoutView",
       "align_content": null,
       "align_items": null,
       "align_self": null,
       "border": null,
       "bottom": null,
       "display": null,
       "flex": null,
       "flex_flow": null,
       "grid_area": null,
       "grid_auto_columns": null,
       "grid_auto_flow": null,
       "grid_auto_rows": null,
       "grid_column": null,
       "grid_gap": null,
       "grid_row": null,
       "grid_template_areas": null,
       "grid_template_columns": null,
       "grid_template_rows": null,
       "height": null,
       "justify_content": null,
       "justify_items": null,
       "left": null,
       "margin": null,
       "max_height": null,
       "max_width": null,
       "min_height": null,
       "min_width": null,
       "object_fit": null,
       "object_position": null,
       "order": null,
       "overflow": null,
       "overflow_x": null,
       "overflow_y": null,
       "padding": null,
       "right": null,
       "top": null,
       "visibility": null,
       "width": null
      }
     },
     "a7ae8f05d68b4bb4bf43b9867258f228": {
      "model_module": "@jupyter-widgets/controls",
      "model_module_version": "1.5.0",
      "model_name": "DescriptionStyleModel",
      "state": {
       "_model_module": "@jupyter-widgets/controls",
       "_model_module_version": "1.5.0",
       "_model_name": "DescriptionStyleModel",
       "_view_count": null,
       "_view_module": "@jupyter-widgets/base",
       "_view_module_version": "1.2.0",
       "_view_name": "StyleView",
       "description_width": ""
      }
     },
     "a820a7d58ce44f71b8f799d40695cce8": {
      "model_module": "@jupyter-widgets/base",
      "model_module_version": "1.2.0",
      "model_name": "LayoutModel",
      "state": {
       "_model_module": "@jupyter-widgets/base",
       "_model_module_version": "1.2.0",
       "_model_name": "LayoutModel",
       "_view_count": null,
       "_view_module": "@jupyter-widgets/base",
       "_view_module_version": "1.2.0",
       "_view_name": "LayoutView",
       "align_content": null,
       "align_items": "center",
       "align_self": null,
       "border": null,
       "bottom": null,
       "display": null,
       "flex": null,
       "flex_flow": null,
       "grid_area": null,
       "grid_auto_columns": null,
       "grid_auto_flow": null,
       "grid_auto_rows": null,
       "grid_column": null,
       "grid_gap": null,
       "grid_row": null,
       "grid_template_areas": null,
       "grid_template_columns": null,
       "grid_template_rows": null,
       "height": null,
       "justify_content": null,
       "justify_items": null,
       "left": null,
       "margin": null,
       "max_height": null,
       "max_width": null,
       "min_height": null,
       "min_width": null,
       "object_fit": null,
       "object_position": null,
       "order": null,
       "overflow": null,
       "overflow_x": null,
       "overflow_y": null,
       "padding": null,
       "right": null,
       "top": null,
       "visibility": null,
       "width": null
      }
     },
     "ab17afc069ba4e0fa0e20223ea110a46": {
      "model_module": "@jupyter-widgets/base",
      "model_module_version": "1.2.0",
      "model_name": "LayoutModel",
      "state": {
       "_model_module": "@jupyter-widgets/base",
       "_model_module_version": "1.2.0",
       "_model_name": "LayoutModel",
       "_view_count": null,
       "_view_module": "@jupyter-widgets/base",
       "_view_module_version": "1.2.0",
       "_view_name": "LayoutView",
       "align_content": null,
       "align_items": null,
       "align_self": null,
       "border": null,
       "bottom": null,
       "display": null,
       "flex": null,
       "flex_flow": null,
       "grid_area": null,
       "grid_auto_columns": null,
       "grid_auto_flow": null,
       "grid_auto_rows": null,
       "grid_column": null,
       "grid_gap": null,
       "grid_row": null,
       "grid_template_areas": null,
       "grid_template_columns": null,
       "grid_template_rows": null,
       "height": null,
       "justify_content": null,
       "justify_items": null,
       "left": null,
       "margin": null,
       "max_height": null,
       "max_width": null,
       "min_height": null,
       "min_width": null,
       "object_fit": null,
       "object_position": null,
       "order": null,
       "overflow": null,
       "overflow_x": null,
       "overflow_y": null,
       "padding": null,
       "right": null,
       "top": null,
       "visibility": null,
       "width": null
      }
     },
     "add649ea55434b349d09d9e56d6007db": {
      "model_module": "@jupyter-widgets/base",
      "model_module_version": "1.2.0",
      "model_name": "LayoutModel",
      "state": {
       "_model_module": "@jupyter-widgets/base",
       "_model_module_version": "1.2.0",
       "_model_name": "LayoutModel",
       "_view_count": null,
       "_view_module": "@jupyter-widgets/base",
       "_view_module_version": "1.2.0",
       "_view_name": "LayoutView",
       "align_content": null,
       "align_items": null,
       "align_self": null,
       "border": null,
       "bottom": null,
       "display": null,
       "flex": null,
       "flex_flow": null,
       "grid_area": null,
       "grid_auto_columns": null,
       "grid_auto_flow": null,
       "grid_auto_rows": null,
       "grid_column": null,
       "grid_gap": null,
       "grid_row": null,
       "grid_template_areas": null,
       "grid_template_columns": null,
       "grid_template_rows": null,
       "height": null,
       "justify_content": null,
       "justify_items": null,
       "left": null,
       "margin": null,
       "max_height": null,
       "max_width": null,
       "min_height": null,
       "min_width": null,
       "object_fit": null,
       "object_position": null,
       "order": null,
       "overflow": null,
       "overflow_x": null,
       "overflow_y": null,
       "padding": null,
       "right": null,
       "top": null,
       "visibility": null,
       "width": null
      }
     },
     "b02932b5e5b749ad86d8199c9297076f": {
      "model_module": "@jupyter-widgets/base",
      "model_module_version": "1.2.0",
      "model_name": "LayoutModel",
      "state": {
       "_model_module": "@jupyter-widgets/base",
       "_model_module_version": "1.2.0",
       "_model_name": "LayoutModel",
       "_view_count": null,
       "_view_module": "@jupyter-widgets/base",
       "_view_module_version": "1.2.0",
       "_view_name": "LayoutView",
       "align_content": null,
       "align_items": null,
       "align_self": null,
       "border": null,
       "bottom": null,
       "display": null,
       "flex": null,
       "flex_flow": null,
       "grid_area": null,
       "grid_auto_columns": null,
       "grid_auto_flow": null,
       "grid_auto_rows": null,
       "grid_column": null,
       "grid_gap": null,
       "grid_row": null,
       "grid_template_areas": null,
       "grid_template_columns": null,
       "grid_template_rows": null,
       "height": null,
       "justify_content": null,
       "justify_items": null,
       "left": null,
       "margin": null,
       "max_height": null,
       "max_width": null,
       "min_height": null,
       "min_width": null,
       "object_fit": null,
       "object_position": null,
       "order": null,
       "overflow": null,
       "overflow_x": null,
       "overflow_y": null,
       "padding": null,
       "right": null,
       "top": null,
       "visibility": null,
       "width": null
      }
     },
     "b2824c7978a64ac2b03f47372394a2a3": {
      "model_module": "@jupyter-widgets/base",
      "model_module_version": "1.2.0",
      "model_name": "LayoutModel",
      "state": {
       "_model_module": "@jupyter-widgets/base",
       "_model_module_version": "1.2.0",
       "_model_name": "LayoutModel",
       "_view_count": null,
       "_view_module": "@jupyter-widgets/base",
       "_view_module_version": "1.2.0",
       "_view_name": "LayoutView",
       "align_content": null,
       "align_items": null,
       "align_self": null,
       "border": null,
       "bottom": null,
       "display": null,
       "flex": null,
       "flex_flow": null,
       "grid_area": null,
       "grid_auto_columns": null,
       "grid_auto_flow": null,
       "grid_auto_rows": null,
       "grid_column": null,
       "grid_gap": null,
       "grid_row": null,
       "grid_template_areas": null,
       "grid_template_columns": null,
       "grid_template_rows": null,
       "height": "50px",
       "justify_content": null,
       "justify_items": null,
       "left": null,
       "margin": null,
       "max_height": null,
       "max_width": null,
       "min_height": null,
       "min_width": null,
       "object_fit": null,
       "object_position": null,
       "order": null,
       "overflow": null,
       "overflow_x": null,
       "overflow_y": null,
       "padding": null,
       "right": null,
       "top": null,
       "visibility": null,
       "width": "90%"
      }
     },
     "b30ccdea2d6143f783539a2f22cd2618": {
      "model_module": "@jupyter-widgets/controls",
      "model_module_version": "1.5.0",
      "model_name": "IntSliderModel",
      "state": {
       "_dom_classes": [],
       "_model_module": "@jupyter-widgets/controls",
       "_model_module_version": "1.5.0",
       "_model_name": "IntSliderModel",
       "_view_count": null,
       "_view_module": "@jupyter-widgets/controls",
       "_view_module_version": "1.5.0",
       "_view_name": "IntSliderView",
       "continuous_update": true,
       "description": "k",
       "description_tooltip": null,
       "disabled": false,
       "layout": "IPY_MODEL_97a20d9bc93c4e1b9ec428ddc351e107",
       "max": 50,
       "min": 1,
       "orientation": "horizontal",
       "readout": true,
       "readout_format": "d",
       "step": 1,
       "style": "IPY_MODEL_34eb9485f7fd4d4daa8bb5a3ec516508",
       "value": 10
      }
     },
     "b5276e290f9845dea04624364f97a289": {
      "model_module": "@jupyter-widgets/base",
      "model_module_version": "1.2.0",
      "model_name": "LayoutModel",
      "state": {
       "_model_module": "@jupyter-widgets/base",
       "_model_module_version": "1.2.0",
       "_model_name": "LayoutModel",
       "_view_count": null,
       "_view_module": "@jupyter-widgets/base",
       "_view_module_version": "1.2.0",
       "_view_name": "LayoutView",
       "align_content": null,
       "align_items": null,
       "align_self": null,
       "border": null,
       "bottom": null,
       "display": null,
       "flex": null,
       "flex_flow": null,
       "grid_area": null,
       "grid_auto_columns": null,
       "grid_auto_flow": null,
       "grid_auto_rows": null,
       "grid_column": null,
       "grid_gap": null,
       "grid_row": null,
       "grid_template_areas": null,
       "grid_template_columns": null,
       "grid_template_rows": null,
       "height": null,
       "justify_content": null,
       "justify_items": null,
       "left": null,
       "margin": null,
       "max_height": null,
       "max_width": null,
       "min_height": null,
       "min_width": null,
       "object_fit": null,
       "object_position": null,
       "order": null,
       "overflow": null,
       "overflow_x": null,
       "overflow_y": null,
       "padding": null,
       "right": null,
       "top": null,
       "visibility": null,
       "width": null
      }
     },
     "b65fe2fc6e154aa0a9af7a8c2d30a2f9": {
      "model_module": "@jupyter-widgets/base",
      "model_module_version": "1.2.0",
      "model_name": "LayoutModel",
      "state": {
       "_model_module": "@jupyter-widgets/base",
       "_model_module_version": "1.2.0",
       "_model_name": "LayoutModel",
       "_view_count": null,
       "_view_module": "@jupyter-widgets/base",
       "_view_module_version": "1.2.0",
       "_view_name": "LayoutView",
       "align_content": null,
       "align_items": "center",
       "align_self": null,
       "border": null,
       "bottom": null,
       "display": null,
       "flex": null,
       "flex_flow": null,
       "grid_area": null,
       "grid_auto_columns": null,
       "grid_auto_flow": null,
       "grid_auto_rows": null,
       "grid_column": null,
       "grid_gap": null,
       "grid_row": null,
       "grid_template_areas": null,
       "grid_template_columns": null,
       "grid_template_rows": null,
       "height": null,
       "justify_content": null,
       "justify_items": null,
       "left": null,
       "margin": null,
       "max_height": null,
       "max_width": null,
       "min_height": null,
       "min_width": null,
       "object_fit": null,
       "object_position": null,
       "order": null,
       "overflow": null,
       "overflow_x": null,
       "overflow_y": null,
       "padding": null,
       "right": null,
       "top": null,
       "visibility": null,
       "width": null
      }
     },
     "b727d0c3a5864e3a8b695c6d533b8977": {
      "model_module": "@jupyter-widgets/base",
      "model_module_version": "1.2.0",
      "model_name": "LayoutModel",
      "state": {
       "_model_module": "@jupyter-widgets/base",
       "_model_module_version": "1.2.0",
       "_model_name": "LayoutModel",
       "_view_count": null,
       "_view_module": "@jupyter-widgets/base",
       "_view_module_version": "1.2.0",
       "_view_name": "LayoutView",
       "align_content": null,
       "align_items": null,
       "align_self": null,
       "border": null,
       "bottom": null,
       "display": null,
       "flex": null,
       "flex_flow": null,
       "grid_area": null,
       "grid_auto_columns": null,
       "grid_auto_flow": null,
       "grid_auto_rows": null,
       "grid_column": null,
       "grid_gap": null,
       "grid_row": null,
       "grid_template_areas": null,
       "grid_template_columns": null,
       "grid_template_rows": null,
       "height": null,
       "justify_content": null,
       "justify_items": null,
       "left": null,
       "margin": null,
       "max_height": null,
       "max_width": null,
       "min_height": null,
       "min_width": null,
       "object_fit": null,
       "object_position": null,
       "order": null,
       "overflow": null,
       "overflow_x": null,
       "overflow_y": null,
       "padding": null,
       "right": null,
       "top": null,
       "visibility": null,
       "width": null
      }
     },
     "bac12a152d0b40f095c22a5ecee42911": {
      "model_module": "@jupyter-widgets/base",
      "model_module_version": "1.2.0",
      "model_name": "LayoutModel",
      "state": {
       "_model_module": "@jupyter-widgets/base",
       "_model_module_version": "1.2.0",
       "_model_name": "LayoutModel",
       "_view_count": null,
       "_view_module": "@jupyter-widgets/base",
       "_view_module_version": "1.2.0",
       "_view_name": "LayoutView",
       "align_content": null,
       "align_items": null,
       "align_self": null,
       "border": null,
       "bottom": null,
       "display": null,
       "flex": null,
       "flex_flow": null,
       "grid_area": null,
       "grid_auto_columns": null,
       "grid_auto_flow": null,
       "grid_auto_rows": null,
       "grid_column": null,
       "grid_gap": null,
       "grid_row": null,
       "grid_template_areas": null,
       "grid_template_columns": null,
       "grid_template_rows": null,
       "height": null,
       "justify_content": null,
       "justify_items": null,
       "left": null,
       "margin": null,
       "max_height": null,
       "max_width": null,
       "min_height": null,
       "min_width": null,
       "object_fit": null,
       "object_position": null,
       "order": null,
       "overflow": null,
       "overflow_x": null,
       "overflow_y": null,
       "padding": null,
       "right": null,
       "top": null,
       "visibility": null,
       "width": null
      }
     },
     "bc54115e9d004d338d812ce5eb2a9c8e": {
      "model_module": "@jupyter-widgets/base",
      "model_module_version": "1.2.0",
      "model_name": "LayoutModel",
      "state": {
       "_model_module": "@jupyter-widgets/base",
       "_model_module_version": "1.2.0",
       "_model_name": "LayoutModel",
       "_view_count": null,
       "_view_module": "@jupyter-widgets/base",
       "_view_module_version": "1.2.0",
       "_view_name": "LayoutView",
       "align_content": null,
       "align_items": null,
       "align_self": null,
       "border": null,
       "bottom": null,
       "display": null,
       "flex": null,
       "flex_flow": null,
       "grid_area": null,
       "grid_auto_columns": null,
       "grid_auto_flow": null,
       "grid_auto_rows": null,
       "grid_column": null,
       "grid_gap": null,
       "grid_row": null,
       "grid_template_areas": null,
       "grid_template_columns": null,
       "grid_template_rows": null,
       "height": null,
       "justify_content": null,
       "justify_items": null,
       "left": null,
       "margin": null,
       "max_height": null,
       "max_width": null,
       "min_height": null,
       "min_width": null,
       "object_fit": null,
       "object_position": null,
       "order": null,
       "overflow": null,
       "overflow_x": null,
       "overflow_y": null,
       "padding": null,
       "right": null,
       "top": null,
       "visibility": null,
       "width": null
      }
     },
     "c3c1d03b705e4e73b5728f26650459f2": {
      "model_module": "@jupyter-widgets/controls",
      "model_module_version": "1.5.0",
      "model_name": "IntSliderModel",
      "state": {
       "_dom_classes": [],
       "_model_module": "@jupyter-widgets/controls",
       "_model_module_version": "1.5.0",
       "_model_name": "IntSliderModel",
       "_view_count": null,
       "_view_module": "@jupyter-widgets/controls",
       "_view_module_version": "1.5.0",
       "_view_name": "IntSliderView",
       "continuous_update": true,
       "description": "k",
       "description_tooltip": null,
       "disabled": false,
       "layout": "IPY_MODEL_03b91377995448eea9e8b9959a953497",
       "max": 50,
       "min": 1,
       "orientation": "horizontal",
       "readout": true,
       "readout_format": "d",
       "step": 1,
       "style": "IPY_MODEL_433345b7b16547b6af441adf94df7eb6",
       "value": 10
      }
     },
     "cd180f0f8f2947e188d8b8fc8e006188": {
      "model_module": "@jupyter-widgets/controls",
      "model_module_version": "1.5.0",
      "model_name": "CheckboxModel",
      "state": {
       "_dom_classes": [],
       "_model_module": "@jupyter-widgets/controls",
       "_model_module_version": "1.5.0",
       "_model_name": "CheckboxModel",
       "_view_count": null,
       "_view_module": "@jupyter-widgets/controls",
       "_view_module_version": "1.5.0",
       "_view_name": "CheckboxView",
       "description": "Only COVID-19-Papers",
       "description_tooltip": null,
       "disabled": false,
       "indent": false,
       "layout": "IPY_MODEL_2aa4d2ee8a4d49159b26c2f732621a9c",
       "style": "IPY_MODEL_1e73acb273bf4c84bb63d6fac0d71668",
       "value": true
      }
     },
     "d1c5370e7ce14461bef8613fcaad949b": {
      "model_module": "@jupyter-widgets/output",
      "model_module_version": "1.0.0",
      "model_name": "OutputModel",
      "state": {
       "_dom_classes": [],
       "_model_module": "@jupyter-widgets/output",
       "_model_module_version": "1.0.0",
       "_model_name": "OutputModel",
       "_view_count": null,
       "_view_module": "@jupyter-widgets/output",
       "_view_module_version": "1.0.0",
       "_view_name": "OutputView",
       "layout": "IPY_MODEL_194013b03a9f4ba2887b8a01464a17c8",
       "msg_id": "",
       "outputs": []
      }
     },
     "d2eeca79ad94406d8bb3feeb22794cf5": {
      "model_module": "@jupyter-widgets/base",
      "model_module_version": "1.2.0",
      "model_name": "LayoutModel",
      "state": {
       "_model_module": "@jupyter-widgets/base",
       "_model_module_version": "1.2.0",
       "_model_name": "LayoutModel",
       "_view_count": null,
       "_view_module": "@jupyter-widgets/base",
       "_view_module_version": "1.2.0",
       "_view_name": "LayoutView",
       "align_content": null,
       "align_items": null,
       "align_self": null,
       "border": null,
       "bottom": null,
       "display": null,
       "flex": null,
       "flex_flow": null,
       "grid_area": null,
       "grid_auto_columns": null,
       "grid_auto_flow": null,
       "grid_auto_rows": null,
       "grid_column": null,
       "grid_gap": null,
       "grid_row": null,
       "grid_template_areas": null,
       "grid_template_columns": null,
       "grid_template_rows": null,
       "height": "200px",
       "justify_content": null,
       "justify_items": null,
       "left": null,
       "margin": null,
       "max_height": null,
       "max_width": null,
       "min_height": null,
       "min_width": null,
       "object_fit": null,
       "object_position": null,
       "order": null,
       "overflow": null,
       "overflow_x": null,
       "overflow_y": null,
       "padding": null,
       "right": null,
       "top": null,
       "visibility": null,
       "width": "90%"
      }
     },
     "d5a26fc999a94b168bb91a8e8901868b": {
      "model_module": "@jupyter-widgets/base",
      "model_module_version": "1.2.0",
      "model_name": "LayoutModel",
      "state": {
       "_model_module": "@jupyter-widgets/base",
       "_model_module_version": "1.2.0",
       "_model_name": "LayoutModel",
       "_view_count": null,
       "_view_module": "@jupyter-widgets/base",
       "_view_module_version": "1.2.0",
       "_view_name": "LayoutView",
       "align_content": null,
       "align_items": null,
       "align_self": null,
       "border": null,
       "bottom": null,
       "display": null,
       "flex": null,
       "flex_flow": null,
       "grid_area": null,
       "grid_auto_columns": null,
       "grid_auto_flow": null,
       "grid_auto_rows": null,
       "grid_column": null,
       "grid_gap": null,
       "grid_row": null,
       "grid_template_areas": null,
       "grid_template_columns": null,
       "grid_template_rows": null,
       "height": null,
       "justify_content": null,
       "justify_items": null,
       "left": null,
       "margin": null,
       "max_height": null,
       "max_width": null,
       "min_height": null,
       "min_width": null,
       "object_fit": null,
       "object_position": null,
       "order": null,
       "overflow": null,
       "overflow_x": null,
       "overflow_y": null,
       "padding": null,
       "right": null,
       "top": null,
       "visibility": null,
       "width": "40%"
      }
     },
     "e30192947cef4b6081e7f1f7a08ea498": {
      "model_module": "@jupyter-widgets/controls",
      "model_module_version": "1.5.0",
      "model_name": "TabModel",
      "state": {
       "_dom_classes": [],
       "_model_module": "@jupyter-widgets/controls",
       "_model_module_version": "1.5.0",
       "_model_name": "TabModel",
       "_titles": {
        "0": "Paper 1",
        "1": "Paper 2",
        "2": "Paper 3",
        "3": "Paper 4",
        "4": "Paper 5"
       },
       "_view_count": null,
       "_view_module": "@jupyter-widgets/controls",
       "_view_module_version": "1.5.0",
       "_view_name": "TabView",
       "box_style": "",
       "children": [
        "IPY_MODEL_4713187edfeb460ca80291b321fd3a5e",
        "IPY_MODEL_5086ebdac6dc4c7b902a39aeb8cdb515",
        "IPY_MODEL_4cc876201ebe4041a2b156580561a476",
        "IPY_MODEL_6c023351225a46a3b2ce7fdc5ba74c12",
        "IPY_MODEL_40e7bdab7498476aa9631860123dc6c4"
       ],
       "layout": "IPY_MODEL_9393b390cac84989b2be92d7f3ae1a19",
       "selected_index": 0
      }
     },
     "e55e793ebe74473bb5f341dfc37a3af0": {
      "model_module": "@jupyter-widgets/controls",
      "model_module_version": "1.5.0",
      "model_name": "VBoxModel",
      "state": {
       "_dom_classes": [],
       "_model_module": "@jupyter-widgets/controls",
       "_model_module_version": "1.5.0",
       "_model_name": "VBoxModel",
       "_view_count": null,
       "_view_module": "@jupyter-widgets/controls",
       "_view_module_version": "1.5.0",
       "_view_name": "VBoxView",
       "box_style": "",
       "children": [
        "IPY_MODEL_84f9d4d335bb4894b9af07b36b207888",
        "IPY_MODEL_5545c2130eb34242b043c770d0d986eb",
        "IPY_MODEL_29d4254b494a43a8bda56698d53f7bfa"
       ],
       "layout": "IPY_MODEL_a820a7d58ce44f71b8f799d40695cce8"
      }
     },
     "eb40b244758d4bb58c1d68c51e7d6101": {
      "model_module": "@jupyter-widgets/output",
      "model_module_version": "1.0.0",
      "model_name": "OutputModel",
      "state": {
       "_dom_classes": [],
       "_model_module": "@jupyter-widgets/output",
       "_model_module_version": "1.0.0",
       "_model_name": "OutputModel",
       "_view_count": null,
       "_view_module": "@jupyter-widgets/output",
       "_view_module_version": "1.0.0",
       "_view_name": "OutputView",
       "layout": "IPY_MODEL_439f247fb96f4662b84cb353a9fe8228",
       "msg_id": "",
       "outputs": []
      }
     },
     "edfd22e33c2f4c05aac69797c34f85cb": {
      "model_module": "@jupyter-widgets/output",
      "model_module_version": "1.0.0",
      "model_name": "OutputModel",
      "state": {
       "_dom_classes": [],
       "_model_module": "@jupyter-widgets/output",
       "_model_module_version": "1.0.0",
       "_model_name": "OutputModel",
       "_view_count": null,
       "_view_module": "@jupyter-widgets/output",
       "_view_module_version": "1.0.0",
       "_view_name": "OutputView",
       "layout": "IPY_MODEL_131835262bd54ef48f166c1f2003fb2e",
       "msg_id": "",
       "outputs": []
      }
     },
     "eeea6f6dbd0348649f07aabcb0af8984": {
      "model_module": "@jupyter-widgets/base",
      "model_module_version": "1.2.0",
      "model_name": "LayoutModel",
      "state": {
       "_model_module": "@jupyter-widgets/base",
       "_model_module_version": "1.2.0",
       "_model_name": "LayoutModel",
       "_view_count": null,
       "_view_module": "@jupyter-widgets/base",
       "_view_module_version": "1.2.0",
       "_view_name": "LayoutView",
       "align_content": null,
       "align_items": null,
       "align_self": null,
       "border": null,
       "bottom": null,
       "display": null,
       "flex": null,
       "flex_flow": null,
       "grid_area": null,
       "grid_auto_columns": null,
       "grid_auto_flow": null,
       "grid_auto_rows": null,
       "grid_column": null,
       "grid_gap": null,
       "grid_row": null,
       "grid_template_areas": null,
       "grid_template_columns": null,
       "grid_template_rows": null,
       "height": null,
       "justify_content": null,
       "justify_items": null,
       "left": null,
       "margin": null,
       "max_height": null,
       "max_width": null,
       "min_height": null,
       "min_width": null,
       "object_fit": null,
       "object_position": null,
       "order": null,
       "overflow": null,
       "overflow_x": null,
       "overflow_y": null,
       "padding": null,
       "right": null,
       "top": null,
       "visibility": null,
       "width": "40%"
      }
     },
     "f0cd9b8f529d46d9882e9ad142a78ad2": {
      "model_module": "@jupyter-widgets/base",
      "model_module_version": "1.2.0",
      "model_name": "LayoutModel",
      "state": {
       "_model_module": "@jupyter-widgets/base",
       "_model_module_version": "1.2.0",
       "_model_name": "LayoutModel",
       "_view_count": null,
       "_view_module": "@jupyter-widgets/base",
       "_view_module_version": "1.2.0",
       "_view_name": "LayoutView",
       "align_content": null,
       "align_items": null,
       "align_self": null,
       "border": null,
       "bottom": null,
       "display": null,
       "flex": null,
       "flex_flow": null,
       "grid_area": null,
       "grid_auto_columns": null,
       "grid_auto_flow": null,
       "grid_auto_rows": null,
       "grid_column": null,
       "grid_gap": null,
       "grid_row": null,
       "grid_template_areas": null,
       "grid_template_columns": null,
       "grid_template_rows": null,
       "height": "200px",
       "justify_content": null,
       "justify_items": null,
       "left": null,
       "margin": null,
       "max_height": null,
       "max_width": null,
       "min_height": null,
       "min_width": null,
       "object_fit": null,
       "object_position": null,
       "order": null,
       "overflow": null,
       "overflow_x": null,
       "overflow_y": null,
       "padding": null,
       "right": null,
       "top": null,
       "visibility": null,
       "width": "90%"
      }
     },
     "f42e5ceda0fa408fb0851a8858b0a264": {
      "model_module": "@jupyter-widgets/output",
      "model_module_version": "1.0.0",
      "model_name": "OutputModel",
      "state": {
       "_dom_classes": [],
       "_model_module": "@jupyter-widgets/output",
       "_model_module_version": "1.0.0",
       "_model_name": "OutputModel",
       "_view_count": null,
       "_view_module": "@jupyter-widgets/output",
       "_view_module_version": "1.0.0",
       "_view_name": "OutputView",
       "layout": "IPY_MODEL_add649ea55434b349d09d9e56d6007db",
       "msg_id": "",
       "outputs": []
      }
     },
     "f58613aad5904658ab0a93e82b43dc97": {
      "model_module": "@jupyter-widgets/base",
      "model_module_version": "1.2.0",
      "model_name": "LayoutModel",
      "state": {
       "_model_module": "@jupyter-widgets/base",
       "_model_module_version": "1.2.0",
       "_model_name": "LayoutModel",
       "_view_count": null,
       "_view_module": "@jupyter-widgets/base",
       "_view_module_version": "1.2.0",
       "_view_name": "LayoutView",
       "align_content": null,
       "align_items": null,
       "align_self": null,
       "border": null,
       "bottom": null,
       "display": null,
       "flex": null,
       "flex_flow": null,
       "grid_area": null,
       "grid_auto_columns": null,
       "grid_auto_flow": null,
       "grid_auto_rows": null,
       "grid_column": null,
       "grid_gap": null,
       "grid_row": null,
       "grid_template_areas": null,
       "grid_template_columns": null,
       "grid_template_rows": null,
       "height": null,
       "justify_content": null,
       "justify_items": null,
       "left": null,
       "margin": null,
       "max_height": null,
       "max_width": null,
       "min_height": null,
       "min_width": null,
       "object_fit": null,
       "object_position": null,
       "order": null,
       "overflow": null,
       "overflow_x": null,
       "overflow_y": null,
       "padding": null,
       "right": null,
       "top": null,
       "visibility": null,
       "width": null
      }
     },
     "f5f99472340340f8aa2c05a7bcc81fc4": {
      "model_module": "@jupyter-widgets/controls",
      "model_module_version": "1.5.0",
      "model_name": "ButtonStyleModel",
      "state": {
       "_model_module": "@jupyter-widgets/controls",
       "_model_module_version": "1.5.0",
       "_model_name": "ButtonStyleModel",
       "_view_count": null,
       "_view_module": "@jupyter-widgets/base",
       "_view_module_version": "1.2.0",
       "_view_name": "StyleView",
       "button_color": null,
       "font_weight": ""
      }
     },
     "f87966f790d343678f713ed8a7e64f6b": {
      "model_module": "@jupyter-widgets/controls",
      "model_module_version": "1.5.0",
      "model_name": "SliderStyleModel",
      "state": {
       "_model_module": "@jupyter-widgets/controls",
       "_model_module_version": "1.5.0",
       "_model_name": "SliderStyleModel",
       "_view_count": null,
       "_view_module": "@jupyter-widgets/base",
       "_view_module_version": "1.2.0",
       "_view_name": "StyleView",
       "description_width": "",
       "handle_color": null
      }
     },
     "fefc2807e6cc4f5e89a35dc347158b51": {
      "model_module": "@jupyter-widgets/base",
      "model_module_version": "1.2.0",
      "model_name": "LayoutModel",
      "state": {
       "_model_module": "@jupyter-widgets/base",
       "_model_module_version": "1.2.0",
       "_model_name": "LayoutModel",
       "_view_count": null,
       "_view_module": "@jupyter-widgets/base",
       "_view_module_version": "1.2.0",
       "_view_name": "LayoutView",
       "align_content": null,
       "align_items": null,
       "align_self": null,
       "border": null,
       "bottom": null,
       "display": null,
       "flex": null,
       "flex_flow": null,
       "grid_area": null,
       "grid_auto_columns": null,
       "grid_auto_flow": null,
       "grid_auto_rows": null,
       "grid_column": null,
       "grid_gap": null,
       "grid_row": null,
       "grid_template_areas": null,
       "grid_template_columns": null,
       "grid_template_rows": null,
       "height": null,
       "justify_content": null,
       "justify_items": null,
       "left": null,
       "margin": null,
       "max_height": null,
       "max_width": null,
       "min_height": null,
       "min_width": null,
       "object_fit": null,
       "object_position": null,
       "order": null,
       "overflow": null,
       "overflow_x": null,
       "overflow_y": null,
       "padding": null,
       "right": null,
       "top": null,
       "visibility": null,
       "width": null
      }
     }
    },
    "version_major": 2,
    "version_minor": 0
   }
  }
 },
 "nbformat": 4,
 "nbformat_minor": 4
}
